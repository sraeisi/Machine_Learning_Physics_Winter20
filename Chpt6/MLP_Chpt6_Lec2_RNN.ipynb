{
 "cells": [
  {
   "cell_type": "markdown",
   "metadata": {
    "colab_type": "text",
    "id": "view-in-github"
   },
   "source": [
    "<a href=\"https://colab.research.google.com/github/sraeisi/Machine_Learning_Physics_Winter20/blob/master/Chpt6/MLP_Chpt6_Lec1_RNN.ipynb\" target=\"_parent\"><img src=\"https://colab.research.google.com/assets/colab-badge.svg\" alt=\"Open In Colab\"/></a>"
   ]
  },
  {
   "cell_type": "code",
   "execution_count": 2,
   "metadata": {
    "ExecuteTime": {
     "end_time": "2020-05-31T06:44:39.870894Z",
     "start_time": "2020-05-31T06:44:39.857903Z"
    },
    "colab": {
     "base_uri": "https://localhost:8080/",
     "height": 34
    },
    "colab_type": "code",
    "id": "H7-2Udr4gCLs",
    "init_cell": true,
    "outputId": "1985ded0-f644-4335-cf56-f80b88d0ba68"
   },
   "outputs": [],
   "source": [
    "import numpy as np\n",
    "import pandas as pd\n",
    "import matplotlib.pyplot as plt\n",
    "plt.style.use('seaborn-talk')\n",
    "\n",
    "from urllib.request import urlopen\n",
    "from imageio import imread\n",
    "import requests\n",
    "import io\n",
    "from time import time\n",
    "\n",
    "import cv2 \n",
    "import os, shutil\n",
    "\n",
    "\n",
    "import warnings\n",
    "warnings.filterwarnings('ignore')"
   ]
  },
  {
   "cell_type": "code",
   "execution_count": 15,
   "metadata": {
    "ExecuteTime": {
     "end_time": "2020-06-02T08:37:58.732142Z",
     "start_time": "2020-06-02T08:37:58.714698Z"
    }
   },
   "outputs": [
    {
     "name": "stdout",
     "output_type": "stream",
     "text": [
      "Running on GPU ...\n"
     ]
    }
   ],
   "source": [
    "import numpy as np\n",
    "import pandas as pd\n",
    "import matplotlib.pyplot as plt\n",
    "plt.style.use('seaborn-talk')\n",
    "\n",
    "from urllib.request import urlopen\n",
    "from imageio import imread\n",
    "import requests\n",
    "import io\n",
    "from time import time\n",
    "\n",
    "import cv2 \n",
    "import os, shutil\n",
    "\n",
    "\n",
    "import warnings\n",
    "warnings.filterwarnings('ignore')\n",
    "\n",
    "# TensorFlow and tf.keras\n",
    "import tensorflow as tf\n",
    "from tensorflow import keras\n",
    "from tensorflow.keras import layers, models\n",
    "from tensorflow.keras.layers import LSTM, SimpleRNN, GRU, Dense, Dropout, TimeDistributed\n",
    "# %load_ext tensorboard\n",
    "\n",
    "gpus = tf.config.experimental.list_physical_devices('GPU')\n",
    "if len(gpus)>0:\n",
    "    tf.config.experimental.set_memory_growth(gpus[0] , True)\n",
    "    print('Running on GPU ...')\n",
    "else:\n",
    "    print('Running on CPU ...')\n",
    "\n",
    "from tensorflow.keras.layers import LSTM, RNN, GRU, Dense, Dropout, TimeDistributed\n",
    "from tensorflow.keras import layers\n",
    "from tensorflow.keras import models"
   ]
  },
  {
   "cell_type": "code",
   "execution_count": 2,
   "metadata": {
    "ExecuteTime": {
     "end_time": "2020-06-02T08:23:39.441267Z",
     "start_time": "2020-06-02T08:23:39.434285Z"
    },
    "colab": {},
    "colab_type": "code",
    "id": "-0kEFBVUgCLw",
    "init_cell": true
   },
   "outputs": [],
   "source": [
    "n_ts = 6  ## Length of each time sequence or the forcast window\n",
    "n_f = 1\n",
    "n_prediction = 60"
   ]
  },
  {
   "cell_type": "markdown",
   "metadata": {
    "colab_type": "text",
    "id": "-Zi5qcLOgCMQ"
   },
   "source": [
    "# Univariate RNN"
   ]
  },
  {
   "cell_type": "markdown",
   "metadata": {
    "colab_type": "text",
    "heading_collapsed": true,
    "id": "UFfSLFwHgCLy"
   },
   "source": [
    "### Data\n",
    "For this part, we use the sunspot data. This data contains the mean value of the number of sunspots for each month from 1749. \n",
    "\n",
    "You can find more information about this dataset from [SIDC](http://www.sidc.be/silso/ssngraphics). "
   ]
  },
  {
   "cell_type": "code",
   "execution_count": 3,
   "metadata": {
    "ExecuteTime": {
     "end_time": "2020-06-02T08:23:39.574910Z",
     "start_time": "2020-06-02T08:23:39.469192Z"
    },
    "colab": {
     "base_uri": "https://localhost:8080/",
     "height": 235
    },
    "colab_type": "code",
    "hidden": true,
    "id": "kNIkfWN2gCLz",
    "init_cell": true,
    "outputId": "10f487f8-4bf8-451b-e943-698dcd0537a9"
   },
   "outputs": [
    {
     "data": {
      "text/html": [
       "<div>\n",
       "<style scoped>\n",
       "    .dataframe tbody tr th:only-of-type {\n",
       "        vertical-align: middle;\n",
       "    }\n",
       "\n",
       "    .dataframe tbody tr th {\n",
       "        vertical-align: top;\n",
       "    }\n",
       "\n",
       "    .dataframe thead th {\n",
       "        text-align: right;\n",
       "    }\n",
       "</style>\n",
       "<table border=\"1\" class=\"dataframe\">\n",
       "  <thead>\n",
       "    <tr style=\"text-align: right;\">\n",
       "      <th></th>\n",
       "      <th>Sunspots</th>\n",
       "    </tr>\n",
       "    <tr>\n",
       "      <th>Month</th>\n",
       "      <th></th>\n",
       "    </tr>\n",
       "  </thead>\n",
       "  <tbody>\n",
       "    <tr>\n",
       "      <th>1749-01</th>\n",
       "      <td>58.0</td>\n",
       "    </tr>\n",
       "    <tr>\n",
       "      <th>1749-02</th>\n",
       "      <td>62.6</td>\n",
       "    </tr>\n",
       "    <tr>\n",
       "      <th>1749-03</th>\n",
       "      <td>70.0</td>\n",
       "    </tr>\n",
       "    <tr>\n",
       "      <th>1749-04</th>\n",
       "      <td>55.7</td>\n",
       "    </tr>\n",
       "    <tr>\n",
       "      <th>1749-05</th>\n",
       "      <td>85.0</td>\n",
       "    </tr>\n",
       "  </tbody>\n",
       "</table>\n",
       "</div>"
      ],
      "text/plain": [
       "         Sunspots\n",
       "Month            \n",
       "1749-01      58.0\n",
       "1749-02      62.6\n",
       "1749-03      70.0\n",
       "1749-04      55.7\n",
       "1749-05      85.0"
      ]
     },
     "execution_count": 3,
     "metadata": {},
     "output_type": "execute_result"
    }
   ],
   "source": [
    "data = pd.read_csv('monthly-sunspots.csv', index_col = 0)\n",
    "# import requests, io\n",
    "# url = 'https://raw.githubusercontent.com/sraeisi/Machine_Learning_Physics_Winter20/master/SampleData/monthly-sunspots.csv'\n",
    "# c = requests.get(url, stream=True).content\n",
    "# data = pd.read_csv(io.BytesIO(c), index_col = 0)\n",
    "\n",
    "data.head()"
   ]
  },
  {
   "cell_type": "code",
   "execution_count": 5,
   "metadata": {
    "ExecuteTime": {
     "end_time": "2020-05-26T04:59:28.827006Z",
     "start_time": "2020-05-26T04:59:28.811007Z"
    },
    "colab": {
     "base_uri": "https://localhost:8080/",
     "height": 51
    },
    "colab_type": "code",
    "hidden": true,
    "id": "KVmydEwl4Qxq",
    "outputId": "60425441-158d-4d4f-9586-40ee77266507"
   },
   "outputs": [
    {
     "data": {
      "text/plain": [
       "Sunspots    33.4\n",
       "Name: 1983-12, dtype: float64"
      ]
     },
     "execution_count": 5,
     "metadata": {
      "tags": []
     },
     "output_type": "execute_result"
    }
   ],
   "source": [
    "data.iloc[-1]"
   ]
  },
  {
   "cell_type": "code",
   "execution_count": 0,
   "metadata": {
    "ExecuteTime": {
     "end_time": "2020-05-26T05:00:31.315479Z",
     "start_time": "2020-05-26T04:59:29.999540Z"
    },
    "colab": {
     "base_uri": "https://localhost:8080/",
     "height": 269
    },
    "colab_type": "code",
    "hidden": true,
    "id": "1oPnIq4zgCL4",
    "outputId": "e1062530-130b-4164-c8f9-35e6f694d335"
   },
   "outputs": [
    {
     "data": {
      "image/png": "[encoded data removed]",
      "text/plain": [
       "<Figure size 432x288 with 1 Axes>"
      ]
     },
     "metadata": {
      "needs_background": "light",
      "tags": []
     },
     "output_type": "display_data"
    }
   ],
   "source": [
    "'''\n",
    "Let's first plot the data to see if it does have a trend. \n",
    "'''\n",
    "plt.plot(data.Sunspots)\n",
    "plt.title = 'Sunspots in time'\n",
    "plt.xlabel = 'Time (in month)'\n",
    "plt.ylabel = 'Sunspots'\n",
    "plt.show()"
   ]
  },
  {
   "cell_type": "code",
   "execution_count": 0,
   "metadata": {
    "ExecuteTime": {
     "end_time": "2019-05-26T09:09:46.892120Z",
     "start_time": "2019-05-26T09:09:46.867126Z"
    },
    "colab": {
     "base_uri": "https://localhost:8080/",
     "height": 34
    },
    "colab_type": "code",
    "hidden": true,
    "id": "umRDiS-WgCL7",
    "init_cell": true,
    "outputId": "077860b6-056c-4d12-d9f1-03eae493ac24"
   },
   "outputs": [
    {
     "name": "stdout",
     "output_type": "stream",
     "text": [
      "The maximum value is 253.8\n"
     ]
    }
   ],
   "source": [
    "'''\n",
    "As usuall, it is important to standardize/normalize the data. \n",
    "'''\n",
    "\n",
    "print(f'The maximum value is {data.Sunspots.max()}')\n",
    "data.Sunspots = data.Sunspots/data.Sunspots.max()"
   ]
  },
  {
   "cell_type": "markdown",
   "metadata": {
    "colab_type": "text",
    "heading_collapsed": true,
    "id": "Olv33-QwgCL-"
   },
   "source": [
    "### Generating the time-sequences"
   ]
  },
  {
   "cell_type": "code",
   "execution_count": 5,
   "metadata": {
    "ExecuteTime": {
     "end_time": "2020-05-31T06:45:50.120783Z",
     "start_time": "2020-05-31T06:45:50.105928Z"
    },
    "colab": {},
    "colab_type": "code",
    "hidden": true,
    "id": "c_ewfHi1gCL_",
    "init_cell": true
   },
   "outputs": [],
   "source": [
    "'''\n",
    "The data in its current format, is not suitable for training a NN. \n",
    "We need to make the time-sequeces. \n",
    "For this, we add new columns to the dataframe and each new col \n",
    "is the same data but shifted. We create n_ts cols to collect\n",
    "all the past n_ts data for each row. \n",
    "The output is a square matrix where each row is a time sequence. \n",
    "We also use the actual value as the target. \n",
    "'''\n",
    "def prepare_time_seqs(data):\n",
    "    output_df = pd.DataFrame()\n",
    "    for i in range(n_ts):\n",
    "        output_df[i] = data.Sunspots.shift(n_ts-i)\n",
    "    output_df['target'] = data.Sunspots        \n",
    "    return output_df\n"
   ]
  },
  {
   "cell_type": "code",
   "execution_count": 6,
   "metadata": {
    "ExecuteTime": {
     "end_time": "2020-05-31T06:45:54.828073Z",
     "start_time": "2020-05-31T06:45:54.768327Z"
    },
    "colab": {
     "base_uri": "https://localhost:8080/",
     "height": 390
    },
    "colab_type": "code",
    "hidden": true,
    "id": "f3vVsFdGgCMB",
    "init_cell": true,
    "outputId": "9194e724-11eb-430c-df2a-e26e44ef0cc9"
   },
   "outputs": [
    {
     "data": {
      "text/html": [
       "<div>\n",
       "<style scoped>\n",
       "    .dataframe tbody tr th:only-of-type {\n",
       "        vertical-align: middle;\n",
       "    }\n",
       "\n",
       "    .dataframe tbody tr th {\n",
       "        vertical-align: top;\n",
       "    }\n",
       "\n",
       "    .dataframe thead th {\n",
       "        text-align: right;\n",
       "    }\n",
       "</style>\n",
       "<table border=\"1\" class=\"dataframe\">\n",
       "  <thead>\n",
       "    <tr style=\"text-align: right;\">\n",
       "      <th></th>\n",
       "      <th>0</th>\n",
       "      <th>1</th>\n",
       "      <th>2</th>\n",
       "      <th>3</th>\n",
       "      <th>4</th>\n",
       "      <th>5</th>\n",
       "      <th>target</th>\n",
       "    </tr>\n",
       "    <tr>\n",
       "      <th>Month</th>\n",
       "      <th></th>\n",
       "      <th></th>\n",
       "      <th></th>\n",
       "      <th></th>\n",
       "      <th></th>\n",
       "      <th></th>\n",
       "      <th></th>\n",
       "    </tr>\n",
       "  </thead>\n",
       "  <tbody>\n",
       "    <tr>\n",
       "      <th>1749-01</th>\n",
       "      <td>NaN</td>\n",
       "      <td>NaN</td>\n",
       "      <td>NaN</td>\n",
       "      <td>NaN</td>\n",
       "      <td>NaN</td>\n",
       "      <td>NaN</td>\n",
       "      <td>58.0</td>\n",
       "    </tr>\n",
       "    <tr>\n",
       "      <th>1749-02</th>\n",
       "      <td>NaN</td>\n",
       "      <td>NaN</td>\n",
       "      <td>NaN</td>\n",
       "      <td>NaN</td>\n",
       "      <td>NaN</td>\n",
       "      <td>58.0</td>\n",
       "      <td>62.6</td>\n",
       "    </tr>\n",
       "    <tr>\n",
       "      <th>1749-03</th>\n",
       "      <td>NaN</td>\n",
       "      <td>NaN</td>\n",
       "      <td>NaN</td>\n",
       "      <td>NaN</td>\n",
       "      <td>58.0</td>\n",
       "      <td>62.6</td>\n",
       "      <td>70.0</td>\n",
       "    </tr>\n",
       "    <tr>\n",
       "      <th>1749-04</th>\n",
       "      <td>NaN</td>\n",
       "      <td>NaN</td>\n",
       "      <td>NaN</td>\n",
       "      <td>58.0</td>\n",
       "      <td>62.6</td>\n",
       "      <td>70.0</td>\n",
       "      <td>55.7</td>\n",
       "    </tr>\n",
       "    <tr>\n",
       "      <th>1749-05</th>\n",
       "      <td>NaN</td>\n",
       "      <td>NaN</td>\n",
       "      <td>58.0</td>\n",
       "      <td>62.6</td>\n",
       "      <td>70.0</td>\n",
       "      <td>55.7</td>\n",
       "      <td>85.0</td>\n",
       "    </tr>\n",
       "    <tr>\n",
       "      <th>1749-06</th>\n",
       "      <td>NaN</td>\n",
       "      <td>58.0</td>\n",
       "      <td>62.6</td>\n",
       "      <td>70.0</td>\n",
       "      <td>55.7</td>\n",
       "      <td>85.0</td>\n",
       "      <td>83.5</td>\n",
       "    </tr>\n",
       "    <tr>\n",
       "      <th>1749-07</th>\n",
       "      <td>58.0</td>\n",
       "      <td>62.6</td>\n",
       "      <td>70.0</td>\n",
       "      <td>55.7</td>\n",
       "      <td>85.0</td>\n",
       "      <td>83.5</td>\n",
       "      <td>94.8</td>\n",
       "    </tr>\n",
       "    <tr>\n",
       "      <th>1749-08</th>\n",
       "      <td>62.6</td>\n",
       "      <td>70.0</td>\n",
       "      <td>55.7</td>\n",
       "      <td>85.0</td>\n",
       "      <td>83.5</td>\n",
       "      <td>94.8</td>\n",
       "      <td>66.3</td>\n",
       "    </tr>\n",
       "    <tr>\n",
       "      <th>1749-09</th>\n",
       "      <td>70.0</td>\n",
       "      <td>55.7</td>\n",
       "      <td>85.0</td>\n",
       "      <td>83.5</td>\n",
       "      <td>94.8</td>\n",
       "      <td>66.3</td>\n",
       "      <td>75.9</td>\n",
       "    </tr>\n",
       "    <tr>\n",
       "      <th>1749-10</th>\n",
       "      <td>55.7</td>\n",
       "      <td>85.0</td>\n",
       "      <td>83.5</td>\n",
       "      <td>94.8</td>\n",
       "      <td>66.3</td>\n",
       "      <td>75.9</td>\n",
       "      <td>75.5</td>\n",
       "    </tr>\n",
       "  </tbody>\n",
       "</table>\n",
       "</div>"
      ],
      "text/plain": [
       "            0     1     2     3     4     5  target\n",
       "Month                                              \n",
       "1749-01   NaN   NaN   NaN   NaN   NaN   NaN    58.0\n",
       "1749-02   NaN   NaN   NaN   NaN   NaN  58.0    62.6\n",
       "1749-03   NaN   NaN   NaN   NaN  58.0  62.6    70.0\n",
       "1749-04   NaN   NaN   NaN  58.0  62.6  70.0    55.7\n",
       "1749-05   NaN   NaN  58.0  62.6  70.0  55.7    85.0\n",
       "1749-06   NaN  58.0  62.6  70.0  55.7  85.0    83.5\n",
       "1749-07  58.0  62.6  70.0  55.7  85.0  83.5    94.8\n",
       "1749-08  62.6  70.0  55.7  85.0  83.5  94.8    66.3\n",
       "1749-09  70.0  55.7  85.0  83.5  94.8  66.3    75.9\n",
       "1749-10  55.7  85.0  83.5  94.8  66.3  75.9    75.5"
      ]
     },
     "execution_count": 6,
     "metadata": {},
     "output_type": "execute_result"
    }
   ],
   "source": [
    "df = prepare_time_seqs(data)\n",
    "df.head(10)"
   ]
  },
  {
   "cell_type": "code",
   "execution_count": 7,
   "metadata": {
    "ExecuteTime": {
     "end_time": "2020-05-31T06:45:59.084298Z",
     "start_time": "2020-05-31T06:45:59.037045Z"
    },
    "colab": {
     "base_uri": "https://localhost:8080/",
     "height": 235
    },
    "colab_type": "code",
    "hidden": true,
    "id": "UQpmP-CagCME",
    "init_cell": true,
    "outputId": "1d4f11a0-4ab1-419a-d26a-c137b30f35a6"
   },
   "outputs": [
    {
     "data": {
      "text/html": [
       "<div>\n",
       "<style scoped>\n",
       "    .dataframe tbody tr th:only-of-type {\n",
       "        vertical-align: middle;\n",
       "    }\n",
       "\n",
       "    .dataframe tbody tr th {\n",
       "        vertical-align: top;\n",
       "    }\n",
       "\n",
       "    .dataframe thead th {\n",
       "        text-align: right;\n",
       "    }\n",
       "</style>\n",
       "<table border=\"1\" class=\"dataframe\">\n",
       "  <thead>\n",
       "    <tr style=\"text-align: right;\">\n",
       "      <th></th>\n",
       "      <th>0</th>\n",
       "      <th>1</th>\n",
       "      <th>2</th>\n",
       "      <th>3</th>\n",
       "      <th>4</th>\n",
       "      <th>5</th>\n",
       "      <th>target</th>\n",
       "    </tr>\n",
       "    <tr>\n",
       "      <th>Month</th>\n",
       "      <th></th>\n",
       "      <th></th>\n",
       "      <th></th>\n",
       "      <th></th>\n",
       "      <th></th>\n",
       "      <th></th>\n",
       "      <th></th>\n",
       "    </tr>\n",
       "  </thead>\n",
       "  <tbody>\n",
       "    <tr>\n",
       "      <th>1749-07</th>\n",
       "      <td>58.0</td>\n",
       "      <td>62.6</td>\n",
       "      <td>70.0</td>\n",
       "      <td>55.7</td>\n",
       "      <td>85.0</td>\n",
       "      <td>83.5</td>\n",
       "      <td>94.8</td>\n",
       "    </tr>\n",
       "    <tr>\n",
       "      <th>1749-08</th>\n",
       "      <td>62.6</td>\n",
       "      <td>70.0</td>\n",
       "      <td>55.7</td>\n",
       "      <td>85.0</td>\n",
       "      <td>83.5</td>\n",
       "      <td>94.8</td>\n",
       "      <td>66.3</td>\n",
       "    </tr>\n",
       "    <tr>\n",
       "      <th>1749-09</th>\n",
       "      <td>70.0</td>\n",
       "      <td>55.7</td>\n",
       "      <td>85.0</td>\n",
       "      <td>83.5</td>\n",
       "      <td>94.8</td>\n",
       "      <td>66.3</td>\n",
       "      <td>75.9</td>\n",
       "    </tr>\n",
       "    <tr>\n",
       "      <th>1749-10</th>\n",
       "      <td>55.7</td>\n",
       "      <td>85.0</td>\n",
       "      <td>83.5</td>\n",
       "      <td>94.8</td>\n",
       "      <td>66.3</td>\n",
       "      <td>75.9</td>\n",
       "      <td>75.5</td>\n",
       "    </tr>\n",
       "    <tr>\n",
       "      <th>1749-11</th>\n",
       "      <td>85.0</td>\n",
       "      <td>83.5</td>\n",
       "      <td>94.8</td>\n",
       "      <td>66.3</td>\n",
       "      <td>75.9</td>\n",
       "      <td>75.5</td>\n",
       "      <td>158.6</td>\n",
       "    </tr>\n",
       "  </tbody>\n",
       "</table>\n",
       "</div>"
      ],
      "text/plain": [
       "            0     1     2     3     4     5  target\n",
       "Month                                              \n",
       "1749-07  58.0  62.6  70.0  55.7  85.0  83.5    94.8\n",
       "1749-08  62.6  70.0  55.7  85.0  83.5  94.8    66.3\n",
       "1749-09  70.0  55.7  85.0  83.5  94.8  66.3    75.9\n",
       "1749-10  55.7  85.0  83.5  94.8  66.3  75.9    75.5\n",
       "1749-11  85.0  83.5  94.8  66.3  75.9  75.5   158.6"
      ]
     },
     "execution_count": 7,
     "metadata": {},
     "output_type": "execute_result"
    }
   ],
   "source": [
    "'''\n",
    "The shift operator creates some NAN values since for the boundary, \n",
    "there's no value to be shifted forward. \n",
    "We can simply drop them. \n",
    "Note that if you want to increase n_ts, dropping the NaN values \n",
    "could result in significant data loss. \n",
    "'''\n",
    "df.dropna(axis=0, inplace=True)\n",
    "df.head()"
   ]
  },
  {
   "cell_type": "code",
   "execution_count": 99,
   "metadata": {
    "ExecuteTime": {
     "end_time": "2020-05-31T09:27:43.974442Z",
     "start_time": "2020-05-31T09:27:43.955754Z"
    },
    "colab": {
     "base_uri": "https://localhost:8080/",
     "height": 51
    },
    "colab_type": "code",
    "hidden": true,
    "id": "MMlanpwRgCMH",
    "init_cell": true,
    "outputId": "f2039b62-447c-4bd9-d278-3980f496f274"
   },
   "outputs": [
    {
     "name": "stdout",
     "output_type": "stream",
     "text": [
      "(2814, 6)\n"
     ]
    },
    {
     "data": {
      "text/plain": [
       "(2814, 6, 1)"
      ]
     },
     "execution_count": 99,
     "metadata": {},
     "output_type": "execute_result"
    }
   ],
   "source": [
    "'''\n",
    "Next we form the X and Y. \n",
    "It is important to shape X to \n",
    "(n_s, n_ts, n_f)\n",
    "\n",
    "For this example. n_f is one. \n",
    "'''\n",
    "\n",
    "Y = df.target.values\n",
    "Y = Y/Y.max()\n",
    "X = df.drop('target', axis=1).values\n",
    "print(X.shape)\n",
    "X = X.reshape(-1, n_ts, n_f)\n",
    "X.shape"
   ]
  },
  {
   "cell_type": "code",
   "execution_count": 100,
   "metadata": {
    "ExecuteTime": {
     "end_time": "2020-05-31T09:27:46.783898Z",
     "start_time": "2020-05-31T09:27:46.770511Z"
    },
    "colab": {},
    "colab_type": "code",
    "hidden": true,
    "id": "t3HG8DoJgCMK",
    "init_cell": true
   },
   "outputs": [],
   "source": [
    "'''\n",
    "Before generating the train and validation sets, let's \n",
    "hold a portion of the data for prediction. \n",
    "We seperate the data for the last n_prediction \n",
    "months and later test to see how well our model \n",
    "can predict the target for these months. \n",
    "'''\n",
    "X_future = X[-n_prediction:]\n",
    "Y_future = Y[-n_prediction:]\n",
    "\n",
    "X = X[:-n_prediction]\n",
    "Y = Y[:-n_prediction]"
   ]
  },
  {
   "cell_type": "code",
   "execution_count": 101,
   "metadata": {
    "ExecuteTime": {
     "end_time": "2020-05-31T09:27:49.410304Z",
     "start_time": "2020-05-31T09:27:49.386655Z"
    },
    "colab": {
     "base_uri": "https://localhost:8080/",
     "height": 34
    },
    "colab_type": "code",
    "hidden": true,
    "id": "cFpSnYl6gCMN",
    "init_cell": true,
    "outputId": "6827bdde-9bf4-4209-f4df-1960681cd795"
   },
   "outputs": [
    {
     "name": "stdout",
     "output_type": "stream",
     "text": [
      "(2065, 6, 1)\n"
     ]
    }
   ],
   "source": [
    "from sklearn.model_selection import train_test_split\n",
    "X_train, X_test, Y_train, Y_test = train_test_split(X, Y, random_state = 0)\n",
    "print(X_train.shape)"
   ]
  },
  {
   "cell_type": "markdown",
   "metadata": {},
   "source": [
    "### Data: Quick"
   ]
  },
  {
   "cell_type": "code",
   "execution_count": 50,
   "metadata": {
    "ExecuteTime": {
     "end_time": "2020-06-02T09:00:32.188968Z",
     "start_time": "2020-06-02T09:00:32.141940Z"
    }
   },
   "outputs": [],
   "source": [
    "data = pd.read_csv('monthly-sunspots.csv', index_col = 0)\n",
    "data.Sunspots = data.Sunspots/data.Sunspots.max()\n",
    "\n",
    "def prepare_time_seqs(data):\n",
    "    output_df = pd.DataFrame()\n",
    "    for i in range(n_ts):\n",
    "        output_df[i] = data.Sunspots.shift(n_ts-i)\n",
    "    output_df['target'] = data.Sunspots        \n",
    "    return output_df\n",
    "\n",
    "\n",
    "df = prepare_time_seqs(data)\n",
    "df.dropna(axis=0, inplace=True)\n",
    "\n",
    "\n",
    "Y = df.target.values\n",
    "X = df.drop('target', axis=1).values\n",
    "X = X.reshape(-1, n_ts, 1)\n",
    "\n",
    "\n",
    "X_future = X[-n_prediction:]\n",
    "Y_future = Y[-n_prediction:]\n",
    "\n",
    "X = X[:-n_prediction]\n",
    "Y = Y[:-n_prediction]\n",
    "\n",
    "from sklearn.model_selection import train_test_split\n",
    "X_train, X_test, Y_train, Y_test = train_test_split(X, Y, random_state = 0)"
   ]
  },
  {
   "cell_type": "markdown",
   "metadata": {
    "heading_collapsed": true
   },
   "source": [
    "## Many-to-Many"
   ]
  },
  {
   "cell_type": "code",
   "execution_count": 17,
   "metadata": {
    "ExecuteTime": {
     "end_time": "2020-06-02T08:38:57.454654Z",
     "start_time": "2020-06-02T08:38:55.789251Z"
    },
    "hidden": true
   },
   "outputs": [
    {
     "name": "stdout",
     "output_type": "stream",
     "text": [
      "Model: \"sequential_5\"\n",
      "_________________________________________________________________\n",
      "Layer (type)                 Output Shape              Param #   \n",
      "=================================================================\n",
      "lstm_2 (LSTM)                (None, None, 1)           12        \n",
      "_________________________________________________________________\n",
      "time_distributed_1 (TimeDist (None, None, 1)           2         \n",
      "_________________________________________________________________\n",
      "activation (Activation)      (None, None, 1)           0         \n",
      "=================================================================\n",
      "Total params: 14\n",
      "Trainable params: 14\n",
      "Non-trainable params: 0\n",
      "_________________________________________________________________\n"
     ]
    }
   ],
   "source": [
    "model = models.Sequential()  \n",
    "model.add(LSTM(1, input_dim=1,  return_sequences=True, activation='tanh'))  \n",
    "model.add(TimeDistributed(Dense(1)))\n",
    "model.add(layers.Activation('linear'))   \n",
    "model.compile(loss='mean_squared_error', optimizer='rmsprop')  \n",
    "model.summary()"
   ]
  },
  {
   "cell_type": "code",
   "execution_count": 19,
   "metadata": {
    "ExecuteTime": {
     "end_time": "2020-06-02T08:44:00.912314Z",
     "start_time": "2020-06-02T08:44:00.905957Z"
    },
    "hidden": true
   },
   "outputs": [],
   "source": [
    "# model.fit(Y, Y)"
   ]
  },
  {
   "cell_type": "markdown",
   "metadata": {},
   "source": [
    "## Convnet"
   ]
  },
  {
   "cell_type": "code",
   "execution_count": 57,
   "metadata": {
    "ExecuteTime": {
     "end_time": "2020-06-02T09:01:12.726998Z",
     "start_time": "2020-06-02T09:01:11.296359Z"
    }
   },
   "outputs": [
    {
     "name": "stdout",
     "output_type": "stream",
     "text": [
      "Model: \"sequential_23\"\n",
      "_________________________________________________________________\n",
      "Layer (type)                 Output Shape              Param #   \n",
      "=================================================================\n",
      "conv1d_16 (Conv1D)           (None, 4, 16)             64        \n",
      "_________________________________________________________________\n",
      "max_pooling1d_7 (MaxPooling1 (None, 2, 16)             0         \n",
      "_________________________________________________________________\n",
      "dense_16 (Dense)             (None, 2, 64)             1088      \n",
      "_________________________________________________________________\n",
      "dense_17 (Dense)             (None, 2, 1)              65        \n",
      "=================================================================\n",
      "Total params: 1,217\n",
      "Trainable params: 1,217\n",
      "Non-trainable params: 0\n",
      "_________________________________________________________________\n"
     ]
    }
   ],
   "source": [
    "# n_w , n_h = X_train[0].shape\n",
    "\n",
    "model = models.Sequential()\n",
    "\n",
    "model.add(layers.Conv1D(16, 3, activation='relu', input_shape= (6,1) ))\n",
    "model.add(layers.MaxPooling1D(2))\n",
    "\n",
    "# model.add(layers.Conv1D(32, (3, 3), activation='relu'))\n",
    "# model.add(layers.MaxPooling1D((3, 3)))\n",
    "\n",
    "\n",
    "# model.add(layers.Flatten())\n",
    "\n",
    "model.add(layers.Dense(64, activation='relu'))\n",
    "model.add(layers.Dense(1, activation='softmax'))\n",
    "\n",
    "\n",
    "model.compile(optimizer='adam', \n",
    "              loss='sparse_categorical_crossentropy',\n",
    "              metrics=['accuracy'])\n",
    "model.summary()"
   ]
  },
  {
   "cell_type": "code",
   "execution_count": 58,
   "metadata": {
    "ExecuteTime": {
     "end_time": "2020-06-02T09:01:37.015811Z",
     "start_time": "2020-06-02T09:01:16.938271Z"
    }
   },
   "outputs": [
    {
     "name": "stdout",
     "output_type": "stream",
     "text": [
      "Train on 2065 samples, validate on 689 samples\n",
      "Epoch 1/10\n",
      "2065/2065 [==============================] - 8s 4ms/sample - loss: 0.6931 - accuracy: 4.8426e-04 - val_loss: 0.6931 - val_accuracy: 0.0000e+00\n",
      "Epoch 2/10\n",
      "2065/2065 [==============================] - 1s 676us/sample - loss: 0.6931 - accuracy: 4.8426e-04 - val_loss: 0.6931 - val_accuracy: 0.0000e+00\n",
      "Epoch 3/10\n",
      "2065/2065 [==============================] - 1s 674us/sample - loss: 0.6931 - accuracy: 4.8426e-04 - val_loss: 0.6931 - val_accuracy: 0.0000e+00\n",
      "Epoch 4/10\n",
      "2065/2065 [==============================] - 1s 683us/sample - loss: 0.6931 - accuracy: 4.8426e-04 - val_loss: 0.6931 - val_accuracy: 0.0000e+00\n",
      "Epoch 5/10\n",
      "2065/2065 [==============================] - 1s 645us/sample - loss: 0.6931 - accuracy: 4.8426e-04 - val_loss: 0.6931 - val_accuracy: 0.0000e+00\n",
      "Epoch 6/10\n",
      "2065/2065 [==============================] - 1s 624us/sample - loss: 0.6931 - accuracy: 4.8426e-04 - val_loss: 0.6931 - val_accuracy: 0.0000e+00\n",
      "Epoch 7/10\n",
      "2065/2065 [==============================] - 1s 696us/sample - loss: 0.6931 - accuracy: 4.8426e-04 - val_loss: 0.6931 - val_accuracy: 0.0000e+00\n",
      "Epoch 8/10\n",
      "2065/2065 [==============================] - 1s 597us/sample - loss: 0.6931 - accuracy: 4.8426e-04 - val_loss: 0.6931 - val_accuracy: 0.0000e+00\n",
      "Epoch 9/10\n",
      "2065/2065 [==============================] - 1s 613us/sample - loss: 0.6931 - accuracy: 4.8426e-04 - val_loss: 0.6931 - val_accuracy: 0.0000e+00\n",
      "Epoch 10/10\n",
      "2065/2065 [==============================] - 1s 606us/sample - loss: 0.6931 - accuracy: 4.8426e-04 - val_loss: 0.6931 - val_accuracy: 0.0000e+00\n"
     ]
    }
   ],
   "source": [
    "history = model.fit(X_train, Y_train, \n",
    "                    epochs=10, batch_size=16, \n",
    "                    verbose=1, validation_data=(X_test, Y_test))"
   ]
  },
  {
   "cell_type": "code",
   "execution_count": 59,
   "metadata": {
    "ExecuteTime": {
     "end_time": "2020-06-02T09:02:32.158572Z",
     "start_time": "2020-06-02T09:02:31.432973Z"
    }
   },
   "outputs": [
    {
     "data": {
      "image/png": "[encoded data removed]",
      "text/plain": [
       "<Figure size 504x360 with 1 Axes>"
      ]
     },
     "metadata": {
      "needs_background": "light"
     },
     "output_type": "display_data"
    }
   ],
   "source": [
    "# Plot training & validation accuracy values\n",
    "fig = plt.figure(figsize=(7,5))\n",
    "# Plot training & validation loss values\n",
    "ax = fig.add_subplot(1,1,1, title = 'Model loss', ylabel= 'Loss')\n",
    "plt.plot(history.history['loss'][2:])\n",
    "plt.plot(history.history['val_loss'][2:])\n",
    "plt.legend(['Train', 'Test'], loc='upper left')\n",
    "\n",
    "plt.tight_layout()\n",
    "plt.show()"
   ]
  },
  {
   "cell_type": "markdown",
   "metadata": {
    "colab_type": "text",
    "heading_collapsed": true,
    "id": "nuIOpOi6BtVg"
   },
   "source": [
    "## Implementation of RNN"
   ]
  },
  {
   "cell_type": "code",
   "execution_count": 14,
   "metadata": {
    "ExecuteTime": {
     "end_time": "2020-05-31T06:57:42.003852Z",
     "start_time": "2020-05-31T06:57:41.997240Z"
    },
    "hidden": true
   },
   "outputs": [],
   "source": [
    "n_out = 1 ## Number of output features\n",
    "n_h = 1 ## Number of units in the hidden layer. \n",
    "import torch"
   ]
  },
  {
   "cell_type": "code",
   "execution_count": 108,
   "metadata": {
    "ExecuteTime": {
     "end_time": "2020-05-31T10:54:16.573406Z",
     "start_time": "2020-05-31T10:54:16.559281Z"
    },
    "hidden": true
   },
   "outputs": [],
   "source": [
    "a_t = torch.zeros(n_h,1)  \n",
    "'''This is essentially the memory, the info that \n",
    "circles back to the hidden unit in each itr. \n",
    "We initialize it to zero. '''\n",
    "\n",
    "\n",
    "'''Next we initialize the random weight matrices.'''\n",
    "## First for the hidden units\n",
    "U_a = torch.rand(n_h, n_f)  ## This take x -> a\n",
    "W_a = torch.rand(n_h, n_h)  ## This take a^{<t-1>} -> a^{<t>}\n",
    "b_a = torch.rand(n_h,)\n",
    "\n",
    "## And then for the output. \n",
    "W_y = torch.rand(n_out, n_h)  ## This takes a^{<t>}-> y^{<t>}\n",
    "b_y = torch.rand(n_out,)\n",
    "\n",
    "'''\n",
    "We need to keep the outputs, i.e. the y values. \n",
    "Here we are assuming that this is a many-to-many network. \n",
    "One can skip the calculation of y to the end and only \n",
    "generate one single output. \n",
    "'''\n",
    "y_list = []\n"
   ]
  },
  {
   "cell_type": "code",
   "execution_count": 71,
   "metadata": {
    "ExecuteTime": {
     "end_time": "2020-05-31T07:29:30.193573Z",
     "start_time": "2020-05-31T07:29:30.166437Z"
    },
    "hidden": true
   },
   "outputs": [
    {
     "name": "stdout",
     "output_type": "stream",
     "text": [
      "torch.Size([6, 1, 1])\n"
     ]
    }
   ],
   "source": [
    "'''\n",
    "Let's first see how the feedforward loop works for a single input. \n",
    "'''\n",
    "input_X = torch.Tensor(X_train[10]).view(n_ts, n_f, 1)\n",
    "print(input_X.size())\n",
    "\n",
    "for x in input_X:\n",
    "        \n",
    "    # First we update a_t (the hidden layer). \n",
    "    a_t = torch.tanh(  ## We use the tanh for the hidden layer activation\n",
    "                    torch.mm( W_a, a_t )  +  ## This takes the a^{<t-1>} to a^{<t>}.\n",
    "                    torch.mm( U_a, x )    +  ## This takes the x^{<t>} to a^{<t>}.\n",
    "                    b_a)                      ## This is the bias for the hidden unit. \n",
    "\n",
    "    \n",
    "# Next we calculate the output, y. \n",
    "\n",
    "y = torch.sigmoid(     ## We use the sigmoid for the output activation\n",
    "                torch.mm( W_y, a_t )  +  ## This takes the a^{<t>} to y^{<t>}.                   \n",
    "                b_y) \n",
    "#     y_list += [y]\n",
    "    "
   ]
  },
  {
   "cell_type": "code",
   "execution_count": 76,
   "metadata": {
    "ExecuteTime": {
     "end_time": "2020-05-31T07:34:58.277616Z",
     "start_time": "2020-05-31T07:34:57.206050Z"
    },
    "hidden": true
   },
   "outputs": [],
   "source": [
    "'''\n",
    "Let's first see how the feedforward loop works. \n",
    "'''\n",
    "for input_X in torch.Tensor(X_train).view(-1, n_ts, n_f, 1):\n",
    "# print(input_X.size())\n",
    "    for x in input_X:\n",
    "\n",
    "        # First we update a_t (the hidden layer). \n",
    "        a_t = torch.tanh(  ## We use the tanh for the hidden layer activation\n",
    "                        torch.mm( W_a, a_t )  +  ## This takes the a^{<t-1>} to a^{<t>}.\n",
    "                        torch.mm( U_a, x )    +  ## This takes the x^{<t>} to a^{<t>}.\n",
    "                        b_y)                      ## This is the bias for the hidden unit. \n",
    "\n",
    "\n",
    "    # Next we calculate the output, y. \n",
    "\n",
    "    y = torch.sigmoid(     ## We use the sigmoid for the output activation\n",
    "                    torch.mm( W_y, a_t )  +  ## This takes the a^{<t>} to y^{<t>}.                   \n",
    "                    b_y) \n",
    "    y_list += [y]\n",
    "    "
   ]
  },
  {
   "cell_type": "code",
   "execution_count": 82,
   "metadata": {
    "ExecuteTime": {
     "end_time": "2020-05-31T07:36:51.941792Z",
     "start_time": "2020-05-31T07:36:51.403400Z"
    },
    "hidden": true
   },
   "outputs": [
    {
     "name": "stdout",
     "output_type": "stream",
     "text": [
      "torch.Size([2065])\n"
     ]
    },
    {
     "data": {
      "image/png": "[encoded data removed]",
      "text/plain": [
       "<Figure size 748.8x514.8 with 1 Axes>"
      ]
     },
     "metadata": {
      "needs_background": "light"
     },
     "output_type": "display_data"
    }
   ],
   "source": [
    "print(torch.Tensor(y_list).size())\n",
    "\n",
    "plt.plot(Y_train, label = 'Real Data')\n",
    "plt.plot(torch.Tensor(y_list), label = 'Predicted values')\n",
    "plt.legend(loc=0)\n",
    "plt.show()"
   ]
  },
  {
   "cell_type": "markdown",
   "metadata": {
    "hidden": true
   },
   "source": [
    "Clearly, we need to change the activation function.\n",
    "\n",
    "Then define the loss and train the network fit the data. "
   ]
  },
  {
   "cell_type": "code",
   "execution_count": 105,
   "metadata": {
    "ExecuteTime": {
     "end_time": "2020-05-31T09:31:00.059711Z",
     "start_time": "2020-05-31T09:31:00.033253Z"
    },
    "hidden": true
   },
   "outputs": [],
   "source": [
    "import torch.nn as nn\n",
    "import torch.nn.functional as F\n",
    "import torch.optim as optim\n",
    "\n",
    "\n",
    "class BasicRNN(nn.Module):\n",
    "    def __init__(self, n_features, n_neurons, n_out, times_steps):\n",
    "        super(BasicRNN, self).__init__()\n",
    "        \n",
    "        self.n_f = n_features\n",
    "        self.n_h = n_neurons\n",
    "        self.n_out = n_out\n",
    "        self.n_ts = times_steps\n",
    "\n",
    "        self.a_t = torch.zeros(self.n_h,1)  \n",
    "        '''This is essentially the memory, the info that \n",
    "        circles back to the hidden unit in each itr. \n",
    "        We initialize it to zero. '''\n",
    "\n",
    "\n",
    "        '''Next we initialize the random weight matrices.'''\n",
    "        ## First for the hidden units\n",
    "        W_a = torch.rand(self.n_h, self.n_f)  ## This take x -> a\n",
    "        U_a = torch.rand(self.n_h, self.n_h)  ## This take a -> a\n",
    "        b_a = torch.rand(self.n_h,)\n",
    "\n",
    "        ## And then for the output. \n",
    "        W_y = torch.rand(self.n_out, self.n_h)  ## This takes a-> y\n",
    "        b_y = torch.rand(self.n_out,)\n",
    "\n",
    "        '''\n",
    "        We need to keep the outputs, i.e. the y values. \n",
    "        Here we are assuming that this is a many-to-many network. \n",
    "        One can skip the calculation of y to the end and only \n",
    "        generate one single output. \n",
    "        '''\n",
    "        self.y_list = []      \n",
    "    \n",
    "    def forward(self, X):\n",
    "        self.y_list = []\n",
    "        \n",
    "        for input_X in torch.Tensor(X).view(-1, self.n_ts, self.n_f, 1):\n",
    "        # print(input_X.size())\n",
    "            for x in input_X:\n",
    "                # First we update a_t (the hidden layer). \n",
    "                self.a_t = torch.tanh(  ## We use the tanh for the hidden layer activation\n",
    "                                torch.mm( W_a, self.a_t )  +  ## This takes the a^{<t-1>} to a^{<t>}.\n",
    "                                torch.mm( U_a, x )    +  ## This takes the x^{<t>} to a^{<t>}.\n",
    "                                b_y)                      ## This is the bias for the hidden unit. \n",
    "\n",
    "\n",
    "            # Next we calculate the output, y. \n",
    "\n",
    "            y = torch.sigmoid(     ## We use the sigmoid for the output activation\n",
    "                            torch.mm( W_y, self.a_t )  +  ## This takes the a^{<t>} to y^{<t>}.                   \n",
    "                            b_y) \n",
    "            self.y_list += [y]\n",
    "        \n",
    "                \n",
    "        return self.y_list"
   ]
  },
  {
   "cell_type": "code",
   "execution_count": 106,
   "metadata": {
    "ExecuteTime": {
     "end_time": "2020-05-31T09:31:04.052296Z",
     "start_time": "2020-05-31T09:31:03.988431Z"
    },
    "hidden": true
   },
   "outputs": [
    {
     "ename": "ValueError",
     "evalue": "optimizer got an empty parameter list",
     "output_type": "error",
     "traceback": [
      "\u001b[1;31m---------------------------------------------------------------------------\u001b[0m",
      "\u001b[1;31mValueError\u001b[0m                                Traceback (most recent call last)",
      "\u001b[1;32m<ipython-input-106-270d2d66adf3>\u001b[0m in \u001b[0;36m<module>\u001b[1;34m\u001b[0m\n\u001b[0;32m      6\u001b[0m \u001b[1;32mimport\u001b[0m \u001b[0mtorch\u001b[0m\u001b[1;33m.\u001b[0m\u001b[0moptim\u001b[0m \u001b[1;32mas\u001b[0m \u001b[0moptim\u001b[0m\u001b[1;33m\u001b[0m\u001b[1;33m\u001b[0m\u001b[0m\n\u001b[0;32m      7\u001b[0m \u001b[1;33m\u001b[0m\u001b[0m\n\u001b[1;32m----> 8\u001b[1;33m \u001b[0moptimizer\u001b[0m \u001b[1;33m=\u001b[0m \u001b[0moptim\u001b[0m\u001b[1;33m.\u001b[0m\u001b[0mAdam\u001b[0m\u001b[1;33m(\u001b[0m\u001b[0mrnn\u001b[0m\u001b[1;33m.\u001b[0m\u001b[0mparameters\u001b[0m\u001b[1;33m(\u001b[0m\u001b[1;33m)\u001b[0m\u001b[1;33m,\u001b[0m \u001b[0mlr\u001b[0m\u001b[1;33m=\u001b[0m\u001b[1;36m0.01\u001b[0m\u001b[1;33m,\u001b[0m \u001b[0mbetas\u001b[0m\u001b[1;33m=\u001b[0m\u001b[1;33m(\u001b[0m\u001b[1;36m0.9\u001b[0m\u001b[1;33m,\u001b[0m \u001b[1;36m0.999\u001b[0m\u001b[1;33m)\u001b[0m\u001b[1;33m)\u001b[0m\u001b[1;33m\u001b[0m\u001b[1;33m\u001b[0m\u001b[0m\n\u001b[0m\u001b[0;32m      9\u001b[0m \u001b[1;33m\u001b[0m\u001b[0m\n\u001b[0;32m     10\u001b[0m \u001b[1;31m## Define a loss function: WE are using binary cross-entropy\u001b[0m\u001b[1;33m\u001b[0m\u001b[1;33m\u001b[0m\u001b[1;33m\u001b[0m\u001b[0m\n",
      "\u001b[1;32m~\\.conda\\envs\\keras-gpu\\lib\\site-packages\\torch\\optim\\adam.py\u001b[0m in \u001b[0;36m__init__\u001b[1;34m(self, params, lr, betas, eps, weight_decay, amsgrad)\u001b[0m\n\u001b[0;32m     40\u001b[0m         defaults = dict(lr=lr, betas=betas, eps=eps,\n\u001b[0;32m     41\u001b[0m                         weight_decay=weight_decay, amsgrad=amsgrad)\n\u001b[1;32m---> 42\u001b[1;33m         \u001b[0msuper\u001b[0m\u001b[1;33m(\u001b[0m\u001b[0mAdam\u001b[0m\u001b[1;33m,\u001b[0m \u001b[0mself\u001b[0m\u001b[1;33m)\u001b[0m\u001b[1;33m.\u001b[0m\u001b[0m__init__\u001b[0m\u001b[1;33m(\u001b[0m\u001b[0mparams\u001b[0m\u001b[1;33m,\u001b[0m \u001b[0mdefaults\u001b[0m\u001b[1;33m)\u001b[0m\u001b[1;33m\u001b[0m\u001b[1;33m\u001b[0m\u001b[0m\n\u001b[0m\u001b[0;32m     43\u001b[0m \u001b[1;33m\u001b[0m\u001b[0m\n\u001b[0;32m     44\u001b[0m     \u001b[1;32mdef\u001b[0m \u001b[0m__setstate__\u001b[0m\u001b[1;33m(\u001b[0m\u001b[0mself\u001b[0m\u001b[1;33m,\u001b[0m \u001b[0mstate\u001b[0m\u001b[1;33m)\u001b[0m\u001b[1;33m:\u001b[0m\u001b[1;33m\u001b[0m\u001b[1;33m\u001b[0m\u001b[0m\n",
      "\u001b[1;32m~\\.conda\\envs\\keras-gpu\\lib\\site-packages\\torch\\optim\\optimizer.py\u001b[0m in \u001b[0;36m__init__\u001b[1;34m(self, params, defaults)\u001b[0m\n\u001b[0;32m     44\u001b[0m         \u001b[0mparam_groups\u001b[0m \u001b[1;33m=\u001b[0m \u001b[0mlist\u001b[0m\u001b[1;33m(\u001b[0m\u001b[0mparams\u001b[0m\u001b[1;33m)\u001b[0m\u001b[1;33m\u001b[0m\u001b[1;33m\u001b[0m\u001b[0m\n\u001b[0;32m     45\u001b[0m         \u001b[1;32mif\u001b[0m \u001b[0mlen\u001b[0m\u001b[1;33m(\u001b[0m\u001b[0mparam_groups\u001b[0m\u001b[1;33m)\u001b[0m \u001b[1;33m==\u001b[0m \u001b[1;36m0\u001b[0m\u001b[1;33m:\u001b[0m\u001b[1;33m\u001b[0m\u001b[1;33m\u001b[0m\u001b[0m\n\u001b[1;32m---> 46\u001b[1;33m             \u001b[1;32mraise\u001b[0m \u001b[0mValueError\u001b[0m\u001b[1;33m(\u001b[0m\u001b[1;34m\"optimizer got an empty parameter list\"\u001b[0m\u001b[1;33m)\u001b[0m\u001b[1;33m\u001b[0m\u001b[1;33m\u001b[0m\u001b[0m\n\u001b[0m\u001b[0;32m     47\u001b[0m         \u001b[1;32mif\u001b[0m \u001b[1;32mnot\u001b[0m \u001b[0misinstance\u001b[0m\u001b[1;33m(\u001b[0m\u001b[0mparam_groups\u001b[0m\u001b[1;33m[\u001b[0m\u001b[1;36m0\u001b[0m\u001b[1;33m]\u001b[0m\u001b[1;33m,\u001b[0m \u001b[0mdict\u001b[0m\u001b[1;33m)\u001b[0m\u001b[1;33m:\u001b[0m\u001b[1;33m\u001b[0m\u001b[1;33m\u001b[0m\u001b[0m\n\u001b[0;32m     48\u001b[0m             \u001b[0mparam_groups\u001b[0m \u001b[1;33m=\u001b[0m \u001b[1;33m[\u001b[0m\u001b[1;33m{\u001b[0m\u001b[1;34m'params'\u001b[0m\u001b[1;33m:\u001b[0m \u001b[0mparam_groups\u001b[0m\u001b[1;33m}\u001b[0m\u001b[1;33m]\u001b[0m\u001b[1;33m\u001b[0m\u001b[1;33m\u001b[0m\u001b[0m\n",
      "\u001b[1;31mValueError\u001b[0m: optimizer got an empty parameter list"
     ]
    }
   ],
   "source": [
    "rnn = BasicRNN(n_f, n_neurons=n_h, n_out=n_out, times_steps=n_ts)\n",
    "# rnn.forward(X_train)\n",
    "\n",
    "optimizer = optim.Adam(rnn.parameters(), lr=0.01, betas=(0.9, 0.999))\n",
    "\n",
    "## Define a loss function: WE are using binary cross-entropy \n",
    "criterion = nn.BCELoss()\n",
    "    "
   ]
  },
  {
   "cell_type": "code",
   "execution_count": null,
   "metadata": {
    "hidden": true
   },
   "outputs": [],
   "source": []
  },
  {
   "cell_type": "code",
   "execution_count": 15,
   "metadata": {
    "ExecuteTime": {
     "end_time": "2020-05-26T07:06:53.351091Z",
     "start_time": "2020-05-26T07:06:53.132867Z"
    },
    "colab": {
     "base_uri": "https://localhost:8080/",
     "height": 369
    },
    "colab_type": "code",
    "hidden": true,
    "id": "Kjqtgm23BtVq",
    "outputId": "4c3ed686-0e32-4752-c9ad-5920d805bf83"
   },
   "outputs": [
    {
     "data": {
      "image/png": "[encoded data removed]",
      "text/plain": [
       "<Figure size 504x360 with 1 Axes>"
      ]
     },
     "metadata": {
      "needs_background": "light",
      "tags": []
     },
     "output_type": "display_data"
    }
   ],
   "source": [
    "# Plot training & validation accuracy values\n",
    "fig = plt.figure(figsize=(7,5))\n",
    "# Plot training & validation loss values\n",
    "ax = fig.add_subplot(1,1,1, title = 'Model loss', ylabel= 'Loss')\n",
    "plt.plot(history.history['loss'])\n",
    "plt.plot(history.history['val_loss'])\n",
    "plt.legend(['Train', 'Test'], loc='upper left')\n",
    "\n",
    "plt.tight_layout()\n",
    "plt.show()"
   ]
  },
  {
   "cell_type": "code",
   "execution_count": 16,
   "metadata": {
    "ExecuteTime": {
     "end_time": "2020-05-26T07:08:57.330183Z",
     "start_time": "2020-05-26T07:08:57.124137Z"
    },
    "colab": {
     "base_uri": "https://localhost:8080/",
     "height": 274
    },
    "colab_type": "code",
    "hidden": true,
    "id": "XCJKuag0BtVt",
    "outputId": "9b2637e2-a630-4fd3-bb82-218fe88d3b83"
   },
   "outputs": [
    {
     "data": {
      "image/png": "[encoded data removed]",
      "text/plain": [
       "<Figure size 432x288 with 1 Axes>"
      ]
     },
     "metadata": {
      "needs_background": "light",
      "tags": []
     },
     "output_type": "display_data"
    }
   ],
   "source": [
    "'''\n",
    "Now we use the model to predict the sunspots for the missing month \n",
    "and then compare to the actual values. \n",
    "From the plot it is clear that the predicted values follow the trend, \n",
    "however, there seems to be a delay. \n",
    "'''\n",
    "Y_fut_predicted = model.predict(X_future)\n",
    "plt.plot(Y_future, label = 'Real Data')\n",
    "plt.plot(Y_fut_predicted, label = 'Predicted values')\n",
    "plt.legend(loc=0)\n",
    "plt.show()"
   ]
  },
  {
   "cell_type": "markdown",
   "metadata": {
    "colab_type": "text",
    "heading_collapsed": true,
    "id": "w9gSSuC4BtVw"
   },
   "source": [
    "## Simple RNN model"
   ]
  },
  {
   "cell_type": "code",
   "execution_count": 0,
   "metadata": {
    "ExecuteTime": {
     "end_time": "2020-05-26T07:17:33.190212Z",
     "start_time": "2020-05-26T07:17:33.027917Z"
    },
    "colab": {},
    "colab_type": "code",
    "hidden": true,
    "id": "d9izjDHPgCMY"
   },
   "outputs": [],
   "source": [
    "model = models.Sequential()\n",
    "model.add(SimpleRNN(64, input_shape =(n_ts, n_f) , \n",
    "               activation='tanh', \n",
    "               return_sequences=True) \n",
    "         )\n",
    "\n",
    "model.add(SimpleRNN(32,  activation='tanh')  )\n",
    "\n",
    "model.add(Dense(32,  activation='relu')  )\n",
    "\n",
    "model.add(Dense(1,  activation='linear')  )\n",
    "\n",
    "\n",
    "model.compile(loss = keras.losses.mean_squared_error, \n",
    "              optimizer=keras.optimizers.Adam(lr = .001) )\n"
   ]
  },
  {
   "cell_type": "code",
   "execution_count": 18,
   "metadata": {
    "ExecuteTime": {
     "end_time": "2020-05-26T07:17:34.468627Z",
     "start_time": "2020-05-26T07:17:34.459588Z"
    },
    "colab": {
     "base_uri": "https://localhost:8080/",
     "height": 289
    },
    "colab_type": "code",
    "hidden": true,
    "id": "sjcp4LPAgCMc",
    "outputId": "3f4777bf-10d7-4d68-ec84-0c9309fe1687"
   },
   "outputs": [
    {
     "name": "stdout",
     "output_type": "stream",
     "text": [
      "Model: \"sequential_1\"\n",
      "_________________________________________________________________\n",
      "Layer (type)                 Output Shape              Param #   \n",
      "=================================================================\n",
      "simple_rnn (SimpleRNN)       (None, 6, 64)             4224      \n",
      "_________________________________________________________________\n",
      "simple_rnn_1 (SimpleRNN)     (None, 32)                3104      \n",
      "_________________________________________________________________\n",
      "dense_2 (Dense)              (None, 32)                1056      \n",
      "_________________________________________________________________\n",
      "dense_3 (Dense)              (None, 1)                 33        \n",
      "=================================================================\n",
      "Total params: 8,417\n",
      "Trainable params: 8,417\n",
      "Non-trainable params: 0\n",
      "_________________________________________________________________\n"
     ]
    }
   ],
   "source": [
    "model.summary()"
   ]
  },
  {
   "cell_type": "code",
   "execution_count": 19,
   "metadata": {
    "ExecuteTime": {
     "end_time": "2020-05-26T07:17:57.502658Z",
     "start_time": "2020-05-26T07:17:41.470923Z"
    },
    "colab": {
     "base_uri": "https://localhost:8080/",
     "height": 357
    },
    "colab_type": "code",
    "hidden": true,
    "id": "VJHN_q7vgCMh",
    "outputId": "d793cd5e-25da-4cad-9c28-3e322dda391a"
   },
   "outputs": [
    {
     "name": "stdout",
     "output_type": "stream",
     "text": [
      "Epoch 1/10\n",
      "130/130 [==============================] - 2s 17ms/step - loss: 3278.2493 - val_loss: 2564.6167\n",
      "Epoch 2/10\n",
      "130/130 [==============================] - 2s 15ms/step - loss: 1728.9303 - val_loss: 1257.2352\n",
      "Epoch 3/10\n",
      "130/130 [==============================] - 2s 15ms/step - loss: 862.2943 - val_loss: 713.4257\n",
      "Epoch 4/10\n",
      "130/130 [==============================] - 2s 15ms/step - loss: 540.4365 - val_loss: 480.5204\n",
      "Epoch 5/10\n",
      "130/130 [==============================] - 2s 15ms/step - loss: 410.8458 - val_loss: 403.9608\n",
      "Epoch 6/10\n",
      "130/130 [==============================] - 2s 16ms/step - loss: 349.5312 - val_loss: 344.1889\n",
      "Epoch 7/10\n",
      "130/130 [==============================] - 2s 15ms/step - loss: 314.5769 - val_loss: 311.6905\n",
      "Epoch 8/10\n",
      "130/130 [==============================] - 2s 15ms/step - loss: 296.9061 - val_loss: 307.3282\n",
      "Epoch 9/10\n",
      "130/130 [==============================] - 2s 14ms/step - loss: 285.3169 - val_loss: 290.5525\n",
      "Epoch 10/10\n",
      "130/130 [==============================] - 2s 15ms/step - loss: 278.2059 - val_loss: 285.4839\n"
     ]
    }
   ],
   "source": [
    "history = model.fit(X_train, Y_train, \n",
    "                    epochs=10, batch_size=16, \n",
    "                    verbose=1, validation_data=(X_test, Y_test))"
   ]
  },
  {
   "cell_type": "code",
   "execution_count": 20,
   "metadata": {
    "ExecuteTime": {
     "end_time": "2020-05-26T07:20:02.533893Z",
     "start_time": "2020-05-26T07:20:02.316627Z"
    },
    "colab": {
     "base_uri": "https://localhost:8080/",
     "height": 369
    },
    "colab_type": "code",
    "hidden": true,
    "id": "aEkoUU6hgCMk",
    "outputId": "f3215657-4236-4c16-f8dd-617e368a40ec"
   },
   "outputs": [
    {
     "data": {
      "image/png": "[encoded data removed]",
      "text/plain": [
       "<Figure size 504x360 with 1 Axes>"
      ]
     },
     "metadata": {
      "needs_background": "light",
      "tags": []
     },
     "output_type": "display_data"
    }
   ],
   "source": [
    "# Plot training & validation accuracy values\n",
    "fig = plt.figure(figsize=(7,5))\n",
    "# Plot training & validation loss values\n",
    "ax = fig.add_subplot(1,1,1, title = 'Model loss', ylabel= 'Loss')\n",
    "plt.plot(history.history['loss'][2:])\n",
    "plt.plot(history.history['val_loss'][2:])\n",
    "plt.legend(['Train', 'Test'], loc='upper left')\n",
    "\n",
    "plt.tight_layout()\n",
    "plt.show()"
   ]
  },
  {
   "cell_type": "code",
   "execution_count": 21,
   "metadata": {
    "ExecuteTime": {
     "end_time": "2020-05-26T07:20:34.671008Z",
     "start_time": "2020-05-26T07:20:33.353217Z"
    },
    "colab": {
     "base_uri": "https://localhost:8080/",
     "height": 346
    },
    "colab_type": "code",
    "hidden": true,
    "id": "92Kai65QgCMp",
    "outputId": "b0e0ef4e-b7f4-47ca-89e7-b11959fd1a02"
   },
   "outputs": [
    {
     "data": {
      "image/png": "[encoded data removed]",
      "text/plain": [
       "<Figure size 504x360 with 1 Axes>"
      ]
     },
     "metadata": {
      "needs_background": "light",
      "tags": []
     },
     "output_type": "display_data"
    }
   ],
   "source": [
    "'''\n",
    "Now we use the model to predict the sunspots for the missing month \n",
    "and then compare to the actual values. \n",
    "From the plot it is clear that the predicted values follow the trend, \n",
    "however, there seems to be a delay. \n",
    "'''\n",
    "fig = plt.figure(figsize=(7,5))\n",
    "ax = fig.add_subplot(1,1,1, xlabel = 'Time', ylabel= 'Loss')\n",
    "\n",
    "Y_fut_predicted = model.predict(X_future)\n",
    "plt.plot(Y_future, label = 'Real Data')\n",
    "plt.plot(Y_fut_predicted, label = 'Predicted values')\n",
    "plt.xlabel = 'time'\n",
    "plt.legend(loc=0)\n",
    "plt.show()"
   ]
  },
  {
   "cell_type": "markdown",
   "metadata": {
    "colab_type": "text",
    "heading_collapsed": true,
    "id": "LK-xIZ5hBtV8"
   },
   "source": [
    "## RNN with long short term memory (LSTM)\n",
    "\n",
    "Next, we train a LSTM model. "
   ]
  },
  {
   "cell_type": "code",
   "execution_count": 25,
   "metadata": {
    "ExecuteTime": {
     "end_time": "2020-05-26T05:09:53.898643Z",
     "start_time": "2020-05-26T05:09:50.533910Z"
    },
    "colab": {
     "base_uri": "https://localhost:8080/",
     "height": 71
    },
    "colab_type": "code",
    "hidden": true,
    "id": "6ZXHnC6-BtV9",
    "outputId": "5aa318f3-fcb0-48f6-c2bb-4825e442f94d"
   },
   "outputs": [
    {
     "name": "stdout",
     "output_type": "stream",
     "text": [
      "WARNING:tensorflow:Layer lstm_6 will not use cuDNN kernel since it doesn't meet the cuDNN kernel criteria. It will use generic GPU kernel as fallback when running on GPU\n",
      "WARNING:tensorflow:Layer lstm_7 will not use cuDNN kernel since it doesn't meet the cuDNN kernel criteria. It will use generic GPU kernel as fallback when running on GPU\n"
     ]
    }
   ],
   "source": [
    "model = models.Sequential()\n",
    "model.add(LSTM(64, input_shape =(n_ts, n_f) , \n",
    "               activation='relu', \n",
    "               return_sequences=True) \n",
    "         )\n",
    "\n",
    "model.add(LSTM(32,  activation='relu')  )\n",
    "\n",
    "model.add(Dense(32,  activation='relu')  )\n",
    "\n",
    "model.add(Dense(1,  activation='linear')  )\n",
    "\n",
    "\n",
    "model.compile(loss = keras.losses.mean_squared_error, \n",
    "              optimizer=keras.optimizers.Adam(lr = .001) )\n"
   ]
  },
  {
   "cell_type": "code",
   "execution_count": 26,
   "metadata": {
    "ExecuteTime": {
     "end_time": "2020-05-26T05:10:04.015520Z",
     "start_time": "2020-05-26T05:10:04.002839Z"
    },
    "colab": {
     "base_uri": "https://localhost:8080/",
     "height": 289
    },
    "colab_type": "code",
    "hidden": true,
    "id": "hVEeY-3lBtV_",
    "outputId": "0c320663-55cb-411c-8f82-430754d982c8"
   },
   "outputs": [
    {
     "name": "stdout",
     "output_type": "stream",
     "text": [
      "Model: \"sequential_5\"\n",
      "_________________________________________________________________\n",
      "Layer (type)                 Output Shape              Param #   \n",
      "=================================================================\n",
      "lstm_6 (LSTM)                (None, 6, 64)             16896     \n",
      "_________________________________________________________________\n",
      "lstm_7 (LSTM)                (None, 32)                12416     \n",
      "_________________________________________________________________\n",
      "dense_10 (Dense)             (None, 32)                1056      \n",
      "_________________________________________________________________\n",
      "dense_11 (Dense)             (None, 1)                 33        \n",
      "=================================================================\n",
      "Total params: 30,401\n",
      "Trainable params: 30,401\n",
      "Non-trainable params: 0\n",
      "_________________________________________________________________\n"
     ]
    }
   ],
   "source": [
    "model.summary()"
   ]
  },
  {
   "cell_type": "code",
   "execution_count": 27,
   "metadata": {
    "ExecuteTime": {
     "end_time": "2020-05-26T05:10:55.267341Z",
     "start_time": "2020-05-26T05:10:10.334203Z"
    },
    "colab": {
     "base_uri": "https://localhost:8080/",
     "height": 357
    },
    "colab_type": "code",
    "hidden": true,
    "id": "uhplguREBtWC",
    "outputId": "3a6d70ed-972c-4000-c8b0-9a8d1018b102"
   },
   "outputs": [
    {
     "name": "stdout",
     "output_type": "stream",
     "text": [
      "Epoch 1/10\n",
      "130/130 [==============================] - 5s 35ms/step - loss: 1806.4039 - val_loss: 285.1074\n",
      "Epoch 2/10\n",
      "130/130 [==============================] - 4s 32ms/step - loss: 293.6981 - val_loss: 279.4806\n",
      "Epoch 3/10\n",
      "130/130 [==============================] - 4s 33ms/step - loss: 266.5016 - val_loss: 281.9277\n",
      "Epoch 4/10\n",
      "130/130 [==============================] - 4s 33ms/step - loss: 271.6642 - val_loss: 271.5713\n",
      "Epoch 5/10\n",
      "130/130 [==============================] - 4s 34ms/step - loss: 276.9917 - val_loss: 277.7851\n",
      "Epoch 6/10\n",
      "130/130 [==============================] - 4s 33ms/step - loss: 265.6945 - val_loss: 275.5138\n",
      "Epoch 7/10\n",
      "130/130 [==============================] - 4s 33ms/step - loss: 264.6075 - val_loss: 280.7809\n",
      "Epoch 8/10\n",
      "130/130 [==============================] - 4s 33ms/step - loss: 262.5093 - val_loss: 278.0503\n",
      "Epoch 9/10\n",
      "130/130 [==============================] - 4s 34ms/step - loss: 265.4661 - val_loss: 275.7762\n",
      "Epoch 10/10\n",
      "130/130 [==============================] - 4s 34ms/step - loss: 259.3107 - val_loss: 268.5232\n"
     ]
    }
   ],
   "source": [
    "history = model.fit(X_train, Y_train, \n",
    "                    epochs=10, batch_size=16, \n",
    "                    verbose=1, validation_data=(X_test, Y_test))"
   ]
  },
  {
   "cell_type": "code",
   "execution_count": 30,
   "metadata": {
    "ExecuteTime": {
     "end_time": "2020-05-26T05:10:57.466911Z",
     "start_time": "2020-05-26T05:10:57.095629Z"
    },
    "colab": {
     "base_uri": "https://localhost:8080/",
     "height": 369
    },
    "colab_type": "code",
    "hidden": true,
    "id": "xBd96T2uBtWH",
    "outputId": "ab4fd775-1eb9-4c8d-8b10-49c48d8ced32"
   },
   "outputs": [
    {
     "data": {
      "image/png": "[encoded data removed]",
      "text/plain": [
       "<Figure size 504x360 with 1 Axes>"
      ]
     },
     "metadata": {
      "needs_background": "light",
      "tags": []
     },
     "output_type": "display_data"
    }
   ],
   "source": [
    "# Plot training & validation accuracy values\n",
    "fig = plt.figure(figsize=(7,5))\n",
    "# Plot training & validation loss values\n",
    "ax = fig.add_subplot(1,1,1, title = 'Model loss', ylabel= 'Loss')\n",
    "plt.plot(history.history['loss'])\n",
    "plt.plot(history.history['val_loss'])\n",
    "plt.legend(['Train', 'Test'], loc='upper left')\n",
    "\n",
    "plt.tight_layout()\n",
    "plt.show()"
   ]
  },
  {
   "cell_type": "code",
   "execution_count": 31,
   "metadata": {
    "ExecuteTime": {
     "end_time": "2020-05-26T05:11:11.451967Z",
     "start_time": "2020-05-26T05:11:10.540676Z"
    },
    "colab": {
     "base_uri": "https://localhost:8080/",
     "height": 346
    },
    "colab_type": "code",
    "hidden": true,
    "id": "aki7Iz1sBtWJ",
    "outputId": "ef49563c-6329-4789-cbbc-2a177ca1d1c7"
   },
   "outputs": [
    {
     "data": {
      "image/png": "[encoded data removed]",
      "text/plain": [
       "<Figure size 504x360 with 1 Axes>"
      ]
     },
     "metadata": {
      "needs_background": "light",
      "tags": []
     },
     "output_type": "display_data"
    }
   ],
   "source": [
    "'''\n",
    "Now we use the model to predict the sunspots for the missing month \n",
    "and then compare to the actual values. \n",
    "From the plot it is clear that the predicted values follow the trend, \n",
    "however, there seems to be a delay. \n",
    "'''\n",
    "fig = plt.figure(figsize=(7,5))\n",
    "ax = fig.add_subplot(1,1,1, xlabel = 'Time', ylabel= 'Loss')\n",
    "\n",
    "Y_fut_predicted = model.predict(X_future)\n",
    "plt.plot(Y_future, label = 'Real Data')\n",
    "plt.plot(Y_fut_predicted, label = 'Predicted values')\n",
    "plt.xlabel = 'time'\n",
    "plt.legend(loc=0)\n",
    "plt.show()"
   ]
  },
  {
   "cell_type": "markdown",
   "metadata": {
    "colab_type": "text",
    "heading_collapsed": true,
    "id": "4DK5cZOygim-"
   },
   "source": [
    "# Multivariate RNN"
   ]
  },
  {
   "cell_type": "code",
   "execution_count": 32,
   "metadata": {
    "colab": {
     "base_uri": "https://localhost:8080/",
     "height": 235
    },
    "colab_type": "code",
    "hidden": true,
    "id": "II9qL8zsglxT",
    "outputId": "55a285a3-c603-4fa0-e2d0-6dda3fc9d502"
   },
   "outputs": [
    {
     "data": {
      "text/html": [
       "<div>\n",
       "<style scoped>\n",
       "    .dataframe tbody tr th:only-of-type {\n",
       "        vertical-align: middle;\n",
       "    }\n",
       "\n",
       "    .dataframe tbody tr th {\n",
       "        vertical-align: top;\n",
       "    }\n",
       "\n",
       "    .dataframe thead th {\n",
       "        text-align: right;\n",
       "    }\n",
       "</style>\n",
       "<table border=\"1\" class=\"dataframe\">\n",
       "  <thead>\n",
       "    <tr style=\"text-align: right;\">\n",
       "      <th></th>\n",
       "      <th>year</th>\n",
       "      <th>month</th>\n",
       "      <th>day</th>\n",
       "      <th>hour</th>\n",
       "      <th>pm2.5</th>\n",
       "      <th>DEWP</th>\n",
       "      <th>TEMP</th>\n",
       "      <th>PRES</th>\n",
       "      <th>cbwd</th>\n",
       "      <th>Iws</th>\n",
       "      <th>Is</th>\n",
       "      <th>Ir</th>\n",
       "    </tr>\n",
       "    <tr>\n",
       "      <th>No</th>\n",
       "      <th></th>\n",
       "      <th></th>\n",
       "      <th></th>\n",
       "      <th></th>\n",
       "      <th></th>\n",
       "      <th></th>\n",
       "      <th></th>\n",
       "      <th></th>\n",
       "      <th></th>\n",
       "      <th></th>\n",
       "      <th></th>\n",
       "      <th></th>\n",
       "    </tr>\n",
       "  </thead>\n",
       "  <tbody>\n",
       "    <tr>\n",
       "      <th>1</th>\n",
       "      <td>2010</td>\n",
       "      <td>1</td>\n",
       "      <td>1</td>\n",
       "      <td>0</td>\n",
       "      <td>NaN</td>\n",
       "      <td>-21</td>\n",
       "      <td>-11.0</td>\n",
       "      <td>1021.0</td>\n",
       "      <td>NW</td>\n",
       "      <td>1.79</td>\n",
       "      <td>0</td>\n",
       "      <td>0</td>\n",
       "    </tr>\n",
       "    <tr>\n",
       "      <th>2</th>\n",
       "      <td>2010</td>\n",
       "      <td>1</td>\n",
       "      <td>1</td>\n",
       "      <td>1</td>\n",
       "      <td>NaN</td>\n",
       "      <td>-21</td>\n",
       "      <td>-12.0</td>\n",
       "      <td>1020.0</td>\n",
       "      <td>NW</td>\n",
       "      <td>4.92</td>\n",
       "      <td>0</td>\n",
       "      <td>0</td>\n",
       "    </tr>\n",
       "    <tr>\n",
       "      <th>3</th>\n",
       "      <td>2010</td>\n",
       "      <td>1</td>\n",
       "      <td>1</td>\n",
       "      <td>2</td>\n",
       "      <td>NaN</td>\n",
       "      <td>-21</td>\n",
       "      <td>-11.0</td>\n",
       "      <td>1019.0</td>\n",
       "      <td>NW</td>\n",
       "      <td>6.71</td>\n",
       "      <td>0</td>\n",
       "      <td>0</td>\n",
       "    </tr>\n",
       "    <tr>\n",
       "      <th>4</th>\n",
       "      <td>2010</td>\n",
       "      <td>1</td>\n",
       "      <td>1</td>\n",
       "      <td>3</td>\n",
       "      <td>NaN</td>\n",
       "      <td>-21</td>\n",
       "      <td>-14.0</td>\n",
       "      <td>1019.0</td>\n",
       "      <td>NW</td>\n",
       "      <td>9.84</td>\n",
       "      <td>0</td>\n",
       "      <td>0</td>\n",
       "    </tr>\n",
       "    <tr>\n",
       "      <th>5</th>\n",
       "      <td>2010</td>\n",
       "      <td>1</td>\n",
       "      <td>1</td>\n",
       "      <td>4</td>\n",
       "      <td>NaN</td>\n",
       "      <td>-20</td>\n",
       "      <td>-12.0</td>\n",
       "      <td>1018.0</td>\n",
       "      <td>NW</td>\n",
       "      <td>12.97</td>\n",
       "      <td>0</td>\n",
       "      <td>0</td>\n",
       "    </tr>\n",
       "  </tbody>\n",
       "</table>\n",
       "</div>"
      ],
      "text/plain": [
       "    year  month  day  hour  pm2.5  DEWP  TEMP    PRES cbwd    Iws  Is  Ir\n",
       "No                                                                       \n",
       "1   2010      1    1     0    NaN   -21 -11.0  1021.0   NW   1.79   0   0\n",
       "2   2010      1    1     1    NaN   -21 -12.0  1020.0   NW   4.92   0   0\n",
       "3   2010      1    1     2    NaN   -21 -11.0  1019.0   NW   6.71   0   0\n",
       "4   2010      1    1     3    NaN   -21 -14.0  1019.0   NW   9.84   0   0\n",
       "5   2010      1    1     4    NaN   -20 -12.0  1018.0   NW  12.97   0   0"
      ]
     },
     "execution_count": 32,
     "metadata": {
      "tags": []
     },
     "output_type": "execute_result"
    }
   ],
   "source": [
    "'''\n",
    "Here's the data for air pollution in Beijing, taken from \n",
    "http://archive.ics.uci.edu/ml/datasets/Beijing+PM2.5+Data#\n",
    "\n",
    "Use LSTM RNN models to predict the air pollution. \n",
    "\n",
    "'''\n",
    "url = 'http://archive.ics.uci.edu/ml/machine-learning-databases/00381/PRSA_data_2010.1.1-2014.12.31.csv'\n",
    "import requests, io\n",
    "\n",
    "c = requests.get(url, stream=True).content\n",
    "data = pd.read_csv(io.BytesIO(c), index_col = 0)\n",
    "data.head()"
   ]
  },
  {
   "cell_type": "code",
   "execution_count": 33,
   "metadata": {
    "colab": {
     "base_uri": "https://localhost:8080/",
     "height": 119
    },
    "colab_type": "code",
    "hidden": true,
    "id": "gu8OCG3qmT7e",
    "outputId": "9423f731-f9bf-4b40-df73-21e5ff66994c"
   },
   "outputs": [
    {
     "data": {
      "text/plain": [
       "Int64Index([    1,     2,     3,     4,     5,     6,     7,     8,     9,\n",
       "               10,\n",
       "            ...\n",
       "            43815, 43816, 43817, 43818, 43819, 43820, 43821, 43822, 43823,\n",
       "            43824],\n",
       "           dtype='int64', name='No', length=43824)"
      ]
     },
     "execution_count": 33,
     "metadata": {
      "tags": []
     },
     "output_type": "execute_result"
    }
   ],
   "source": [
    "'''\n",
    "We probably don't need year, month, day and hour if hour is always increasing by one. \n",
    "It should be enough to keep only the index. \n",
    "'''\n",
    "data.drop(['year', 'month', 'day', 'hour'], axis=1, inplace=True)\n",
    "data.index"
   ]
  },
  {
   "cell_type": "markdown",
   "metadata": {
    "colab_type": "text",
    "hidden": true,
    "id": "RlkgpXVdh499"
   },
   "source": [
    "### Dealing with nan values"
   ]
  },
  {
   "cell_type": "code",
   "execution_count": 34,
   "metadata": {
    "colab": {
     "base_uri": "https://localhost:8080/",
     "height": 170
    },
    "colab_type": "code",
    "hidden": true,
    "id": "Kgz6J3tLhUwm",
    "outputId": "012a96b0-4e48-442a-d1af-12b6168d608a"
   },
   "outputs": [
    {
     "data": {
      "text/plain": [
       "pm2.5     True\n",
       "DEWP     False\n",
       "TEMP     False\n",
       "PRES     False\n",
       "cbwd     False\n",
       "Iws      False\n",
       "Is       False\n",
       "Ir       False\n",
       "dtype: bool"
      ]
     },
     "execution_count": 34,
     "metadata": {
      "tags": []
     },
     "output_type": "execute_result"
    }
   ],
   "source": [
    "data.isna().any()"
   ]
  },
  {
   "cell_type": "code",
   "execution_count": 35,
   "metadata": {
    "colab": {
     "base_uri": "https://localhost:8080/",
     "height": 34
    },
    "colab_type": "code",
    "hidden": true,
    "id": "7aJtTlBkhctc",
    "outputId": "1ca322ac-a68f-48e9-9397-9057f1617ba5"
   },
   "outputs": [
    {
     "data": {
      "text/plain": [
       "2067"
      ]
     },
     "execution_count": 35,
     "metadata": {
      "tags": []
     },
     "output_type": "execute_result"
    }
   ],
   "source": [
    "data['pm2.5'].isna().sum()"
   ]
  },
  {
   "cell_type": "code",
   "execution_count": 36,
   "metadata": {
    "colab": {
     "base_uri": "https://localhost:8080/",
     "height": 34
    },
    "colab_type": "code",
    "hidden": true,
    "id": "UAresmLbhrcZ",
    "outputId": "db438bf1-5f17-4613-e3f2-986a0a01ca43"
   },
   "outputs": [
    {
     "name": "stdout",
     "output_type": "stream",
     "text": [
      "43824\n"
     ]
    }
   ],
   "source": [
    "print(len(data))"
   ]
  },
  {
   "cell_type": "code",
   "execution_count": 0,
   "metadata": {
    "colab": {},
    "colab_type": "code",
    "hidden": true,
    "id": "PoLxtsamhy52"
   },
   "outputs": [],
   "source": [
    "'''\n",
    "There are two many of them and we can't just remove those rows. \n",
    "So we replace the NaN values with the mean of the col. \n",
    "'''\n",
    "\n",
    "data.fillna(data.mean(), inplace=True)"
   ]
  },
  {
   "cell_type": "code",
   "execution_count": 38,
   "metadata": {
    "colab": {
     "base_uri": "https://localhost:8080/",
     "height": 235
    },
    "colab_type": "code",
    "hidden": true,
    "id": "4551f-9qiUXD",
    "outputId": "e354b54c-bff9-420f-c03d-023e3540844b"
   },
   "outputs": [
    {
     "data": {
      "text/html": [
       "<div>\n",
       "<style scoped>\n",
       "    .dataframe tbody tr th:only-of-type {\n",
       "        vertical-align: middle;\n",
       "    }\n",
       "\n",
       "    .dataframe tbody tr th {\n",
       "        vertical-align: top;\n",
       "    }\n",
       "\n",
       "    .dataframe thead th {\n",
       "        text-align: right;\n",
       "    }\n",
       "</style>\n",
       "<table border=\"1\" class=\"dataframe\">\n",
       "  <thead>\n",
       "    <tr style=\"text-align: right;\">\n",
       "      <th></th>\n",
       "      <th>pm2.5</th>\n",
       "      <th>DEWP</th>\n",
       "      <th>TEMP</th>\n",
       "      <th>PRES</th>\n",
       "      <th>cbwd</th>\n",
       "      <th>Iws</th>\n",
       "      <th>Is</th>\n",
       "      <th>Ir</th>\n",
       "    </tr>\n",
       "    <tr>\n",
       "      <th>No</th>\n",
       "      <th></th>\n",
       "      <th></th>\n",
       "      <th></th>\n",
       "      <th></th>\n",
       "      <th></th>\n",
       "      <th></th>\n",
       "      <th></th>\n",
       "      <th></th>\n",
       "    </tr>\n",
       "  </thead>\n",
       "  <tbody>\n",
       "    <tr>\n",
       "      <th>1</th>\n",
       "      <td>98.613215</td>\n",
       "      <td>-21</td>\n",
       "      <td>-11.0</td>\n",
       "      <td>1021.0</td>\n",
       "      <td>NW</td>\n",
       "      <td>1.79</td>\n",
       "      <td>0</td>\n",
       "      <td>0</td>\n",
       "    </tr>\n",
       "    <tr>\n",
       "      <th>2</th>\n",
       "      <td>98.613215</td>\n",
       "      <td>-21</td>\n",
       "      <td>-12.0</td>\n",
       "      <td>1020.0</td>\n",
       "      <td>NW</td>\n",
       "      <td>4.92</td>\n",
       "      <td>0</td>\n",
       "      <td>0</td>\n",
       "    </tr>\n",
       "    <tr>\n",
       "      <th>3</th>\n",
       "      <td>98.613215</td>\n",
       "      <td>-21</td>\n",
       "      <td>-11.0</td>\n",
       "      <td>1019.0</td>\n",
       "      <td>NW</td>\n",
       "      <td>6.71</td>\n",
       "      <td>0</td>\n",
       "      <td>0</td>\n",
       "    </tr>\n",
       "    <tr>\n",
       "      <th>4</th>\n",
       "      <td>98.613215</td>\n",
       "      <td>-21</td>\n",
       "      <td>-14.0</td>\n",
       "      <td>1019.0</td>\n",
       "      <td>NW</td>\n",
       "      <td>9.84</td>\n",
       "      <td>0</td>\n",
       "      <td>0</td>\n",
       "    </tr>\n",
       "    <tr>\n",
       "      <th>5</th>\n",
       "      <td>98.613215</td>\n",
       "      <td>-20</td>\n",
       "      <td>-12.0</td>\n",
       "      <td>1018.0</td>\n",
       "      <td>NW</td>\n",
       "      <td>12.97</td>\n",
       "      <td>0</td>\n",
       "      <td>0</td>\n",
       "    </tr>\n",
       "  </tbody>\n",
       "</table>\n",
       "</div>"
      ],
      "text/plain": [
       "        pm2.5  DEWP  TEMP    PRES cbwd    Iws  Is  Ir\n",
       "No                                                   \n",
       "1   98.613215   -21 -11.0  1021.0   NW   1.79   0   0\n",
       "2   98.613215   -21 -12.0  1020.0   NW   4.92   0   0\n",
       "3   98.613215   -21 -11.0  1019.0   NW   6.71   0   0\n",
       "4   98.613215   -21 -14.0  1019.0   NW   9.84   0   0\n",
       "5   98.613215   -20 -12.0  1018.0   NW  12.97   0   0"
      ]
     },
     "execution_count": 38,
     "metadata": {
      "tags": []
     },
     "output_type": "execute_result"
    }
   ],
   "source": [
    "data.head()"
   ]
  },
  {
   "cell_type": "code",
   "execution_count": 39,
   "metadata": {
    "colab": {
     "base_uri": "https://localhost:8080/",
     "height": 700
    },
    "colab_type": "code",
    "hidden": true,
    "id": "y_YVd6uQixeT",
    "outputId": "386a300d-5fc3-4f1d-c6e6-bcb1dc0b65ff"
   },
   "outputs": [
    {
     "data": {
      "text/html": [
       "<div>\n",
       "<style scoped>\n",
       "    .dataframe tbody tr th:only-of-type {\n",
       "        vertical-align: middle;\n",
       "    }\n",
       "\n",
       "    .dataframe tbody tr th {\n",
       "        vertical-align: top;\n",
       "    }\n",
       "\n",
       "    .dataframe thead th {\n",
       "        text-align: right;\n",
       "    }\n",
       "</style>\n",
       "<table border=\"1\" class=\"dataframe\">\n",
       "  <thead>\n",
       "    <tr style=\"text-align: right;\">\n",
       "      <th></th>\n",
       "      <th>pm2.5</th>\n",
       "      <th>DEWP</th>\n",
       "      <th>TEMP</th>\n",
       "      <th>PRES</th>\n",
       "      <th>cbwd</th>\n",
       "      <th>Iws</th>\n",
       "      <th>Is</th>\n",
       "      <th>Ir</th>\n",
       "    </tr>\n",
       "    <tr>\n",
       "      <th>No</th>\n",
       "      <th></th>\n",
       "      <th></th>\n",
       "      <th></th>\n",
       "      <th></th>\n",
       "      <th></th>\n",
       "      <th></th>\n",
       "      <th></th>\n",
       "      <th></th>\n",
       "    </tr>\n",
       "  </thead>\n",
       "  <tbody>\n",
       "    <tr>\n",
       "      <th>1</th>\n",
       "      <td>98.613215</td>\n",
       "      <td>-21</td>\n",
       "      <td>-11.0</td>\n",
       "      <td>1021.0</td>\n",
       "      <td>1</td>\n",
       "      <td>1.79</td>\n",
       "      <td>0</td>\n",
       "      <td>0</td>\n",
       "    </tr>\n",
       "    <tr>\n",
       "      <th>2</th>\n",
       "      <td>98.613215</td>\n",
       "      <td>-21</td>\n",
       "      <td>-12.0</td>\n",
       "      <td>1020.0</td>\n",
       "      <td>1</td>\n",
       "      <td>4.92</td>\n",
       "      <td>0</td>\n",
       "      <td>0</td>\n",
       "    </tr>\n",
       "    <tr>\n",
       "      <th>3</th>\n",
       "      <td>98.613215</td>\n",
       "      <td>-21</td>\n",
       "      <td>-11.0</td>\n",
       "      <td>1019.0</td>\n",
       "      <td>1</td>\n",
       "      <td>6.71</td>\n",
       "      <td>0</td>\n",
       "      <td>0</td>\n",
       "    </tr>\n",
       "    <tr>\n",
       "      <th>4</th>\n",
       "      <td>98.613215</td>\n",
       "      <td>-21</td>\n",
       "      <td>-14.0</td>\n",
       "      <td>1019.0</td>\n",
       "      <td>1</td>\n",
       "      <td>9.84</td>\n",
       "      <td>0</td>\n",
       "      <td>0</td>\n",
       "    </tr>\n",
       "    <tr>\n",
       "      <th>5</th>\n",
       "      <td>98.613215</td>\n",
       "      <td>-20</td>\n",
       "      <td>-12.0</td>\n",
       "      <td>1018.0</td>\n",
       "      <td>1</td>\n",
       "      <td>12.97</td>\n",
       "      <td>0</td>\n",
       "      <td>0</td>\n",
       "    </tr>\n",
       "    <tr>\n",
       "      <th>6</th>\n",
       "      <td>98.613215</td>\n",
       "      <td>-19</td>\n",
       "      <td>-10.0</td>\n",
       "      <td>1017.0</td>\n",
       "      <td>1</td>\n",
       "      <td>16.10</td>\n",
       "      <td>0</td>\n",
       "      <td>0</td>\n",
       "    </tr>\n",
       "    <tr>\n",
       "      <th>7</th>\n",
       "      <td>98.613215</td>\n",
       "      <td>-19</td>\n",
       "      <td>-9.0</td>\n",
       "      <td>1017.0</td>\n",
       "      <td>1</td>\n",
       "      <td>19.23</td>\n",
       "      <td>0</td>\n",
       "      <td>0</td>\n",
       "    </tr>\n",
       "    <tr>\n",
       "      <th>8</th>\n",
       "      <td>98.613215</td>\n",
       "      <td>-19</td>\n",
       "      <td>-9.0</td>\n",
       "      <td>1017.0</td>\n",
       "      <td>1</td>\n",
       "      <td>21.02</td>\n",
       "      <td>0</td>\n",
       "      <td>0</td>\n",
       "    </tr>\n",
       "    <tr>\n",
       "      <th>9</th>\n",
       "      <td>98.613215</td>\n",
       "      <td>-19</td>\n",
       "      <td>-9.0</td>\n",
       "      <td>1017.0</td>\n",
       "      <td>1</td>\n",
       "      <td>24.15</td>\n",
       "      <td>0</td>\n",
       "      <td>0</td>\n",
       "    </tr>\n",
       "    <tr>\n",
       "      <th>10</th>\n",
       "      <td>98.613215</td>\n",
       "      <td>-20</td>\n",
       "      <td>-8.0</td>\n",
       "      <td>1017.0</td>\n",
       "      <td>1</td>\n",
       "      <td>27.28</td>\n",
       "      <td>0</td>\n",
       "      <td>0</td>\n",
       "    </tr>\n",
       "    <tr>\n",
       "      <th>11</th>\n",
       "      <td>98.613215</td>\n",
       "      <td>-19</td>\n",
       "      <td>-7.0</td>\n",
       "      <td>1017.0</td>\n",
       "      <td>1</td>\n",
       "      <td>31.30</td>\n",
       "      <td>0</td>\n",
       "      <td>0</td>\n",
       "    </tr>\n",
       "    <tr>\n",
       "      <th>12</th>\n",
       "      <td>98.613215</td>\n",
       "      <td>-18</td>\n",
       "      <td>-5.0</td>\n",
       "      <td>1017.0</td>\n",
       "      <td>1</td>\n",
       "      <td>34.43</td>\n",
       "      <td>0</td>\n",
       "      <td>0</td>\n",
       "    </tr>\n",
       "    <tr>\n",
       "      <th>13</th>\n",
       "      <td>98.613215</td>\n",
       "      <td>-19</td>\n",
       "      <td>-5.0</td>\n",
       "      <td>1015.0</td>\n",
       "      <td>1</td>\n",
       "      <td>37.56</td>\n",
       "      <td>0</td>\n",
       "      <td>0</td>\n",
       "    </tr>\n",
       "    <tr>\n",
       "      <th>14</th>\n",
       "      <td>98.613215</td>\n",
       "      <td>-18</td>\n",
       "      <td>-3.0</td>\n",
       "      <td>1015.0</td>\n",
       "      <td>1</td>\n",
       "      <td>40.69</td>\n",
       "      <td>0</td>\n",
       "      <td>0</td>\n",
       "    </tr>\n",
       "    <tr>\n",
       "      <th>15</th>\n",
       "      <td>98.613215</td>\n",
       "      <td>-18</td>\n",
       "      <td>-2.0</td>\n",
       "      <td>1014.0</td>\n",
       "      <td>1</td>\n",
       "      <td>43.82</td>\n",
       "      <td>0</td>\n",
       "      <td>0</td>\n",
       "    </tr>\n",
       "    <tr>\n",
       "      <th>16</th>\n",
       "      <td>98.613215</td>\n",
       "      <td>-18</td>\n",
       "      <td>-1.0</td>\n",
       "      <td>1014.0</td>\n",
       "      <td>3</td>\n",
       "      <td>0.89</td>\n",
       "      <td>0</td>\n",
       "      <td>0</td>\n",
       "    </tr>\n",
       "    <tr>\n",
       "      <th>17</th>\n",
       "      <td>98.613215</td>\n",
       "      <td>-19</td>\n",
       "      <td>-2.0</td>\n",
       "      <td>1015.0</td>\n",
       "      <td>1</td>\n",
       "      <td>1.79</td>\n",
       "      <td>0</td>\n",
       "      <td>0</td>\n",
       "    </tr>\n",
       "    <tr>\n",
       "      <th>18</th>\n",
       "      <td>98.613215</td>\n",
       "      <td>-18</td>\n",
       "      <td>-3.0</td>\n",
       "      <td>1015.0</td>\n",
       "      <td>1</td>\n",
       "      <td>2.68</td>\n",
       "      <td>0</td>\n",
       "      <td>0</td>\n",
       "    </tr>\n",
       "    <tr>\n",
       "      <th>19</th>\n",
       "      <td>98.613215</td>\n",
       "      <td>-18</td>\n",
       "      <td>-5.0</td>\n",
       "      <td>1016.0</td>\n",
       "      <td>0</td>\n",
       "      <td>1.79</td>\n",
       "      <td>0</td>\n",
       "      <td>0</td>\n",
       "    </tr>\n",
       "    <tr>\n",
       "      <th>20</th>\n",
       "      <td>98.613215</td>\n",
       "      <td>-17</td>\n",
       "      <td>-4.0</td>\n",
       "      <td>1017.0</td>\n",
       "      <td>1</td>\n",
       "      <td>1.79</td>\n",
       "      <td>0</td>\n",
       "      <td>0</td>\n",
       "    </tr>\n",
       "  </tbody>\n",
       "</table>\n",
       "</div>"
      ],
      "text/plain": [
       "        pm2.5  DEWP  TEMP    PRES  cbwd    Iws  Is  Ir\n",
       "No                                                    \n",
       "1   98.613215   -21 -11.0  1021.0     1   1.79   0   0\n",
       "2   98.613215   -21 -12.0  1020.0     1   4.92   0   0\n",
       "3   98.613215   -21 -11.0  1019.0     1   6.71   0   0\n",
       "4   98.613215   -21 -14.0  1019.0     1   9.84   0   0\n",
       "5   98.613215   -20 -12.0  1018.0     1  12.97   0   0\n",
       "6   98.613215   -19 -10.0  1017.0     1  16.10   0   0\n",
       "7   98.613215   -19  -9.0  1017.0     1  19.23   0   0\n",
       "8   98.613215   -19  -9.0  1017.0     1  21.02   0   0\n",
       "9   98.613215   -19  -9.0  1017.0     1  24.15   0   0\n",
       "10  98.613215   -20  -8.0  1017.0     1  27.28   0   0\n",
       "11  98.613215   -19  -7.0  1017.0     1  31.30   0   0\n",
       "12  98.613215   -18  -5.0  1017.0     1  34.43   0   0\n",
       "13  98.613215   -19  -5.0  1015.0     1  37.56   0   0\n",
       "14  98.613215   -18  -3.0  1015.0     1  40.69   0   0\n",
       "15  98.613215   -18  -2.0  1014.0     1  43.82   0   0\n",
       "16  98.613215   -18  -1.0  1014.0     3   0.89   0   0\n",
       "17  98.613215   -19  -2.0  1015.0     1   1.79   0   0\n",
       "18  98.613215   -18  -3.0  1015.0     1   2.68   0   0\n",
       "19  98.613215   -18  -5.0  1016.0     0   1.79   0   0\n",
       "20  98.613215   -17  -4.0  1017.0     1   1.79   0   0"
      ]
     },
     "execution_count": 39,
     "metadata": {
      "tags": []
     },
     "output_type": "execute_result"
    }
   ],
   "source": [
    "'''\n",
    "Next we need to turn categorical values to numerical ones. \n",
    "'''\n",
    "data.cbwd = data.cbwd.astype(\"category\").cat.codes\n",
    "data.head(20)"
   ]
  },
  {
   "cell_type": "code",
   "execution_count": 0,
   "metadata": {
    "colab": {},
    "colab_type": "code",
    "hidden": true,
    "id": "O37L7o8ekGaQ"
   },
   "outputs": [],
   "source": [
    "'''\n",
    "We also need to normalize the data. \n",
    "'''\n",
    "# normalized_data=(data-data.mean())/data.std()\n",
    "normalized_data=(data-data.min())/(data.max()-data.min())\n"
   ]
  },
  {
   "cell_type": "code",
   "execution_count": 41,
   "metadata": {
    "colab": {
     "base_uri": "https://localhost:8080/",
     "height": 34
    },
    "colab_type": "code",
    "hidden": true,
    "id": "vTdkN0H3k1-d",
    "outputId": "ebd0948c-10f4-4bfb-b2ad-0b3909070e86"
   },
   "outputs": [
    {
     "data": {
      "text/plain": [
       "8"
      ]
     },
     "execution_count": 41,
     "metadata": {
      "tags": []
     },
     "output_type": "execute_result"
    }
   ],
   "source": [
    "n_f = data.shape[1] \n",
    "n_f"
   ]
  },
  {
   "cell_type": "code",
   "execution_count": 42,
   "metadata": {
    "colab": {
     "base_uri": "https://localhost:8080/",
     "height": 289
    },
    "colab_type": "code",
    "hidden": true,
    "id": "g5yGTHTmqHO-",
    "outputId": "3bbca495-9c1a-4fb8-a65f-5e574e7045cd"
   },
   "outputs": [
    {
     "data": {
      "text/html": [
       "<div>\n",
       "<style scoped>\n",
       "    .dataframe tbody tr th:only-of-type {\n",
       "        vertical-align: middle;\n",
       "    }\n",
       "\n",
       "    .dataframe tbody tr th {\n",
       "        vertical-align: top;\n",
       "    }\n",
       "\n",
       "    .dataframe thead th {\n",
       "        text-align: right;\n",
       "    }\n",
       "</style>\n",
       "<table border=\"1\" class=\"dataframe\">\n",
       "  <thead>\n",
       "    <tr style=\"text-align: right;\">\n",
       "      <th></th>\n",
       "      <th>pm2.5</th>\n",
       "      <th>DEWP</th>\n",
       "      <th>TEMP</th>\n",
       "      <th>PRES</th>\n",
       "      <th>cbwd</th>\n",
       "      <th>Iws</th>\n",
       "      <th>Is</th>\n",
       "      <th>Ir</th>\n",
       "      <th>pm2.5 (h-1)</th>\n",
       "      <th>DEWP (h-1)</th>\n",
       "      <th>TEMP (h-1)</th>\n",
       "      <th>PRES (h-1)</th>\n",
       "      <th>cbwd (h-1)</th>\n",
       "      <th>Iws (h-1)</th>\n",
       "      <th>Is (h-1)</th>\n",
       "      <th>Ir (h-1)</th>\n",
       "      <th>pm2.5 (h-2)</th>\n",
       "      <th>DEWP (h-2)</th>\n",
       "      <th>TEMP (h-2)</th>\n",
       "      <th>PRES (h-2)</th>\n",
       "      <th>cbwd (h-2)</th>\n",
       "      <th>Iws (h-2)</th>\n",
       "      <th>Is (h-2)</th>\n",
       "      <th>Ir (h-2)</th>\n",
       "      <th>pm2.5 (h-3)</th>\n",
       "      <th>DEWP (h-3)</th>\n",
       "      <th>TEMP (h-3)</th>\n",
       "      <th>PRES (h-3)</th>\n",
       "      <th>cbwd (h-3)</th>\n",
       "      <th>Iws (h-3)</th>\n",
       "      <th>Is (h-3)</th>\n",
       "      <th>Ir (h-3)</th>\n",
       "      <th>pm2.5 (h-4)</th>\n",
       "      <th>DEWP (h-4)</th>\n",
       "      <th>TEMP (h-4)</th>\n",
       "      <th>PRES (h-4)</th>\n",
       "      <th>cbwd (h-4)</th>\n",
       "      <th>Iws (h-4)</th>\n",
       "      <th>Is (h-4)</th>\n",
       "      <th>Ir (h-4)</th>\n",
       "      <th>pm2.5 (h-5)</th>\n",
       "      <th>DEWP (h-5)</th>\n",
       "      <th>TEMP (h-5)</th>\n",
       "      <th>PRES (h-5)</th>\n",
       "      <th>cbwd (h-5)</th>\n",
       "      <th>Iws (h-5)</th>\n",
       "      <th>Is (h-5)</th>\n",
       "      <th>Ir (h-5)</th>\n",
       "      <th>pm2.5 (h-6)</th>\n",
       "      <th>DEWP (h-6)</th>\n",
       "      <th>TEMP (h-6)</th>\n",
       "      <th>PRES (h-6)</th>\n",
       "      <th>cbwd (h-6)</th>\n",
       "      <th>Iws (h-6)</th>\n",
       "      <th>Is (h-6)</th>\n",
       "      <th>Ir (h-6)</th>\n",
       "    </tr>\n",
       "    <tr>\n",
       "      <th>No</th>\n",
       "      <th></th>\n",
       "      <th></th>\n",
       "      <th></th>\n",
       "      <th></th>\n",
       "      <th></th>\n",
       "      <th></th>\n",
       "      <th></th>\n",
       "      <th></th>\n",
       "      <th></th>\n",
       "      <th></th>\n",
       "      <th></th>\n",
       "      <th></th>\n",
       "      <th></th>\n",
       "      <th></th>\n",
       "      <th></th>\n",
       "      <th></th>\n",
       "      <th></th>\n",
       "      <th></th>\n",
       "      <th></th>\n",
       "      <th></th>\n",
       "      <th></th>\n",
       "      <th></th>\n",
       "      <th></th>\n",
       "      <th></th>\n",
       "      <th></th>\n",
       "      <th></th>\n",
       "      <th></th>\n",
       "      <th></th>\n",
       "      <th></th>\n",
       "      <th></th>\n",
       "      <th></th>\n",
       "      <th></th>\n",
       "      <th></th>\n",
       "      <th></th>\n",
       "      <th></th>\n",
       "      <th></th>\n",
       "      <th></th>\n",
       "      <th></th>\n",
       "      <th></th>\n",
       "      <th></th>\n",
       "      <th></th>\n",
       "      <th></th>\n",
       "      <th></th>\n",
       "      <th></th>\n",
       "      <th></th>\n",
       "      <th></th>\n",
       "      <th></th>\n",
       "      <th></th>\n",
       "      <th></th>\n",
       "      <th></th>\n",
       "      <th></th>\n",
       "      <th></th>\n",
       "      <th></th>\n",
       "      <th></th>\n",
       "      <th></th>\n",
       "      <th></th>\n",
       "    </tr>\n",
       "  </thead>\n",
       "  <tbody>\n",
       "    <tr>\n",
       "      <th>1</th>\n",
       "      <td>0.099208</td>\n",
       "      <td>0.279412</td>\n",
       "      <td>0.131148</td>\n",
       "      <td>0.545455</td>\n",
       "      <td>0.333333</td>\n",
       "      <td>0.002290</td>\n",
       "      <td>0.0</td>\n",
       "      <td>0.0</td>\n",
       "      <td>NaN</td>\n",
       "      <td>NaN</td>\n",
       "      <td>NaN</td>\n",
       "      <td>NaN</td>\n",
       "      <td>NaN</td>\n",
       "      <td>NaN</td>\n",
       "      <td>NaN</td>\n",
       "      <td>NaN</td>\n",
       "      <td>NaN</td>\n",
       "      <td>NaN</td>\n",
       "      <td>NaN</td>\n",
       "      <td>NaN</td>\n",
       "      <td>NaN</td>\n",
       "      <td>NaN</td>\n",
       "      <td>NaN</td>\n",
       "      <td>NaN</td>\n",
       "      <td>NaN</td>\n",
       "      <td>NaN</td>\n",
       "      <td>NaN</td>\n",
       "      <td>NaN</td>\n",
       "      <td>NaN</td>\n",
       "      <td>NaN</td>\n",
       "      <td>NaN</td>\n",
       "      <td>NaN</td>\n",
       "      <td>NaN</td>\n",
       "      <td>NaN</td>\n",
       "      <td>NaN</td>\n",
       "      <td>NaN</td>\n",
       "      <td>NaN</td>\n",
       "      <td>NaN</td>\n",
       "      <td>NaN</td>\n",
       "      <td>NaN</td>\n",
       "      <td>NaN</td>\n",
       "      <td>NaN</td>\n",
       "      <td>NaN</td>\n",
       "      <td>NaN</td>\n",
       "      <td>NaN</td>\n",
       "      <td>NaN</td>\n",
       "      <td>NaN</td>\n",
       "      <td>NaN</td>\n",
       "      <td>NaN</td>\n",
       "      <td>NaN</td>\n",
       "      <td>NaN</td>\n",
       "      <td>NaN</td>\n",
       "      <td>NaN</td>\n",
       "      <td>NaN</td>\n",
       "      <td>NaN</td>\n",
       "      <td>NaN</td>\n",
       "    </tr>\n",
       "    <tr>\n",
       "      <th>2</th>\n",
       "      <td>0.099208</td>\n",
       "      <td>0.279412</td>\n",
       "      <td>0.114754</td>\n",
       "      <td>0.527273</td>\n",
       "      <td>0.333333</td>\n",
       "      <td>0.007639</td>\n",
       "      <td>0.0</td>\n",
       "      <td>0.0</td>\n",
       "      <td>0.099208</td>\n",
       "      <td>0.279412</td>\n",
       "      <td>0.131148</td>\n",
       "      <td>0.545455</td>\n",
       "      <td>0.333333</td>\n",
       "      <td>0.002290</td>\n",
       "      <td>0.0</td>\n",
       "      <td>0.0</td>\n",
       "      <td>NaN</td>\n",
       "      <td>NaN</td>\n",
       "      <td>NaN</td>\n",
       "      <td>NaN</td>\n",
       "      <td>NaN</td>\n",
       "      <td>NaN</td>\n",
       "      <td>NaN</td>\n",
       "      <td>NaN</td>\n",
       "      <td>NaN</td>\n",
       "      <td>NaN</td>\n",
       "      <td>NaN</td>\n",
       "      <td>NaN</td>\n",
       "      <td>NaN</td>\n",
       "      <td>NaN</td>\n",
       "      <td>NaN</td>\n",
       "      <td>NaN</td>\n",
       "      <td>NaN</td>\n",
       "      <td>NaN</td>\n",
       "      <td>NaN</td>\n",
       "      <td>NaN</td>\n",
       "      <td>NaN</td>\n",
       "      <td>NaN</td>\n",
       "      <td>NaN</td>\n",
       "      <td>NaN</td>\n",
       "      <td>NaN</td>\n",
       "      <td>NaN</td>\n",
       "      <td>NaN</td>\n",
       "      <td>NaN</td>\n",
       "      <td>NaN</td>\n",
       "      <td>NaN</td>\n",
       "      <td>NaN</td>\n",
       "      <td>NaN</td>\n",
       "      <td>NaN</td>\n",
       "      <td>NaN</td>\n",
       "      <td>NaN</td>\n",
       "      <td>NaN</td>\n",
       "      <td>NaN</td>\n",
       "      <td>NaN</td>\n",
       "      <td>NaN</td>\n",
       "      <td>NaN</td>\n",
       "    </tr>\n",
       "    <tr>\n",
       "      <th>3</th>\n",
       "      <td>0.099208</td>\n",
       "      <td>0.279412</td>\n",
       "      <td>0.131148</td>\n",
       "      <td>0.509091</td>\n",
       "      <td>0.333333</td>\n",
       "      <td>0.010698</td>\n",
       "      <td>0.0</td>\n",
       "      <td>0.0</td>\n",
       "      <td>0.099208</td>\n",
       "      <td>0.279412</td>\n",
       "      <td>0.114754</td>\n",
       "      <td>0.527273</td>\n",
       "      <td>0.333333</td>\n",
       "      <td>0.007639</td>\n",
       "      <td>0.0</td>\n",
       "      <td>0.0</td>\n",
       "      <td>0.099208</td>\n",
       "      <td>0.279412</td>\n",
       "      <td>0.131148</td>\n",
       "      <td>0.545455</td>\n",
       "      <td>0.333333</td>\n",
       "      <td>0.002290</td>\n",
       "      <td>0.0</td>\n",
       "      <td>0.0</td>\n",
       "      <td>NaN</td>\n",
       "      <td>NaN</td>\n",
       "      <td>NaN</td>\n",
       "      <td>NaN</td>\n",
       "      <td>NaN</td>\n",
       "      <td>NaN</td>\n",
       "      <td>NaN</td>\n",
       "      <td>NaN</td>\n",
       "      <td>NaN</td>\n",
       "      <td>NaN</td>\n",
       "      <td>NaN</td>\n",
       "      <td>NaN</td>\n",
       "      <td>NaN</td>\n",
       "      <td>NaN</td>\n",
       "      <td>NaN</td>\n",
       "      <td>NaN</td>\n",
       "      <td>NaN</td>\n",
       "      <td>NaN</td>\n",
       "      <td>NaN</td>\n",
       "      <td>NaN</td>\n",
       "      <td>NaN</td>\n",
       "      <td>NaN</td>\n",
       "      <td>NaN</td>\n",
       "      <td>NaN</td>\n",
       "      <td>NaN</td>\n",
       "      <td>NaN</td>\n",
       "      <td>NaN</td>\n",
       "      <td>NaN</td>\n",
       "      <td>NaN</td>\n",
       "      <td>NaN</td>\n",
       "      <td>NaN</td>\n",
       "      <td>NaN</td>\n",
       "    </tr>\n",
       "    <tr>\n",
       "      <th>4</th>\n",
       "      <td>0.099208</td>\n",
       "      <td>0.279412</td>\n",
       "      <td>0.081967</td>\n",
       "      <td>0.509091</td>\n",
       "      <td>0.333333</td>\n",
       "      <td>0.016047</td>\n",
       "      <td>0.0</td>\n",
       "      <td>0.0</td>\n",
       "      <td>0.099208</td>\n",
       "      <td>0.279412</td>\n",
       "      <td>0.131148</td>\n",
       "      <td>0.509091</td>\n",
       "      <td>0.333333</td>\n",
       "      <td>0.010698</td>\n",
       "      <td>0.0</td>\n",
       "      <td>0.0</td>\n",
       "      <td>0.099208</td>\n",
       "      <td>0.279412</td>\n",
       "      <td>0.114754</td>\n",
       "      <td>0.527273</td>\n",
       "      <td>0.333333</td>\n",
       "      <td>0.007639</td>\n",
       "      <td>0.0</td>\n",
       "      <td>0.0</td>\n",
       "      <td>0.099208</td>\n",
       "      <td>0.279412</td>\n",
       "      <td>0.131148</td>\n",
       "      <td>0.545455</td>\n",
       "      <td>0.333333</td>\n",
       "      <td>0.002290</td>\n",
       "      <td>0.0</td>\n",
       "      <td>0.0</td>\n",
       "      <td>NaN</td>\n",
       "      <td>NaN</td>\n",
       "      <td>NaN</td>\n",
       "      <td>NaN</td>\n",
       "      <td>NaN</td>\n",
       "      <td>NaN</td>\n",
       "      <td>NaN</td>\n",
       "      <td>NaN</td>\n",
       "      <td>NaN</td>\n",
       "      <td>NaN</td>\n",
       "      <td>NaN</td>\n",
       "      <td>NaN</td>\n",
       "      <td>NaN</td>\n",
       "      <td>NaN</td>\n",
       "      <td>NaN</td>\n",
       "      <td>NaN</td>\n",
       "      <td>NaN</td>\n",
       "      <td>NaN</td>\n",
       "      <td>NaN</td>\n",
       "      <td>NaN</td>\n",
       "      <td>NaN</td>\n",
       "      <td>NaN</td>\n",
       "      <td>NaN</td>\n",
       "      <td>NaN</td>\n",
       "    </tr>\n",
       "    <tr>\n",
       "      <th>5</th>\n",
       "      <td>0.099208</td>\n",
       "      <td>0.294118</td>\n",
       "      <td>0.114754</td>\n",
       "      <td>0.490909</td>\n",
       "      <td>0.333333</td>\n",
       "      <td>0.021396</td>\n",
       "      <td>0.0</td>\n",
       "      <td>0.0</td>\n",
       "      <td>0.099208</td>\n",
       "      <td>0.279412</td>\n",
       "      <td>0.081967</td>\n",
       "      <td>0.509091</td>\n",
       "      <td>0.333333</td>\n",
       "      <td>0.016047</td>\n",
       "      <td>0.0</td>\n",
       "      <td>0.0</td>\n",
       "      <td>0.099208</td>\n",
       "      <td>0.279412</td>\n",
       "      <td>0.131148</td>\n",
       "      <td>0.509091</td>\n",
       "      <td>0.333333</td>\n",
       "      <td>0.010698</td>\n",
       "      <td>0.0</td>\n",
       "      <td>0.0</td>\n",
       "      <td>0.099208</td>\n",
       "      <td>0.279412</td>\n",
       "      <td>0.114754</td>\n",
       "      <td>0.527273</td>\n",
       "      <td>0.333333</td>\n",
       "      <td>0.007639</td>\n",
       "      <td>0.0</td>\n",
       "      <td>0.0</td>\n",
       "      <td>0.099208</td>\n",
       "      <td>0.279412</td>\n",
       "      <td>0.131148</td>\n",
       "      <td>0.545455</td>\n",
       "      <td>0.333333</td>\n",
       "      <td>0.00229</td>\n",
       "      <td>0.0</td>\n",
       "      <td>0.0</td>\n",
       "      <td>NaN</td>\n",
       "      <td>NaN</td>\n",
       "      <td>NaN</td>\n",
       "      <td>NaN</td>\n",
       "      <td>NaN</td>\n",
       "      <td>NaN</td>\n",
       "      <td>NaN</td>\n",
       "      <td>NaN</td>\n",
       "      <td>NaN</td>\n",
       "      <td>NaN</td>\n",
       "      <td>NaN</td>\n",
       "      <td>NaN</td>\n",
       "      <td>NaN</td>\n",
       "      <td>NaN</td>\n",
       "      <td>NaN</td>\n",
       "      <td>NaN</td>\n",
       "    </tr>\n",
       "  </tbody>\n",
       "</table>\n",
       "</div>"
      ],
      "text/plain": [
       "       pm2.5      DEWP      TEMP  ...  Iws (h-6)  Is (h-6)  Ir (h-6)\n",
       "No                                ...                               \n",
       "1   0.099208  0.279412  0.131148  ...        NaN       NaN       NaN\n",
       "2   0.099208  0.279412  0.114754  ...        NaN       NaN       NaN\n",
       "3   0.099208  0.279412  0.131148  ...        NaN       NaN       NaN\n",
       "4   0.099208  0.279412  0.081967  ...        NaN       NaN       NaN\n",
       "5   0.099208  0.294118  0.114754  ...        NaN       NaN       NaN\n",
       "\n",
       "[5 rows x 56 columns]"
      ]
     },
     "execution_count": 42,
     "metadata": {
      "tags": []
     },
     "output_type": "execute_result"
    }
   ],
   "source": [
    "hist = range(1,n_ts+1)\n",
    "\n",
    "df = normalized_data.assign(**{\n",
    "    '{} (h-{})'.format(col, t): normalized_data[col].shift(t)\n",
    "    for t in hist\n",
    "    for col in normalized_data\n",
    "})\n",
    "\n",
    "df.head()"
   ]
  },
  {
   "cell_type": "code",
   "execution_count": 0,
   "metadata": {
    "colab": {},
    "colab_type": "code",
    "hidden": true,
    "id": "KvFYLV-iE31q"
   },
   "outputs": [],
   "source": [
    "### Next we get rid of the first n_ts rows that have nan values. \n",
    "df.dropna(axis=0, inplace=True)"
   ]
  },
  {
   "cell_type": "code",
   "execution_count": 44,
   "metadata": {
    "colab": {
     "base_uri": "https://localhost:8080/",
     "height": 51
    },
    "colab_type": "code",
    "hidden": true,
    "id": "QI8eiHmKoArg",
    "outputId": "c2de032b-aa8b-442f-8f46-3d960b465f0f"
   },
   "outputs": [
    {
     "name": "stdout",
     "output_type": "stream",
     "text": [
      "(43818, 48)\n"
     ]
    },
    {
     "data": {
      "text/plain": [
       "(43818, 6, 8)"
      ]
     },
     "execution_count": 44,
     "metadata": {
      "tags": []
     },
     "output_type": "execute_result"
    }
   ],
   "source": [
    "### The target is the pollution of the day\n",
    "Y = df['pm2.5'].values\n",
    "\n",
    "### Then we get rid of all the measurements of that day. \n",
    "X = df.drop(data.columns, axis=1).values\n",
    "\n",
    "print(X.shape)\n",
    "X = X.reshape(-1, n_ts, n_f)\n",
    "X.shape"
   ]
  },
  {
   "cell_type": "code",
   "execution_count": 0,
   "metadata": {
    "colab": {},
    "colab_type": "code",
    "hidden": true,
    "id": "ebCOzx2SlEau"
   },
   "outputs": [],
   "source": [
    "'''\n",
    "Before generating the train and validation sets, let's \n",
    "hold a portion of the data for prediction. \n",
    "We seperate the data for the last n_prediction \n",
    "months and later test to see how well our model \n",
    "can predict the target for these months. \n",
    "'''\n",
    "X_future = X[-n_prediction:]\n",
    "Y_future = Y[-n_prediction:]\n",
    "\n",
    "X = X[:-n_prediction]\n",
    "Y = Y[:-n_prediction]"
   ]
  },
  {
   "cell_type": "code",
   "execution_count": 46,
   "metadata": {
    "colab": {
     "base_uri": "https://localhost:8080/",
     "height": 34
    },
    "colab_type": "code",
    "hidden": true,
    "id": "qB-xEha1pNap",
    "outputId": "2ee58a5c-24cc-41c1-f4eb-7391420becff"
   },
   "outputs": [
    {
     "name": "stdout",
     "output_type": "stream",
     "text": [
      "(32818, 6, 8)\n"
     ]
    }
   ],
   "source": [
    "from sklearn.model_selection import train_test_split\n",
    "X_train, X_test, Y_train, Y_test = train_test_split(X, Y, random_state = 0)\n",
    "print(X_train.shape)"
   ]
  },
  {
   "cell_type": "code",
   "execution_count": 0,
   "metadata": {
    "colab": {},
    "colab_type": "code",
    "hidden": true,
    "id": "LH7v0xZeozdl"
   },
   "outputs": [],
   "source": [
    "from tensorflow.keras.layers import LSTM, GRU, Dense, Dropout"
   ]
  },
  {
   "cell_type": "code",
   "execution_count": 48,
   "metadata": {
    "colab": {
     "base_uri": "https://localhost:8080/",
     "height": 1000
    },
    "colab_type": "code",
    "hidden": true,
    "id": "l-ZxlbtFo37z",
    "outputId": "497bd0fa-c076-4fd7-ce7b-fa8475e0e497"
   },
   "outputs": [
    {
     "name": "stdout",
     "output_type": "stream",
     "text": [
      "Epoch 1/50\n",
      "2052/2052 [==============================] - 15s 8ms/step - loss: 0.0019 - val_loss: 0.0010\n",
      "Epoch 2/50\n",
      "2052/2052 [==============================] - 15s 7ms/step - loss: 0.0013 - val_loss: 8.4883e-04\n",
      "Epoch 3/50\n",
      "2052/2052 [==============================] - 15s 7ms/step - loss: 0.0012 - val_loss: 9.4463e-04\n",
      "Epoch 4/50\n",
      "2052/2052 [==============================] - 15s 7ms/step - loss: 0.0011 - val_loss: 7.7508e-04\n",
      "Epoch 5/50\n",
      "2052/2052 [==============================] - 15s 7ms/step - loss: 0.0011 - val_loss: 8.7953e-04\n",
      "Epoch 6/50\n",
      "2052/2052 [==============================] - 15s 7ms/step - loss: 0.0010 - val_loss: 0.0012\n",
      "Epoch 7/50\n",
      "2052/2052 [==============================] - 15s 7ms/step - loss: 0.0010 - val_loss: 6.9995e-04\n",
      "Epoch 8/50\n",
      "2052/2052 [==============================] - 15s 7ms/step - loss: 9.9189e-04 - val_loss: 7.0381e-04\n",
      "Epoch 9/50\n",
      "2052/2052 [==============================] - 14s 7ms/step - loss: 9.7491e-04 - val_loss: 6.9939e-04\n",
      "Epoch 10/50\n",
      "2052/2052 [==============================] - 15s 7ms/step - loss: 9.7434e-04 - val_loss: 7.4994e-04\n",
      "Epoch 11/50\n",
      "2052/2052 [==============================] - 15s 7ms/step - loss: 9.5863e-04 - val_loss: 6.1507e-04\n",
      "Epoch 12/50\n",
      "2052/2052 [==============================] - 15s 7ms/step - loss: 9.2609e-04 - val_loss: 6.1222e-04\n",
      "Epoch 13/50\n",
      "2052/2052 [==============================] - 15s 7ms/step - loss: 9.1270e-04 - val_loss: 6.1456e-04\n",
      "Epoch 14/50\n",
      "2052/2052 [==============================] - 15s 7ms/step - loss: 9.1530e-04 - val_loss: 6.0829e-04\n",
      "Epoch 15/50\n",
      "2052/2052 [==============================] - 15s 7ms/step - loss: 9.0092e-04 - val_loss: 6.6799e-04\n",
      "Epoch 16/50\n",
      "2052/2052 [==============================] - 15s 7ms/step - loss: 8.9980e-04 - val_loss: 6.6413e-04\n",
      "Epoch 17/50\n",
      "2052/2052 [==============================] - 15s 7ms/step - loss: 9.0811e-04 - val_loss: 5.7905e-04\n",
      "Epoch 18/50\n",
      "2052/2052 [==============================] - 15s 7ms/step - loss: 9.1135e-04 - val_loss: 6.6544e-04\n",
      "Epoch 19/50\n",
      "2052/2052 [==============================] - 15s 7ms/step - loss: 8.8131e-04 - val_loss: 6.5875e-04\n",
      "Epoch 20/50\n",
      "2052/2052 [==============================] - 15s 7ms/step - loss: 8.8241e-04 - val_loss: 5.8703e-04\n",
      "Epoch 21/50\n",
      "2052/2052 [==============================] - 15s 7ms/step - loss: 8.4768e-04 - val_loss: 5.7221e-04\n",
      "Epoch 22/50\n",
      "2052/2052 [==============================] - 15s 7ms/step - loss: 8.6441e-04 - val_loss: 5.6907e-04\n",
      "Epoch 23/50\n",
      "2052/2052 [==============================] - 15s 7ms/step - loss: 8.8277e-04 - val_loss: 6.0118e-04\n",
      "Epoch 24/50\n",
      "2052/2052 [==============================] - 14s 7ms/step - loss: 8.5815e-04 - val_loss: 5.8888e-04\n",
      "Epoch 25/50\n",
      "2052/2052 [==============================] - 15s 7ms/step - loss: 8.7129e-04 - val_loss: 6.0102e-04\n",
      "Epoch 26/50\n",
      "2052/2052 [==============================] - 15s 7ms/step - loss: 8.6621e-04 - val_loss: 6.2692e-04\n",
      "Epoch 27/50\n",
      "2052/2052 [==============================] - 15s 7ms/step - loss: 8.5955e-04 - val_loss: 5.8531e-04\n",
      "Epoch 28/50\n",
      "2052/2052 [==============================] - 15s 7ms/step - loss: 8.5969e-04 - val_loss: 5.8500e-04\n",
      "Epoch 29/50\n",
      "2052/2052 [==============================] - 15s 7ms/step - loss: 8.2955e-04 - val_loss: 5.6165e-04\n",
      "Epoch 30/50\n",
      "2052/2052 [==============================] - 15s 7ms/step - loss: 8.4695e-04 - val_loss: 6.2072e-04\n",
      "Epoch 31/50\n",
      "2052/2052 [==============================] - 15s 7ms/step - loss: 8.3944e-04 - val_loss: 6.8352e-04\n",
      "Epoch 32/50\n",
      "2052/2052 [==============================] - 15s 7ms/step - loss: 8.4146e-04 - val_loss: 5.5604e-04\n",
      "Epoch 33/50\n",
      "2052/2052 [==============================] - 15s 7ms/step - loss: 8.3563e-04 - val_loss: 6.1272e-04\n",
      "Epoch 34/50\n",
      "2052/2052 [==============================] - 15s 7ms/step - loss: 8.5053e-04 - val_loss: 6.6225e-04\n",
      "Epoch 35/50\n",
      "2052/2052 [==============================] - 15s 7ms/step - loss: 8.3520e-04 - val_loss: 9.1148e-04\n",
      "Epoch 36/50\n",
      "2052/2052 [==============================] - 15s 7ms/step - loss: 8.4884e-04 - val_loss: 5.7345e-04\n",
      "Epoch 37/50\n",
      "2052/2052 [==============================] - 15s 7ms/step - loss: 8.3222e-04 - val_loss: 6.2449e-04\n",
      "Epoch 38/50\n",
      "2052/2052 [==============================] - 15s 7ms/step - loss: 8.2418e-04 - val_loss: 6.0042e-04\n",
      "Epoch 39/50\n",
      "2052/2052 [==============================] - 15s 7ms/step - loss: 8.2006e-04 - val_loss: 6.0571e-04\n",
      "Epoch 40/50\n",
      "2052/2052 [==============================] - 15s 7ms/step - loss: 8.1312e-04 - val_loss: 5.5179e-04\n",
      "Epoch 41/50\n",
      "2052/2052 [==============================] - 15s 7ms/step - loss: 8.0508e-04 - val_loss: 5.6340e-04\n",
      "Epoch 42/50\n",
      "2052/2052 [==============================] - 15s 7ms/step - loss: 8.3230e-04 - val_loss: 6.7899e-04\n",
      "Epoch 43/50\n",
      "2052/2052 [==============================] - 15s 7ms/step - loss: 8.1671e-04 - val_loss: 6.3050e-04\n",
      "Epoch 44/50\n",
      "2052/2052 [==============================] - 14s 7ms/step - loss: 8.2554e-04 - val_loss: 5.6220e-04\n",
      "Epoch 45/50\n",
      "2052/2052 [==============================] - 15s 7ms/step - loss: 8.1171e-04 - val_loss: 5.5832e-04\n",
      "Epoch 46/50\n",
      "2052/2052 [==============================] - 15s 7ms/step - loss: 8.0783e-04 - val_loss: 6.0948e-04\n",
      "Epoch 47/50\n",
      "2052/2052 [==============================] - 15s 7ms/step - loss: 8.0570e-04 - val_loss: 6.2546e-04\n",
      "Epoch 48/50\n",
      "2052/2052 [==============================] - 15s 7ms/step - loss: 7.9636e-04 - val_loss: 5.8464e-04\n",
      "Epoch 49/50\n",
      "2052/2052 [==============================] - 15s 7ms/step - loss: 7.8775e-04 - val_loss: 5.6412e-04\n",
      "Epoch 50/50\n",
      "2052/2052 [==============================] - 15s 7ms/step - loss: 8.1565e-04 - val_loss: 5.9393e-04\n"
     ]
    }
   ],
   "source": [
    "model2 = keras.models.Sequential()\n",
    "model2.add(LSTM(64, input_shape =(n_ts, n_f) , \n",
    "                     return_sequences=True)  )\n",
    "model2.add(Dropout(.1))\n",
    "\n",
    "model2.add(LSTM(32)  )\n",
    "model2.add(Dropout(.2))\n",
    "\n",
    "model2.add(Dense(32,  activation='relu')  )\n",
    "model2.add(Dropout(.2))\n",
    "\n",
    "model2.add(Dense(1,  activation='linear')  )\n",
    "\n",
    "\n",
    "model2.compile(loss = keras.losses.mean_squared_error, \n",
    "              optimizer=keras.optimizers.Adam(lr = .001) )\n",
    "history2 = model2.fit(X_train, Y_train, epochs=50, \n",
    "                      batch_size=16, verbose=1, \n",
    "                      validation_data=(X_test, Y_test))\n"
   ]
  },
  {
   "cell_type": "code",
   "execution_count": 49,
   "metadata": {
    "colab": {
     "base_uri": "https://localhost:8080/",
     "height": 369
    },
    "colab_type": "code",
    "hidden": true,
    "id": "IEpI9MxtETSA",
    "outputId": "62702b42-a69e-413b-f351-8cf796aabbad"
   },
   "outputs": [
    {
     "data": {
      "image/png": "[encoded data removed]",
      "text/plain": [
       "<Figure size 504x360 with 1 Axes>"
      ]
     },
     "metadata": {
      "needs_background": "light",
      "tags": []
     },
     "output_type": "display_data"
    }
   ],
   "source": [
    "# Plot training & validation accuracy values\n",
    "fig = plt.figure(figsize=(7,5))\n",
    "# Plot training & validation loss values\n",
    "ax = fig.add_subplot(1,1,1, title = 'Model loss', ylabel= 'Loss')\n",
    "plt.plot(history2.history['loss'])\n",
    "plt.plot(history2.history['val_loss'])\n",
    "plt.legend(['Train', 'Test'], loc='upper left')\n",
    "\n",
    "plt.tight_layout()\n",
    "plt.show()"
   ]
  },
  {
   "cell_type": "code",
   "execution_count": 50,
   "metadata": {
    "colab": {
     "base_uri": "https://localhost:8080/",
     "height": 346
    },
    "colab_type": "code",
    "hidden": true,
    "id": "YGiiFqePELjN",
    "outputId": "c47214a7-f430-4a81-8138-11996fa3f1c4"
   },
   "outputs": [
    {
     "data": {
      "image/png": "[encoded data removed]",
      "text/plain": [
       "<Figure size 504x360 with 1 Axes>"
      ]
     },
     "metadata": {
      "needs_background": "light",
      "tags": []
     },
     "output_type": "display_data"
    }
   ],
   "source": [
    "'''\n",
    "Now we use the model to predict the sunspots for the missing month \n",
    "and then compare to the actual values. \n",
    "From the plot it is clear that the predicted values follow the trend, \n",
    "however, there seems to be a delay. \n",
    "'''\n",
    "fig = plt.figure(figsize=(7,5))\n",
    "ax = fig.add_subplot(1,1,1, xlabel = 'Time', ylabel= 'Loss')\n",
    "\n",
    "Y_fut_predicted = model2.predict(X_future)\n",
    "plt.plot(Y_future, label = 'Real Data')\n",
    "plt.plot(Y_fut_predicted, label = 'Predicted values')\n",
    "plt.xlabel = 'time'\n",
    "plt.legend(loc=0)\n",
    "plt.show()"
   ]
  },
  {
   "cell_type": "code",
   "execution_count": 0,
   "metadata": {
    "colab": {},
    "colab_type": "code",
    "hidden": true,
    "id": "I4DbZnlJTGzW"
   },
   "outputs": [],
   "source": []
  }
 ],
 "metadata": {
  "accelerator": "GPU",
  "colab": {
   "include_colab_link": true,
   "name": "Sunspots.ipynb",
   "provenance": [],
   "toc_visible": true
  },
  "kernelspec": {
   "display_name": "Python 3",
   "language": "python",
   "name": "python3"
  },
  "language_info": {
   "codemirror_mode": {
    "name": "ipython",
    "version": 3
   },
   "file_extension": ".py",
   "mimetype": "text/x-python",
   "name": "python",
   "nbconvert_exporter": "python",
   "pygments_lexer": "ipython3",
   "version": "3.6.10"
  },
  "latex_envs": {
   "LaTeX_envs_menu_present": true,
   "autoclose": false,
   "autocomplete": true,
   "bibliofile": "biblio.bib",
   "cite_by": "apalike",
   "current_citInitial": 1,
   "eqLabelWithNumbers": true,
   "eqNumInitial": 1,
   "hotkeys": {
    "equation": "Ctrl-E",
    "itemize": "Ctrl-I"
   },
   "labels_anchors": false,
   "latex_user_defs": false,
   "report_style_numbering": false,
   "user_envs_cfg": false
  },
  "toc": {
   "base_numbering": 1,
   "nav_menu": {},
   "number_sections": true,
   "sideBar": true,
   "skip_h1_title": false,
   "title_cell": "Table of Contents",
   "title_sidebar": "Contents",
   "toc_cell": false,
   "toc_position": {},
   "toc_section_display": true,
   "toc_window_display": false
  },
  "varInspector": {
   "cols": {
    "lenName": 16,
    "lenType": 16,
    "lenVar": 40
   },
   "kernels_config": {
    "python": {
     "delete_cmd_postfix": "",
     "delete_cmd_prefix": "del ",
     "library": "var_list.py",
     "varRefreshCmd": "print(var_dic_list())"
    },
    "r": {
     "delete_cmd_postfix": ") ",
     "delete_cmd_prefix": "rm(",
     "library": "var_list.r",
     "varRefreshCmd": "cat(var_dic_list()) "
    }
   },
   "types_to_exclude": [
    "module",
    "function",
    "builtin_function_or_method",
    "instance",
    "_Feature"
   ],
   "window_display": false
  }
 },
 "nbformat": 4,
 "nbformat_minor": 1
}
