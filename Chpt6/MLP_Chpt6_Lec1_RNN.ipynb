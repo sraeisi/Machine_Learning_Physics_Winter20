{
 "cells": [
  {
   "cell_type": "markdown",
   "metadata": {
    "colab_type": "text",
    "id": "view-in-github"
   },
   "source": [
    "<a href=\"https://colab.research.google.com/github/sraeisi/MachineLearning_Physics/blob/master/Lec_8/Sunspots.ipynb\" target=\"_parent\"><img src=\"https://colab.research.google.com/assets/colab-badge.svg\" alt=\"Open In Colab\"/></a>"
   ]
  },
  {
   "cell_type": "code",
   "execution_count": 31,
   "metadata": {
    "ExecuteTime": {
     "end_time": "2020-05-26T07:15:44.025231Z",
     "start_time": "2020-05-26T07:15:44.012237Z"
    },
    "colab": {},
    "colab_type": "code",
    "id": "H7-2Udr4gCLs",
    "init_cell": true
   },
   "outputs": [
    {
     "name": "stdout",
     "output_type": "stream",
     "text": [
      "Running on GPU ...\n"
     ]
    }
   ],
   "source": [
    "import numpy as np\n",
    "import pandas as pd\n",
    "import matplotlib.pyplot as plt\n",
    "plt.style.use('seaborn-talk')\n",
    "\n",
    "from urllib.request import urlopen\n",
    "from imageio import imread\n",
    "import requests\n",
    "import io\n",
    "from time import time\n",
    "\n",
    "import cv2 \n",
    "import os, shutil\n",
    "\n",
    "\n",
    "import warnings\n",
    "warnings.filterwarnings('ignore')\n",
    "\n",
    "# TensorFlow and tf.keras\n",
    "import tensorflow as tf\n",
    "from tensorflow import keras\n",
    "from tensorflow.keras import layers, models\n",
    "from tensorflow.keras.layers import LSTM, SimpleRNN, GRU, Dense, Dropout\n",
    "# %load_ext tensorboard\n",
    "\n",
    "gpus = tf.config.experimental.list_physical_devices('GPU')\n",
    "if len(gpus)>0:\n",
    "    tf.config.experimental.set_memory_growth(gpus[0] , True)\n",
    "    print('Running on GPU ...')\n",
    "else:\n",
    "    print('Running on CPU ...')\n",
    "\n"
   ]
  },
  {
   "cell_type": "code",
   "execution_count": 3,
   "metadata": {
    "ExecuteTime": {
     "end_time": "2020-05-26T05:08:24.619013Z",
     "start_time": "2020-05-26T05:08:24.613015Z"
    },
    "colab": {},
    "colab_type": "code",
    "id": "-0kEFBVUgCLw",
    "init_cell": true
   },
   "outputs": [],
   "source": [
    "n_ts = 6  ## Length of each time sequence or the forcast window\n",
    "n_f = 1\n",
    "n_prediction = 60"
   ]
  },
  {
   "cell_type": "markdown",
   "metadata": {
    "colab_type": "text",
    "heading_collapsed": true,
    "id": "-Zi5qcLOgCMQ"
   },
   "source": [
    "# Univariate RNN"
   ]
  },
  {
   "cell_type": "markdown",
   "metadata": {
    "colab_type": "text",
    "heading_collapsed": true,
    "hidden": true,
    "id": "UFfSLFwHgCLy"
   },
   "source": [
    "## Data\n",
    "For this part, we use the sunspot data. This data contains the mean value of the number of sunspots for each month from 1749. \n",
    "\n",
    "You can find more information about this dataset from [SIDC](http://www.sidc.be/silso/ssngraphics). "
   ]
  },
  {
   "cell_type": "code",
   "execution_count": 44,
   "metadata": {
    "ExecuteTime": {
     "end_time": "2020-05-26T07:57:00.499601Z",
     "start_time": "2020-05-26T07:57:00.483601Z"
    },
    "colab": {
     "base_uri": "https://localhost:8080/",
     "height": 232
    },
    "colab_type": "code",
    "hidden": true,
    "id": "kNIkfWN2gCLz",
    "init_cell": true,
    "outputId": "c7127c5a-85aa-4734-dfca-cd82cb0976dd"
   },
   "outputs": [
    {
     "data": {
      "text/html": [
       "<div>\n",
       "<style scoped>\n",
       "    .dataframe tbody tr th:only-of-type {\n",
       "        vertical-align: middle;\n",
       "    }\n",
       "\n",
       "    .dataframe tbody tr th {\n",
       "        vertical-align: top;\n",
       "    }\n",
       "\n",
       "    .dataframe thead th {\n",
       "        text-align: right;\n",
       "    }\n",
       "</style>\n",
       "<table border=\"1\" class=\"dataframe\">\n",
       "  <thead>\n",
       "    <tr style=\"text-align: right;\">\n",
       "      <th></th>\n",
       "      <th>Sunspots</th>\n",
       "    </tr>\n",
       "    <tr>\n",
       "      <th>Month</th>\n",
       "      <th></th>\n",
       "    </tr>\n",
       "  </thead>\n",
       "  <tbody>\n",
       "    <tr>\n",
       "      <th>1749-01</th>\n",
       "      <td>58.0</td>\n",
       "    </tr>\n",
       "    <tr>\n",
       "      <th>1749-02</th>\n",
       "      <td>62.6</td>\n",
       "    </tr>\n",
       "    <tr>\n",
       "      <th>1749-03</th>\n",
       "      <td>70.0</td>\n",
       "    </tr>\n",
       "    <tr>\n",
       "      <th>1749-04</th>\n",
       "      <td>55.7</td>\n",
       "    </tr>\n",
       "    <tr>\n",
       "      <th>1749-05</th>\n",
       "      <td>85.0</td>\n",
       "    </tr>\n",
       "  </tbody>\n",
       "</table>\n",
       "</div>"
      ],
      "text/plain": [
       "         Sunspots\n",
       "Month            \n",
       "1749-01      58.0\n",
       "1749-02      62.6\n",
       "1749-03      70.0\n",
       "1749-04      55.7\n",
       "1749-05      85.0"
      ]
     },
     "execution_count": 44,
     "metadata": {},
     "output_type": "execute_result"
    }
   ],
   "source": [
    "# data = pd.read_csv('monthly-sunspots.csv', index_col = 0)\n",
    "import requests, io\n",
    "url = 'https://raw.githubusercontent.com/sraeisi/Machine_Learning_Physics_Winter20/SampleData/monthly-sunspots.csv'\n",
    "c = requests.get(url, stream=True).content\n",
    "data = pd.read_csv(io.BytesIO(c), index_col = 0)\n",
    "\n",
    "data.head()"
   ]
  },
  {
   "cell_type": "code",
   "execution_count": 6,
   "metadata": {
    "ExecuteTime": {
     "end_time": "2020-05-26T04:59:28.827006Z",
     "start_time": "2020-05-26T04:59:28.811007Z"
    },
    "colab": {
     "base_uri": "https://localhost:8080/",
     "height": 51
    },
    "colab_type": "code",
    "hidden": true,
    "id": "KVmydEwl4Qxq",
    "outputId": "aea3d039-a795-4358-b6b1-6af6187e2209"
   },
   "outputs": [
    {
     "data": {
      "text/plain": [
       "Sunspots    33.4\n",
       "Name: 1983-12, dtype: float64"
      ]
     },
     "execution_count": 6,
     "metadata": {},
     "output_type": "execute_result"
    }
   ],
   "source": [
    "data.iloc[-1]"
   ]
  },
  {
   "cell_type": "code",
   "execution_count": 7,
   "metadata": {
    "ExecuteTime": {
     "end_time": "2020-05-26T05:00:31.315479Z",
     "start_time": "2020-05-26T04:59:29.999540Z"
    },
    "colab": {
     "base_uri": "https://localhost:8080/",
     "height": 269
    },
    "colab_type": "code",
    "hidden": true,
    "id": "1oPnIq4zgCL4",
    "outputId": "e1062530-130b-4164-c8f9-35e6f694d335"
   },
   "outputs": [
    {
     "data": {
      "image/png": "[encoded data removed]",
      "text/plain": [
       "<Figure size 432x288 with 1 Axes>"
      ]
     },
     "metadata": {
      "needs_background": "light"
     },
     "output_type": "display_data"
    }
   ],
   "source": [
    "'''\n",
    "Let's first plot the data to see if it does have a trend. \n",
    "'''\n",
    "plt.plot(data.Sunspots)\n",
    "plt.title = 'Sunspots in time'\n",
    "plt.xlabel = 'Time (in month)'\n",
    "plt.ylabel = 'Sunspots'\n",
    "plt.show()"
   ]
  },
  {
   "cell_type": "code",
   "execution_count": 0,
   "metadata": {
    "ExecuteTime": {
     "end_time": "2019-05-26T09:09:46.892120Z",
     "start_time": "2019-05-26T09:09:46.867126Z"
    },
    "colab": {
     "base_uri": "https://localhost:8080/",
     "height": 34
    },
    "colab_type": "code",
    "hidden": true,
    "id": "umRDiS-WgCL7",
    "init_cell": true,
    "outputId": "077860b6-056c-4d12-d9f1-03eae493ac24"
   },
   "outputs": [
    {
     "name": "stdout",
     "output_type": "stream",
     "text": [
      "The maximum value is 253.8\n"
     ]
    }
   ],
   "source": [
    "'''\n",
    "As usuall, it is important to standardize/normalize the data. \n",
    "'''\n",
    "\n",
    "print(f'The maximum value is {data.Sunspots.max()}')\n",
    "data.Sunspots = data.Sunspots/data.Sunspots.max()"
   ]
  },
  {
   "cell_type": "markdown",
   "metadata": {
    "colab_type": "text",
    "heading_collapsed": true,
    "hidden": true,
    "id": "Olv33-QwgCL-"
   },
   "source": [
    "### Generating the time-sequences"
   ]
  },
  {
   "cell_type": "code",
   "execution_count": 4,
   "metadata": {
    "ExecuteTime": {
     "end_time": "2020-05-26T05:08:30.892475Z",
     "start_time": "2020-05-26T05:08:30.876011Z"
    },
    "colab": {},
    "colab_type": "code",
    "hidden": true,
    "id": "c_ewfHi1gCL_",
    "init_cell": true
   },
   "outputs": [],
   "source": [
    "'''\n",
    "The data in its current format, is not suitable for training a NN. \n",
    "We need to make the time-sequeces. \n",
    "For this, we add new columns to the dataframe and each new col \n",
    "is the same data but shifted. We create n_ts cols to collect\n",
    "all the past n_ts data for each row. \n",
    "The output is a square matrix where each row is a time sequence. \n",
    "We also use the actual value as the target. \n",
    "'''\n",
    "def prepare_time_seqs(data):\n",
    "    output_df = pd.DataFrame()\n",
    "    for i in range(n_ts):\n",
    "        output_df[i] = data.Sunspots.shift(n_ts-i)\n",
    "    output_df['target'] = data.Sunspots        \n",
    "    return output_df\n"
   ]
  },
  {
   "cell_type": "code",
   "execution_count": 5,
   "metadata": {
    "ExecuteTime": {
     "end_time": "2020-05-26T05:08:34.802958Z",
     "start_time": "2020-05-26T05:08:34.745891Z"
    },
    "colab": {
     "base_uri": "https://localhost:8080/",
     "height": 385
    },
    "colab_type": "code",
    "hidden": true,
    "id": "f3vVsFdGgCMB",
    "init_cell": true,
    "outputId": "0d268711-637a-4b2a-e334-a99e03170f13"
   },
   "outputs": [
    {
     "data": {
      "text/html": [
       "<div>\n",
       "<style scoped>\n",
       "    .dataframe tbody tr th:only-of-type {\n",
       "        vertical-align: middle;\n",
       "    }\n",
       "\n",
       "    .dataframe tbody tr th {\n",
       "        vertical-align: top;\n",
       "    }\n",
       "\n",
       "    .dataframe thead th {\n",
       "        text-align: right;\n",
       "    }\n",
       "</style>\n",
       "<table border=\"1\" class=\"dataframe\">\n",
       "  <thead>\n",
       "    <tr style=\"text-align: right;\">\n",
       "      <th></th>\n",
       "      <th>0</th>\n",
       "      <th>1</th>\n",
       "      <th>2</th>\n",
       "      <th>3</th>\n",
       "      <th>4</th>\n",
       "      <th>5</th>\n",
       "      <th>target</th>\n",
       "    </tr>\n",
       "    <tr>\n",
       "      <th>Month</th>\n",
       "      <th></th>\n",
       "      <th></th>\n",
       "      <th></th>\n",
       "      <th></th>\n",
       "      <th></th>\n",
       "      <th></th>\n",
       "      <th></th>\n",
       "    </tr>\n",
       "  </thead>\n",
       "  <tbody>\n",
       "    <tr>\n",
       "      <th>1749-01</th>\n",
       "      <td>NaN</td>\n",
       "      <td>NaN</td>\n",
       "      <td>NaN</td>\n",
       "      <td>NaN</td>\n",
       "      <td>NaN</td>\n",
       "      <td>NaN</td>\n",
       "      <td>58.0</td>\n",
       "    </tr>\n",
       "    <tr>\n",
       "      <th>1749-02</th>\n",
       "      <td>NaN</td>\n",
       "      <td>NaN</td>\n",
       "      <td>NaN</td>\n",
       "      <td>NaN</td>\n",
       "      <td>NaN</td>\n",
       "      <td>58.0</td>\n",
       "      <td>62.6</td>\n",
       "    </tr>\n",
       "    <tr>\n",
       "      <th>1749-03</th>\n",
       "      <td>NaN</td>\n",
       "      <td>NaN</td>\n",
       "      <td>NaN</td>\n",
       "      <td>NaN</td>\n",
       "      <td>58.0</td>\n",
       "      <td>62.6</td>\n",
       "      <td>70.0</td>\n",
       "    </tr>\n",
       "    <tr>\n",
       "      <th>1749-04</th>\n",
       "      <td>NaN</td>\n",
       "      <td>NaN</td>\n",
       "      <td>NaN</td>\n",
       "      <td>58.0</td>\n",
       "      <td>62.6</td>\n",
       "      <td>70.0</td>\n",
       "      <td>55.7</td>\n",
       "    </tr>\n",
       "    <tr>\n",
       "      <th>1749-05</th>\n",
       "      <td>NaN</td>\n",
       "      <td>NaN</td>\n",
       "      <td>58.0</td>\n",
       "      <td>62.6</td>\n",
       "      <td>70.0</td>\n",
       "      <td>55.7</td>\n",
       "      <td>85.0</td>\n",
       "    </tr>\n",
       "    <tr>\n",
       "      <th>1749-06</th>\n",
       "      <td>NaN</td>\n",
       "      <td>58.0</td>\n",
       "      <td>62.6</td>\n",
       "      <td>70.0</td>\n",
       "      <td>55.7</td>\n",
       "      <td>85.0</td>\n",
       "      <td>83.5</td>\n",
       "    </tr>\n",
       "    <tr>\n",
       "      <th>1749-07</th>\n",
       "      <td>58.0</td>\n",
       "      <td>62.6</td>\n",
       "      <td>70.0</td>\n",
       "      <td>55.7</td>\n",
       "      <td>85.0</td>\n",
       "      <td>83.5</td>\n",
       "      <td>94.8</td>\n",
       "    </tr>\n",
       "    <tr>\n",
       "      <th>1749-08</th>\n",
       "      <td>62.6</td>\n",
       "      <td>70.0</td>\n",
       "      <td>55.7</td>\n",
       "      <td>85.0</td>\n",
       "      <td>83.5</td>\n",
       "      <td>94.8</td>\n",
       "      <td>66.3</td>\n",
       "    </tr>\n",
       "    <tr>\n",
       "      <th>1749-09</th>\n",
       "      <td>70.0</td>\n",
       "      <td>55.7</td>\n",
       "      <td>85.0</td>\n",
       "      <td>83.5</td>\n",
       "      <td>94.8</td>\n",
       "      <td>66.3</td>\n",
       "      <td>75.9</td>\n",
       "    </tr>\n",
       "    <tr>\n",
       "      <th>1749-10</th>\n",
       "      <td>55.7</td>\n",
       "      <td>85.0</td>\n",
       "      <td>83.5</td>\n",
       "      <td>94.8</td>\n",
       "      <td>66.3</td>\n",
       "      <td>75.9</td>\n",
       "      <td>75.5</td>\n",
       "    </tr>\n",
       "  </tbody>\n",
       "</table>\n",
       "</div>"
      ],
      "text/plain": [
       "            0     1     2     3     4     5  target\n",
       "Month                                              \n",
       "1749-01   NaN   NaN   NaN   NaN   NaN   NaN    58.0\n",
       "1749-02   NaN   NaN   NaN   NaN   NaN  58.0    62.6\n",
       "1749-03   NaN   NaN   NaN   NaN  58.0  62.6    70.0\n",
       "1749-04   NaN   NaN   NaN  58.0  62.6  70.0    55.7\n",
       "1749-05   NaN   NaN  58.0  62.6  70.0  55.7    85.0\n",
       "1749-06   NaN  58.0  62.6  70.0  55.7  85.0    83.5\n",
       "1749-07  58.0  62.6  70.0  55.7  85.0  83.5    94.8\n",
       "1749-08  62.6  70.0  55.7  85.0  83.5  94.8    66.3\n",
       "1749-09  70.0  55.7  85.0  83.5  94.8  66.3    75.9\n",
       "1749-10  55.7  85.0  83.5  94.8  66.3  75.9    75.5"
      ]
     },
     "execution_count": 5,
     "metadata": {},
     "output_type": "execute_result"
    }
   ],
   "source": [
    "df = prepare_time_seqs(data)\n",
    "df.head(10)"
   ]
  },
  {
   "cell_type": "code",
   "execution_count": 6,
   "metadata": {
    "ExecuteTime": {
     "end_time": "2020-05-26T05:08:37.672927Z",
     "start_time": "2020-05-26T05:08:37.640553Z"
    },
    "colab": {
     "base_uri": "https://localhost:8080/",
     "height": 232
    },
    "colab_type": "code",
    "hidden": true,
    "id": "UQpmP-CagCME",
    "init_cell": true,
    "outputId": "baefc50b-0bfe-4edf-9367-7dfcd3599d1f"
   },
   "outputs": [
    {
     "data": {
      "text/html": [
       "<div>\n",
       "<style scoped>\n",
       "    .dataframe tbody tr th:only-of-type {\n",
       "        vertical-align: middle;\n",
       "    }\n",
       "\n",
       "    .dataframe tbody tr th {\n",
       "        vertical-align: top;\n",
       "    }\n",
       "\n",
       "    .dataframe thead th {\n",
       "        text-align: right;\n",
       "    }\n",
       "</style>\n",
       "<table border=\"1\" class=\"dataframe\">\n",
       "  <thead>\n",
       "    <tr style=\"text-align: right;\">\n",
       "      <th></th>\n",
       "      <th>0</th>\n",
       "      <th>1</th>\n",
       "      <th>2</th>\n",
       "      <th>3</th>\n",
       "      <th>4</th>\n",
       "      <th>5</th>\n",
       "      <th>target</th>\n",
       "    </tr>\n",
       "    <tr>\n",
       "      <th>Month</th>\n",
       "      <th></th>\n",
       "      <th></th>\n",
       "      <th></th>\n",
       "      <th></th>\n",
       "      <th></th>\n",
       "      <th></th>\n",
       "      <th></th>\n",
       "    </tr>\n",
       "  </thead>\n",
       "  <tbody>\n",
       "    <tr>\n",
       "      <th>1749-07</th>\n",
       "      <td>58.0</td>\n",
       "      <td>62.6</td>\n",
       "      <td>70.0</td>\n",
       "      <td>55.7</td>\n",
       "      <td>85.0</td>\n",
       "      <td>83.5</td>\n",
       "      <td>94.8</td>\n",
       "    </tr>\n",
       "    <tr>\n",
       "      <th>1749-08</th>\n",
       "      <td>62.6</td>\n",
       "      <td>70.0</td>\n",
       "      <td>55.7</td>\n",
       "      <td>85.0</td>\n",
       "      <td>83.5</td>\n",
       "      <td>94.8</td>\n",
       "      <td>66.3</td>\n",
       "    </tr>\n",
       "    <tr>\n",
       "      <th>1749-09</th>\n",
       "      <td>70.0</td>\n",
       "      <td>55.7</td>\n",
       "      <td>85.0</td>\n",
       "      <td>83.5</td>\n",
       "      <td>94.8</td>\n",
       "      <td>66.3</td>\n",
       "      <td>75.9</td>\n",
       "    </tr>\n",
       "    <tr>\n",
       "      <th>1749-10</th>\n",
       "      <td>55.7</td>\n",
       "      <td>85.0</td>\n",
       "      <td>83.5</td>\n",
       "      <td>94.8</td>\n",
       "      <td>66.3</td>\n",
       "      <td>75.9</td>\n",
       "      <td>75.5</td>\n",
       "    </tr>\n",
       "    <tr>\n",
       "      <th>1749-11</th>\n",
       "      <td>85.0</td>\n",
       "      <td>83.5</td>\n",
       "      <td>94.8</td>\n",
       "      <td>66.3</td>\n",
       "      <td>75.9</td>\n",
       "      <td>75.5</td>\n",
       "      <td>158.6</td>\n",
       "    </tr>\n",
       "  </tbody>\n",
       "</table>\n",
       "</div>"
      ],
      "text/plain": [
       "            0     1     2     3     4     5  target\n",
       "Month                                              \n",
       "1749-07  58.0  62.6  70.0  55.7  85.0  83.5    94.8\n",
       "1749-08  62.6  70.0  55.7  85.0  83.5  94.8    66.3\n",
       "1749-09  70.0  55.7  85.0  83.5  94.8  66.3    75.9\n",
       "1749-10  55.7  85.0  83.5  94.8  66.3  75.9    75.5\n",
       "1749-11  85.0  83.5  94.8  66.3  75.9  75.5   158.6"
      ]
     },
     "execution_count": 6,
     "metadata": {},
     "output_type": "execute_result"
    }
   ],
   "source": [
    "'''\n",
    "The shift operator creates some NAN values since for the boundary, \n",
    "there's no value to be shifted forward. \n",
    "We can simply drop them. \n",
    "Note that if you want to increase n_ts, dropping the NaN values \n",
    "could result in significant data loss. \n",
    "'''\n",
    "df.dropna(axis=0, inplace=True)\n",
    "df.head()"
   ]
  },
  {
   "cell_type": "code",
   "execution_count": 7,
   "metadata": {
    "ExecuteTime": {
     "end_time": "2020-05-26T05:08:47.014710Z",
     "start_time": "2020-05-26T05:08:46.996774Z"
    },
    "colab": {
     "base_uri": "https://localhost:8080/",
     "height": 51
    },
    "colab_type": "code",
    "hidden": true,
    "id": "MMlanpwRgCMH",
    "init_cell": true,
    "outputId": "9b2f808b-6343-47d8-96d8-400db3a8a846"
   },
   "outputs": [
    {
     "name": "stdout",
     "output_type": "stream",
     "text": [
      "(2814, 6)\n"
     ]
    },
    {
     "data": {
      "text/plain": [
       "(2814, 6, 1)"
      ]
     },
     "execution_count": 7,
     "metadata": {},
     "output_type": "execute_result"
    }
   ],
   "source": [
    "'''\n",
    "Next we form the X and Y. \n",
    "It is important to shape X to \n",
    "(n_s, n_ts, n_f)\n",
    "\n",
    "For this example. n_f is one. \n",
    "'''\n",
    "\n",
    "Y = df.target.values\n",
    "X = df.drop('target', axis=1).values\n",
    "print(X.shape)\n",
    "X = X.reshape(-1, n_ts, n_f)\n",
    "X.shape"
   ]
  },
  {
   "cell_type": "code",
   "execution_count": 8,
   "metadata": {
    "ExecuteTime": {
     "end_time": "2020-05-26T05:08:51.509230Z",
     "start_time": "2020-05-26T05:08:51.501583Z"
    },
    "colab": {},
    "colab_type": "code",
    "hidden": true,
    "id": "t3HG8DoJgCMK",
    "init_cell": true
   },
   "outputs": [],
   "source": [
    "'''\n",
    "Before generating the train and validation sets, let's \n",
    "hold a portion of the data for prediction. \n",
    "We seperate the data for the last n_prediction \n",
    "months and later test to see how well our model \n",
    "can predict the target for these months. \n",
    "'''\n",
    "X_future = X[-n_prediction:]\n",
    "Y_future = Y[-n_prediction:]\n",
    "\n",
    "X = X[:-n_prediction]\n",
    "Y = Y[:-n_prediction]"
   ]
  },
  {
   "cell_type": "code",
   "execution_count": 9,
   "metadata": {
    "ExecuteTime": {
     "end_time": "2020-05-26T05:08:56.154866Z",
     "start_time": "2020-05-26T05:08:52.915157Z"
    },
    "colab": {
     "base_uri": "https://localhost:8080/",
     "height": 34
    },
    "colab_type": "code",
    "hidden": true,
    "id": "cFpSnYl6gCMN",
    "init_cell": true,
    "outputId": "0d6e49b1-89e8-4f66-a595-0e0996d716f9"
   },
   "outputs": [
    {
     "name": "stdout",
     "output_type": "stream",
     "text": [
      "(2065, 6, 1)\n"
     ]
    }
   ],
   "source": [
    "from sklearn.model_selection import train_test_split\n",
    "X_train, X_test, Y_train, Y_test = train_test_split(X, Y, random_state = 0)\n",
    "print(X_train.shape)"
   ]
  },
  {
   "cell_type": "markdown",
   "metadata": {
    "heading_collapsed": true,
    "hidden": true
   },
   "source": [
    "## Simple non-RNN model"
   ]
  },
  {
   "cell_type": "code",
   "execution_count": 11,
   "metadata": {
    "ExecuteTime": {
     "end_time": "2020-05-26T05:09:45.431507Z",
     "start_time": "2020-05-26T05:09:45.419212Z"
    },
    "colab": {},
    "colab_type": "code",
    "hidden": true,
    "id": "BhVdKuVmgCMW"
   },
   "outputs": [],
   "source": [
    "from tensorflow.keras.layers import LSTM, RNN, GRU, Dense, Dropout"
   ]
  },
  {
   "cell_type": "code",
   "execution_count": 19,
   "metadata": {
    "ExecuteTime": {
     "end_time": "2020-05-26T07:06:06.505865Z",
     "start_time": "2020-05-26T07:06:05.237401Z"
    },
    "hidden": true
   },
   "outputs": [
    {
     "name": "stdout",
     "output_type": "stream",
     "text": [
      "Model: \"sequential_3\"\n",
      "_________________________________________________________________\n",
      "Layer (type)                 Output Shape              Param #   \n",
      "=================================================================\n",
      "flatten_1 (Flatten)          (None, 6)                 0         \n",
      "_________________________________________________________________\n",
      "dense_4 (Dense)              (None, 128)               896       \n",
      "_________________________________________________________________\n",
      "dense_5 (Dense)              (None, 1)                 129       \n",
      "=================================================================\n",
      "Total params: 1,025\n",
      "Trainable params: 1,025\n",
      "Non-trainable params: 0\n",
      "_________________________________________________________________\n"
     ]
    }
   ],
   "source": [
    "from tensorflow.keras import layers\n",
    "from tensorflow.keras import models\n",
    "\n",
    "model = models.Sequential()\n",
    "model.add(layers.Flatten(input_shape =(n_ts, n_f) ))\n",
    "model.add(layers.Dense(128, activation='relu'))\n",
    "model.add(layers.Dense(1, activation='linear'))\n",
    "\n",
    "model.compile(optimizer='adam', \n",
    "              loss=tf.keras.losses.mean_squared_error)\n",
    "\n",
    "model.summary()\n"
   ]
  },
  {
   "cell_type": "code",
   "execution_count": 20,
   "metadata": {
    "ExecuteTime": {
     "end_time": "2020-05-26T07:06:20.197243Z",
     "start_time": "2020-05-26T07:06:08.778307Z"
    },
    "hidden": true
   },
   "outputs": [],
   "source": [
    "history = model.fit(X_train,Y_train, \n",
    "                    epochs=100, batch_size = 64, \n",
    "                    verbose=0 , \n",
    "#                     callbacks=my_callbacks, \n",
    "                    validation_data = (X_test, Y_test))"
   ]
  },
  {
   "cell_type": "code",
   "execution_count": 22,
   "metadata": {
    "ExecuteTime": {
     "end_time": "2020-05-26T07:06:53.351091Z",
     "start_time": "2020-05-26T07:06:53.132867Z"
    },
    "hidden": true
   },
   "outputs": [
    {
     "data": {
      "image/png": "[encoded data removed]",
      "text/plain": [
       "<Figure size 504x360 with 1 Axes>"
      ]
     },
     "metadata": {
      "needs_background": "light"
     },
     "output_type": "display_data"
    }
   ],
   "source": [
    "# Plot training & validation accuracy values\n",
    "fig = plt.figure(figsize=(7,5))\n",
    "# Plot training & validation loss values\n",
    "ax = fig.add_subplot(1,1,1, title = 'Model loss', ylabel= 'Loss')\n",
    "plt.plot(history.history['loss'])\n",
    "plt.plot(history.history['val_loss'])\n",
    "plt.legend(['Train', 'Test'], loc='upper left')\n",
    "\n",
    "plt.tight_layout()\n",
    "plt.show()"
   ]
  },
  {
   "cell_type": "code",
   "execution_count": 26,
   "metadata": {
    "ExecuteTime": {
     "end_time": "2020-05-26T07:08:57.330183Z",
     "start_time": "2020-05-26T07:08:57.124137Z"
    },
    "hidden": true
   },
   "outputs": [
    {
     "data": {
      "image/png": "[encoded data removed]",
      "text/plain": [
       "<Figure size 748.8x514.8 with 1 Axes>"
      ]
     },
     "metadata": {
      "needs_background": "light"
     },
     "output_type": "display_data"
    }
   ],
   "source": [
    "'''\n",
    "Now we use the model to predict the sunspots for the missing month \n",
    "and then compare to the actual values. \n",
    "From the plot it is clear that the predicted values follow the trend, \n",
    "however, there seems to be a delay. \n",
    "'''\n",
    "Y_fut_predicted = model.predict(X_future)\n",
    "plt.plot(Y_future, label = 'Real Data')\n",
    "plt.plot(Y_fut_predicted, label = 'Predicted values')\n",
    "plt.legend(loc=0)\n",
    "plt.show()"
   ]
  },
  {
   "cell_type": "markdown",
   "metadata": {
    "heading_collapsed": true,
    "hidden": true
   },
   "source": [
    "## Simple RNN model"
   ]
  },
  {
   "cell_type": "code",
   "execution_count": 34,
   "metadata": {
    "ExecuteTime": {
     "end_time": "2020-05-26T07:17:33.190212Z",
     "start_time": "2020-05-26T07:17:33.027917Z"
    },
    "colab": {},
    "colab_type": "code",
    "hidden": true,
    "id": "d9izjDHPgCMY"
   },
   "outputs": [],
   "source": [
    "\n",
    "# clear(model)\n",
    "model = models.Sequential()\n",
    "model.add(SimpleRNN(64, input_shape =(n_ts, n_f) , \n",
    "               activation='tanh', \n",
    "               return_sequences=True) \n",
    "         )\n",
    "\n",
    "model.add(SimpleRNN(32,  activation='tanh')  )\n",
    "\n",
    "model.add(Dense(32,  activation='relu')  )\n",
    "\n",
    "model.add(Dense(1,  activation='linear')  )\n",
    "\n",
    "\n",
    "model.compile(loss = keras.losses.mean_squared_error, \n",
    "              optimizer=keras.optimizers.Adam(lr = .001) )\n"
   ]
  },
  {
   "cell_type": "code",
   "execution_count": 35,
   "metadata": {
    "ExecuteTime": {
     "end_time": "2020-05-26T07:17:34.468627Z",
     "start_time": "2020-05-26T07:17:34.459588Z"
    },
    "colab": {
     "base_uri": "https://localhost:8080/",
     "height": 274
    },
    "colab_type": "code",
    "hidden": true,
    "id": "sjcp4LPAgCMc",
    "outputId": "4a34504e-5fa7-40ab-90a6-f41b70221f1b"
   },
   "outputs": [
    {
     "name": "stdout",
     "output_type": "stream",
     "text": [
      "Model: \"sequential_9\"\n",
      "_________________________________________________________________\n",
      "Layer (type)                 Output Shape              Param #   \n",
      "=================================================================\n",
      "simple_rnn_4 (SimpleRNN)     (None, 6, 64)             4224      \n",
      "_________________________________________________________________\n",
      "simple_rnn_5 (SimpleRNN)     (None, 32)                3104      \n",
      "_________________________________________________________________\n",
      "dense_8 (Dense)              (None, 32)                1056      \n",
      "_________________________________________________________________\n",
      "dense_9 (Dense)              (None, 1)                 33        \n",
      "=================================================================\n",
      "Total params: 8,417\n",
      "Trainable params: 8,417\n",
      "Non-trainable params: 0\n",
      "_________________________________________________________________\n"
     ]
    }
   ],
   "source": [
    "model.summary()"
   ]
  },
  {
   "cell_type": "code",
   "execution_count": 36,
   "metadata": {
    "ExecuteTime": {
     "end_time": "2020-05-26T07:17:57.502658Z",
     "start_time": "2020-05-26T07:17:41.470923Z"
    },
    "colab": {
     "base_uri": "https://localhost:8080/",
     "height": 448
    },
    "colab_type": "code",
    "hidden": true,
    "id": "VJHN_q7vgCMh",
    "outputId": "40b81f94-d3d7-4221-852b-70943923c288"
   },
   "outputs": [
    {
     "name": "stdout",
     "output_type": "stream",
     "text": [
      "Train on 2065 samples, validate on 689 samples\n",
      "Epoch 1/10\n",
      "2065/2065 [==============================] - 2s 1ms/sample - loss: 3338.7971 - val_loss: 2398.2338\n",
      "Epoch 2/10\n",
      "2065/2065 [==============================] - 1s 687us/sample - loss: 1435.7458 - val_loss: 945.4712\n",
      "Epoch 3/10\n",
      "2065/2065 [==============================] - 1s 696us/sample - loss: 630.0926 - val_loss: 524.7529\n",
      "Epoch 4/10\n",
      "2065/2065 [==============================] - 1s 696us/sample - loss: 412.0401 - val_loss: 376.7991\n",
      "Epoch 5/10\n",
      "2065/2065 [==============================] - 1s 679us/sample - loss: 342.2282 - val_loss: 325.1162\n",
      "Epoch 6/10\n",
      "2065/2065 [==============================] - 1s 692us/sample - loss: 306.5767 - val_loss: 334.4182\n",
      "Epoch 7/10\n",
      "2065/2065 [==============================] - 1s 701us/sample - loss: 286.3713 - val_loss: 287.3516\n",
      "Epoch 8/10\n",
      "2065/2065 [==============================] - 1s 701us/sample - loss: 278.4205 - val_loss: 295.5916\n",
      "Epoch 9/10\n",
      "2065/2065 [==============================] - 2s 772us/sample - loss: 267.9309 - val_loss: 293.5838\n",
      "Epoch 10/10\n",
      "2065/2065 [==============================] - 2s 899us/sample - loss: 267.4534 - val_loss: 273.2222\n"
     ]
    }
   ],
   "source": [
    "history = model.fit(X_train, Y_train, \n",
    "                    epochs=10, batch_size=16, \n",
    "                    verbose=1, validation_data=(X_test, Y_test))"
   ]
  },
  {
   "cell_type": "code",
   "execution_count": 41,
   "metadata": {
    "ExecuteTime": {
     "end_time": "2020-05-26T07:20:02.533893Z",
     "start_time": "2020-05-26T07:20:02.316627Z"
    },
    "colab": {
     "base_uri": "https://localhost:8080/",
     "height": 269
    },
    "colab_type": "code",
    "hidden": true,
    "id": "aEkoUU6hgCMk",
    "outputId": "7afb3446-6d06-4a03-f748-fa96690aba18"
   },
   "outputs": [
    {
     "data": {
      "image/png": "[encoded data removed]",
      "text/plain": [
       "<Figure size 504x360 with 1 Axes>"
      ]
     },
     "metadata": {
      "needs_background": "light"
     },
     "output_type": "display_data"
    }
   ],
   "source": [
    "# Plot training & validation accuracy values\n",
    "fig = plt.figure(figsize=(7,5))\n",
    "# Plot training & validation loss values\n",
    "ax = fig.add_subplot(1,1,1, title = 'Model loss', ylabel= 'Loss')\n",
    "plt.plot(history.history['loss'][2:])\n",
    "plt.plot(history.history['val_loss'][2:])\n",
    "plt.legend(['Train', 'Test'], loc='upper left')\n",
    "\n",
    "plt.tight_layout()\n",
    "plt.show()"
   ]
  },
  {
   "cell_type": "code",
   "execution_count": 42,
   "metadata": {
    "ExecuteTime": {
     "end_time": "2020-05-26T07:20:34.671008Z",
     "start_time": "2020-05-26T07:20:33.353217Z"
    },
    "colab": {
     "base_uri": "https://localhost:8080/",
     "height": 286
    },
    "colab_type": "code",
    "hidden": true,
    "id": "92Kai65QgCMp",
    "outputId": "70b91938-219d-4fd4-91b8-c42a5861a168"
   },
   "outputs": [
    {
     "data": {
      "image/png": "[encoded data removed]",
      "text/plain": [
       "<Figure size 748.8x514.8 with 1 Axes>"
      ]
     },
     "metadata": {
      "needs_background": "light"
     },
     "output_type": "display_data"
    }
   ],
   "source": [
    "'''\n",
    "Now we use the model to predict the sunspots for the missing month \n",
    "and then compare to the actual values. \n",
    "From the plot it is clear that the predicted values follow the trend, \n",
    "however, there seems to be a delay. \n",
    "'''\n",
    "fig = plt.figure(figsize=(7,5))\n",
    "ax = fig.add_subplot(1,1,1, title = 'Time', ylabel= 'Loss')\n",
    "\n",
    "Y_fut_predicted = model.predict(X_future)\n",
    "plt.plot(Y_future, label = 'Real Data')\n",
    "plt.plot(Y_fut_predicted, label = 'Predicted values')\n",
    "plt.xlabel = 'time'\n",
    "plt.legend(loc=0)\n",
    "plt.show()"
   ]
  },
  {
   "cell_type": "markdown",
   "metadata": {
    "heading_collapsed": true,
    "hidden": true
   },
   "source": [
    "## RNN with long short term memory (LSTM)\n",
    "\n",
    "Next, we train a LSTM model. "
   ]
  },
  {
   "cell_type": "code",
   "execution_count": 12,
   "metadata": {
    "ExecuteTime": {
     "end_time": "2020-05-26T05:09:53.898643Z",
     "start_time": "2020-05-26T05:09:50.533910Z"
    },
    "colab": {},
    "colab_type": "code",
    "hidden": true,
    "id": "d9izjDHPgCMY"
   },
   "outputs": [],
   "source": [
    "\n",
    "# clear(model)\n",
    "model = models.Sequential()\n",
    "model.add(LSTM(64, input_shape =(n_ts, n_f) , \n",
    "               activation='relu', \n",
    "               return_sequences=True) \n",
    "         )\n",
    "\n",
    "model.add(LSTM(32,  activation='relu')  )\n",
    "\n",
    "model.add(Dense(32,  activation='relu')  )\n",
    "\n",
    "model.add(Dense(1,  activation='linear')  )\n",
    "\n",
    "\n",
    "model.compile(loss = keras.losses.mean_squared_error, \n",
    "              optimizer=keras.optimizers.Adam(lr = .001) )\n"
   ]
  },
  {
   "cell_type": "code",
   "execution_count": 13,
   "metadata": {
    "ExecuteTime": {
     "end_time": "2020-05-26T05:10:04.015520Z",
     "start_time": "2020-05-26T05:10:04.002839Z"
    },
    "colab": {
     "base_uri": "https://localhost:8080/",
     "height": 274
    },
    "colab_type": "code",
    "hidden": true,
    "id": "sjcp4LPAgCMc",
    "outputId": "4a34504e-5fa7-40ab-90a6-f41b70221f1b"
   },
   "outputs": [
    {
     "name": "stdout",
     "output_type": "stream",
     "text": [
      "Model: \"sequential_1\"\n",
      "_________________________________________________________________\n",
      "Layer (type)                 Output Shape              Param #   \n",
      "=================================================================\n",
      "lstm (LSTM)                  (None, 6, 64)             16896     \n",
      "_________________________________________________________________\n",
      "lstm_1 (LSTM)                (None, 32)                12416     \n",
      "_________________________________________________________________\n",
      "dense (Dense)                (None, 32)                1056      \n",
      "_________________________________________________________________\n",
      "dense_1 (Dense)              (None, 1)                 33        \n",
      "=================================================================\n",
      "Total params: 30,401\n",
      "Trainable params: 30,401\n",
      "Non-trainable params: 0\n",
      "_________________________________________________________________\n"
     ]
    }
   ],
   "source": [
    "model.summary()"
   ]
  },
  {
   "cell_type": "code",
   "execution_count": 14,
   "metadata": {
    "ExecuteTime": {
     "end_time": "2020-05-26T05:10:55.267341Z",
     "start_time": "2020-05-26T05:10:10.334203Z"
    },
    "colab": {
     "base_uri": "https://localhost:8080/",
     "height": 448
    },
    "colab_type": "code",
    "hidden": true,
    "id": "VJHN_q7vgCMh",
    "outputId": "40b81f94-d3d7-4221-852b-70943923c288"
   },
   "outputs": [
    {
     "name": "stdout",
     "output_type": "stream",
     "text": [
      "Train on 2065 samples, validate on 689 samples\n",
      "Epoch 1/10\n",
      "2065/2065 [==============================] - 9s 4ms/sample - loss: 911.5672 - val_loss: 288.5775\n",
      "Epoch 2/10\n",
      "2065/2065 [==============================] - 4s 2ms/sample - loss: 301.8275 - val_loss: 312.3387\n",
      "Epoch 3/10\n",
      "2065/2065 [==============================] - 5s 2ms/sample - loss: 279.7797 - val_loss: 270.3172\n",
      "Epoch 4/10\n",
      "2065/2065 [==============================] - 4s 2ms/sample - loss: 262.1102 - val_loss: 297.5452\n",
      "Epoch 5/10\n",
      "2065/2065 [==============================] - 4s 2ms/sample - loss: 259.7806 - val_loss: 285.6661\n",
      "Epoch 6/10\n",
      "2065/2065 [==============================] - 4s 2ms/sample - loss: 257.9021 - val_loss: 293.0270\n",
      "Epoch 7/10\n",
      "2065/2065 [==============================] - 4s 2ms/sample - loss: 251.1740 - val_loss: 264.7079\n",
      "Epoch 8/10\n",
      "2065/2065 [==============================] - 4s 2ms/sample - loss: 256.5096 - val_loss: 264.5221\n",
      "Epoch 9/10\n",
      "2065/2065 [==============================] - 4s 2ms/sample - loss: 274.9605 - val_loss: 286.9047\n",
      "Epoch 10/10\n",
      "2065/2065 [==============================] - 4s 2ms/sample - loss: 259.6440 - val_loss: 286.4656\n"
     ]
    }
   ],
   "source": [
    "history = model.fit(X_train, Y_train, \n",
    "                    epochs=10, batch_size=16, \n",
    "                    verbose=1, validation_data=(X_test, Y_test))"
   ]
  },
  {
   "cell_type": "code",
   "execution_count": 15,
   "metadata": {
    "ExecuteTime": {
     "end_time": "2020-05-26T05:10:57.466911Z",
     "start_time": "2020-05-26T05:10:57.095629Z"
    },
    "colab": {
     "base_uri": "https://localhost:8080/",
     "height": 269
    },
    "colab_type": "code",
    "hidden": true,
    "id": "aEkoUU6hgCMk",
    "outputId": "7afb3446-6d06-4a03-f748-fa96690aba18"
   },
   "outputs": [
    {
     "data": {
      "image/png": "[encoded data removed]",
      "text/plain": [
       "<Figure size 748.8x514.8 with 1 Axes>"
      ]
     },
     "metadata": {
      "needs_background": "light"
     },
     "output_type": "display_data"
    }
   ],
   "source": [
    "plt.plot(history.history['loss'], label='in_error')\n",
    "plt.plot(history.history['val_loss'], label='out_error')\n",
    "plt.title = 'Loss of the model'\n",
    "plt.xlabel = 'Time (Epochs)'\n",
    "plt.ylabel = 'Loss'\n",
    "plt.legend(loc=0)\n",
    "plt.show()"
   ]
  },
  {
   "cell_type": "code",
   "execution_count": 16,
   "metadata": {
    "ExecuteTime": {
     "end_time": "2020-05-26T05:11:11.451967Z",
     "start_time": "2020-05-26T05:11:10.540676Z"
    },
    "colab": {
     "base_uri": "https://localhost:8080/",
     "height": 286
    },
    "colab_type": "code",
    "hidden": true,
    "id": "92Kai65QgCMp",
    "outputId": "70b91938-219d-4fd4-91b8-c42a5861a168"
   },
   "outputs": [
    {
     "name": "stderr",
     "output_type": "stream",
     "text": [
      "No handles with labels found to put in legend.\n"
     ]
    },
    {
     "data": {
      "image/png": "[encoded data removed]",
      "text/plain": [
       "<Figure size 748.8x514.8 with 1 Axes>"
      ]
     },
     "metadata": {
      "needs_background": "light"
     },
     "output_type": "display_data"
    }
   ],
   "source": [
    "'''\n",
    "Now we use the model to predict the sunspots for the missing month \n",
    "and then compare to the actual values. \n",
    "From the plot it is clear that the predicted values follow the trend, \n",
    "however, there seems to be a delay. \n",
    "'''\n",
    "Y_fut_predicted = model.predict(X_future)\n",
    "plt.plot(Y_future)\n",
    "plt.plot(Y_fut_predicted)\n",
    "plt.legend(loc=0)\n",
    "plt.show()"
   ]
  },
  {
   "cell_type": "markdown",
   "metadata": {
    "colab_type": "text",
    "heading_collapsed": true,
    "id": "4DK5cZOygim-"
   },
   "source": [
    "# Multivariate RNN"
   ]
  },
  {
   "cell_type": "code",
   "execution_count": 3,
   "metadata": {
    "colab": {
     "base_uri": "https://localhost:8080/",
     "height": 234
    },
    "colab_type": "code",
    "hidden": true,
    "id": "II9qL8zsglxT",
    "outputId": "05590f3f-5565-4281-edf4-cce37391c57d"
   },
   "outputs": [
    {
     "data": {
      "text/html": [
       "<div>\n",
       "<style scoped>\n",
       "    .dataframe tbody tr th:only-of-type {\n",
       "        vertical-align: middle;\n",
       "    }\n",
       "\n",
       "    .dataframe tbody tr th {\n",
       "        vertical-align: top;\n",
       "    }\n",
       "\n",
       "    .dataframe thead th {\n",
       "        text-align: right;\n",
       "    }\n",
       "</style>\n",
       "<table border=\"1\" class=\"dataframe\">\n",
       "  <thead>\n",
       "    <tr style=\"text-align: right;\">\n",
       "      <th></th>\n",
       "      <th>year</th>\n",
       "      <th>month</th>\n",
       "      <th>day</th>\n",
       "      <th>hour</th>\n",
       "      <th>pm2.5</th>\n",
       "      <th>DEWP</th>\n",
       "      <th>TEMP</th>\n",
       "      <th>PRES</th>\n",
       "      <th>cbwd</th>\n",
       "      <th>Iws</th>\n",
       "      <th>Is</th>\n",
       "      <th>Ir</th>\n",
       "    </tr>\n",
       "    <tr>\n",
       "      <th>No</th>\n",
       "      <th></th>\n",
       "      <th></th>\n",
       "      <th></th>\n",
       "      <th></th>\n",
       "      <th></th>\n",
       "      <th></th>\n",
       "      <th></th>\n",
       "      <th></th>\n",
       "      <th></th>\n",
       "      <th></th>\n",
       "      <th></th>\n",
       "      <th></th>\n",
       "    </tr>\n",
       "  </thead>\n",
       "  <tbody>\n",
       "    <tr>\n",
       "      <th>1</th>\n",
       "      <td>2010</td>\n",
       "      <td>1</td>\n",
       "      <td>1</td>\n",
       "      <td>0</td>\n",
       "      <td>NaN</td>\n",
       "      <td>-21</td>\n",
       "      <td>-11.0</td>\n",
       "      <td>1021.0</td>\n",
       "      <td>NW</td>\n",
       "      <td>1.79</td>\n",
       "      <td>0</td>\n",
       "      <td>0</td>\n",
       "    </tr>\n",
       "    <tr>\n",
       "      <th>2</th>\n",
       "      <td>2010</td>\n",
       "      <td>1</td>\n",
       "      <td>1</td>\n",
       "      <td>1</td>\n",
       "      <td>NaN</td>\n",
       "      <td>-21</td>\n",
       "      <td>-12.0</td>\n",
       "      <td>1020.0</td>\n",
       "      <td>NW</td>\n",
       "      <td>4.92</td>\n",
       "      <td>0</td>\n",
       "      <td>0</td>\n",
       "    </tr>\n",
       "    <tr>\n",
       "      <th>3</th>\n",
       "      <td>2010</td>\n",
       "      <td>1</td>\n",
       "      <td>1</td>\n",
       "      <td>2</td>\n",
       "      <td>NaN</td>\n",
       "      <td>-21</td>\n",
       "      <td>-11.0</td>\n",
       "      <td>1019.0</td>\n",
       "      <td>NW</td>\n",
       "      <td>6.71</td>\n",
       "      <td>0</td>\n",
       "      <td>0</td>\n",
       "    </tr>\n",
       "    <tr>\n",
       "      <th>4</th>\n",
       "      <td>2010</td>\n",
       "      <td>1</td>\n",
       "      <td>1</td>\n",
       "      <td>3</td>\n",
       "      <td>NaN</td>\n",
       "      <td>-21</td>\n",
       "      <td>-14.0</td>\n",
       "      <td>1019.0</td>\n",
       "      <td>NW</td>\n",
       "      <td>9.84</td>\n",
       "      <td>0</td>\n",
       "      <td>0</td>\n",
       "    </tr>\n",
       "    <tr>\n",
       "      <th>5</th>\n",
       "      <td>2010</td>\n",
       "      <td>1</td>\n",
       "      <td>1</td>\n",
       "      <td>4</td>\n",
       "      <td>NaN</td>\n",
       "      <td>-20</td>\n",
       "      <td>-12.0</td>\n",
       "      <td>1018.0</td>\n",
       "      <td>NW</td>\n",
       "      <td>12.97</td>\n",
       "      <td>0</td>\n",
       "      <td>0</td>\n",
       "    </tr>\n",
       "  </tbody>\n",
       "</table>\n",
       "</div>"
      ],
      "text/plain": [
       "    year  month  day  hour  pm2.5  DEWP  TEMP    PRES cbwd    Iws  Is  Ir\n",
       "No                                                                       \n",
       "1   2010      1    1     0    NaN   -21 -11.0  1021.0   NW   1.79   0   0\n",
       "2   2010      1    1     1    NaN   -21 -12.0  1020.0   NW   4.92   0   0\n",
       "3   2010      1    1     2    NaN   -21 -11.0  1019.0   NW   6.71   0   0\n",
       "4   2010      1    1     3    NaN   -21 -14.0  1019.0   NW   9.84   0   0\n",
       "5   2010      1    1     4    NaN   -20 -12.0  1018.0   NW  12.97   0   0"
      ]
     },
     "execution_count": 3,
     "metadata": {
      "tags": []
     },
     "output_type": "execute_result"
    }
   ],
   "source": [
    "'''\n",
    "Here's the data for air pollution in Beijing, taken from \n",
    "http://archive.ics.uci.edu/ml/datasets/Beijing+PM2.5+Data#\n",
    "\n",
    "Use LSTM RNN models to predict the air pollution. \n",
    "\n",
    "'''\n",
    "url = 'http://archive.ics.uci.edu/ml/machine-learning-databases/00381/PRSA_data_2010.1.1-2014.12.31.csv'\n",
    "import requests, io\n",
    "\n",
    "c = requests.get(url, stream=True).content\n",
    "data = pd.read_csv(io.BytesIO(c), index_col = 0)\n",
    "data.head()"
   ]
  },
  {
   "cell_type": "code",
   "execution_count": 4,
   "metadata": {
    "colab": {
     "base_uri": "https://localhost:8080/",
     "height": 122
    },
    "colab_type": "code",
    "hidden": true,
    "id": "gu8OCG3qmT7e",
    "outputId": "ce9785a5-a412-47da-fb8f-450dfc9c959d"
   },
   "outputs": [
    {
     "data": {
      "text/plain": [
       "Int64Index([    1,     2,     3,     4,     5,     6,     7,     8,     9,\n",
       "               10,\n",
       "            ...\n",
       "            43815, 43816, 43817, 43818, 43819, 43820, 43821, 43822, 43823,\n",
       "            43824],\n",
       "           dtype='int64', name='No', length=43824)"
      ]
     },
     "execution_count": 4,
     "metadata": {
      "tags": []
     },
     "output_type": "execute_result"
    }
   ],
   "source": [
    "'''\n",
    "We probably don't need year, month, day and hour if hour is always increasing by one. \n",
    "It should be enough to keep only the index. \n",
    "'''\n",
    "data.drop(['year', 'month', 'day', 'hour'], axis=1, inplace=True)\n",
    "data.index"
   ]
  },
  {
   "cell_type": "markdown",
   "metadata": {
    "colab_type": "text",
    "hidden": true,
    "id": "RlkgpXVdh499"
   },
   "source": [
    "## Dealing with nan values"
   ]
  },
  {
   "cell_type": "code",
   "execution_count": 5,
   "metadata": {
    "colab": {
     "base_uri": "https://localhost:8080/",
     "height": 174
    },
    "colab_type": "code",
    "hidden": true,
    "id": "Kgz6J3tLhUwm",
    "outputId": "da8671e1-7e04-4ed3-e9fa-7c98fad39dd9"
   },
   "outputs": [
    {
     "data": {
      "text/plain": [
       "pm2.5     True\n",
       "DEWP     False\n",
       "TEMP     False\n",
       "PRES     False\n",
       "cbwd     False\n",
       "Iws      False\n",
       "Is       False\n",
       "Ir       False\n",
       "dtype: bool"
      ]
     },
     "execution_count": 5,
     "metadata": {
      "tags": []
     },
     "output_type": "execute_result"
    }
   ],
   "source": [
    "data.isna().any()"
   ]
  },
  {
   "cell_type": "code",
   "execution_count": 6,
   "metadata": {
    "colab": {
     "base_uri": "https://localhost:8080/",
     "height": 34
    },
    "colab_type": "code",
    "hidden": true,
    "id": "7aJtTlBkhctc",
    "outputId": "afc0d338-a3d7-4eec-c3d1-a7352d5f3bed"
   },
   "outputs": [
    {
     "data": {
      "text/plain": [
       "2067"
      ]
     },
     "execution_count": 6,
     "metadata": {
      "tags": []
     },
     "output_type": "execute_result"
    }
   ],
   "source": [
    "data['pm2.5'].isna().sum()"
   ]
  },
  {
   "cell_type": "code",
   "execution_count": 7,
   "metadata": {
    "colab": {
     "base_uri": "https://localhost:8080/",
     "height": 34
    },
    "colab_type": "code",
    "hidden": true,
    "id": "UAresmLbhrcZ",
    "outputId": "76e91bab-57b4-4d16-928f-54e447c963e0"
   },
   "outputs": [
    {
     "name": "stdout",
     "output_type": "stream",
     "text": [
      "43824\n"
     ]
    }
   ],
   "source": [
    "print(len(data))"
   ]
  },
  {
   "cell_type": "code",
   "execution_count": 0,
   "metadata": {
    "colab": {},
    "colab_type": "code",
    "hidden": true,
    "id": "PoLxtsamhy52"
   },
   "outputs": [],
   "source": [
    "'''\n",
    "There are two many of them and we can't just remove those rows. \n",
    "So we replace the NaN values with the mean of the col. \n",
    "'''\n",
    "\n",
    "data.fillna(data.mean(), inplace=True)"
   ]
  },
  {
   "cell_type": "code",
   "execution_count": 10,
   "metadata": {
    "colab": {
     "base_uri": "https://localhost:8080/",
     "height": 234
    },
    "colab_type": "code",
    "hidden": true,
    "id": "4551f-9qiUXD",
    "outputId": "b5b4d242-6fb6-42a1-cf2c-0ecfdb8a6aad"
   },
   "outputs": [
    {
     "data": {
      "text/html": [
       "<div>\n",
       "<style scoped>\n",
       "    .dataframe tbody tr th:only-of-type {\n",
       "        vertical-align: middle;\n",
       "    }\n",
       "\n",
       "    .dataframe tbody tr th {\n",
       "        vertical-align: top;\n",
       "    }\n",
       "\n",
       "    .dataframe thead th {\n",
       "        text-align: right;\n",
       "    }\n",
       "</style>\n",
       "<table border=\"1\" class=\"dataframe\">\n",
       "  <thead>\n",
       "    <tr style=\"text-align: right;\">\n",
       "      <th></th>\n",
       "      <th>pm2.5</th>\n",
       "      <th>DEWP</th>\n",
       "      <th>TEMP</th>\n",
       "      <th>PRES</th>\n",
       "      <th>cbwd</th>\n",
       "      <th>Iws</th>\n",
       "      <th>Is</th>\n",
       "      <th>Ir</th>\n",
       "    </tr>\n",
       "    <tr>\n",
       "      <th>No</th>\n",
       "      <th></th>\n",
       "      <th></th>\n",
       "      <th></th>\n",
       "      <th></th>\n",
       "      <th></th>\n",
       "      <th></th>\n",
       "      <th></th>\n",
       "      <th></th>\n",
       "    </tr>\n",
       "  </thead>\n",
       "  <tbody>\n",
       "    <tr>\n",
       "      <th>1</th>\n",
       "      <td>98.613215</td>\n",
       "      <td>-21</td>\n",
       "      <td>-11.0</td>\n",
       "      <td>1021.0</td>\n",
       "      <td>NW</td>\n",
       "      <td>1.79</td>\n",
       "      <td>0</td>\n",
       "      <td>0</td>\n",
       "    </tr>\n",
       "    <tr>\n",
       "      <th>2</th>\n",
       "      <td>98.613215</td>\n",
       "      <td>-21</td>\n",
       "      <td>-12.0</td>\n",
       "      <td>1020.0</td>\n",
       "      <td>NW</td>\n",
       "      <td>4.92</td>\n",
       "      <td>0</td>\n",
       "      <td>0</td>\n",
       "    </tr>\n",
       "    <tr>\n",
       "      <th>3</th>\n",
       "      <td>98.613215</td>\n",
       "      <td>-21</td>\n",
       "      <td>-11.0</td>\n",
       "      <td>1019.0</td>\n",
       "      <td>NW</td>\n",
       "      <td>6.71</td>\n",
       "      <td>0</td>\n",
       "      <td>0</td>\n",
       "    </tr>\n",
       "    <tr>\n",
       "      <th>4</th>\n",
       "      <td>98.613215</td>\n",
       "      <td>-21</td>\n",
       "      <td>-14.0</td>\n",
       "      <td>1019.0</td>\n",
       "      <td>NW</td>\n",
       "      <td>9.84</td>\n",
       "      <td>0</td>\n",
       "      <td>0</td>\n",
       "    </tr>\n",
       "    <tr>\n",
       "      <th>5</th>\n",
       "      <td>98.613215</td>\n",
       "      <td>-20</td>\n",
       "      <td>-12.0</td>\n",
       "      <td>1018.0</td>\n",
       "      <td>NW</td>\n",
       "      <td>12.97</td>\n",
       "      <td>0</td>\n",
       "      <td>0</td>\n",
       "    </tr>\n",
       "  </tbody>\n",
       "</table>\n",
       "</div>"
      ],
      "text/plain": [
       "        pm2.5  DEWP  TEMP    PRES cbwd    Iws  Is  Ir\n",
       "No                                                   \n",
       "1   98.613215   -21 -11.0  1021.0   NW   1.79   0   0\n",
       "2   98.613215   -21 -12.0  1020.0   NW   4.92   0   0\n",
       "3   98.613215   -21 -11.0  1019.0   NW   6.71   0   0\n",
       "4   98.613215   -21 -14.0  1019.0   NW   9.84   0   0\n",
       "5   98.613215   -20 -12.0  1018.0   NW  12.97   0   0"
      ]
     },
     "execution_count": 10,
     "metadata": {
      "tags": []
     },
     "output_type": "execute_result"
    }
   ],
   "source": [
    "data.head()"
   ]
  },
  {
   "cell_type": "code",
   "execution_count": 9,
   "metadata": {
    "colab": {
     "base_uri": "https://localhost:8080/",
     "height": 698
    },
    "colab_type": "code",
    "hidden": true,
    "id": "y_YVd6uQixeT",
    "outputId": "06333681-3427-4b6c-f4e2-efd26a31018c"
   },
   "outputs": [
    {
     "data": {
      "text/html": [
       "<div>\n",
       "<style scoped>\n",
       "    .dataframe tbody tr th:only-of-type {\n",
       "        vertical-align: middle;\n",
       "    }\n",
       "\n",
       "    .dataframe tbody tr th {\n",
       "        vertical-align: top;\n",
       "    }\n",
       "\n",
       "    .dataframe thead th {\n",
       "        text-align: right;\n",
       "    }\n",
       "</style>\n",
       "<table border=\"1\" class=\"dataframe\">\n",
       "  <thead>\n",
       "    <tr style=\"text-align: right;\">\n",
       "      <th></th>\n",
       "      <th>pm2.5</th>\n",
       "      <th>DEWP</th>\n",
       "      <th>TEMP</th>\n",
       "      <th>PRES</th>\n",
       "      <th>cbwd</th>\n",
       "      <th>Iws</th>\n",
       "      <th>Is</th>\n",
       "      <th>Ir</th>\n",
       "    </tr>\n",
       "    <tr>\n",
       "      <th>No</th>\n",
       "      <th></th>\n",
       "      <th></th>\n",
       "      <th></th>\n",
       "      <th></th>\n",
       "      <th></th>\n",
       "      <th></th>\n",
       "      <th></th>\n",
       "      <th></th>\n",
       "    </tr>\n",
       "  </thead>\n",
       "  <tbody>\n",
       "    <tr>\n",
       "      <th>1</th>\n",
       "      <td>98.613215</td>\n",
       "      <td>-21</td>\n",
       "      <td>-11.0</td>\n",
       "      <td>1021.0</td>\n",
       "      <td>1</td>\n",
       "      <td>1.79</td>\n",
       "      <td>0</td>\n",
       "      <td>0</td>\n",
       "    </tr>\n",
       "    <tr>\n",
       "      <th>2</th>\n",
       "      <td>98.613215</td>\n",
       "      <td>-21</td>\n",
       "      <td>-12.0</td>\n",
       "      <td>1020.0</td>\n",
       "      <td>1</td>\n",
       "      <td>4.92</td>\n",
       "      <td>0</td>\n",
       "      <td>0</td>\n",
       "    </tr>\n",
       "    <tr>\n",
       "      <th>3</th>\n",
       "      <td>98.613215</td>\n",
       "      <td>-21</td>\n",
       "      <td>-11.0</td>\n",
       "      <td>1019.0</td>\n",
       "      <td>1</td>\n",
       "      <td>6.71</td>\n",
       "      <td>0</td>\n",
       "      <td>0</td>\n",
       "    </tr>\n",
       "    <tr>\n",
       "      <th>4</th>\n",
       "      <td>98.613215</td>\n",
       "      <td>-21</td>\n",
       "      <td>-14.0</td>\n",
       "      <td>1019.0</td>\n",
       "      <td>1</td>\n",
       "      <td>9.84</td>\n",
       "      <td>0</td>\n",
       "      <td>0</td>\n",
       "    </tr>\n",
       "    <tr>\n",
       "      <th>5</th>\n",
       "      <td>98.613215</td>\n",
       "      <td>-20</td>\n",
       "      <td>-12.0</td>\n",
       "      <td>1018.0</td>\n",
       "      <td>1</td>\n",
       "      <td>12.97</td>\n",
       "      <td>0</td>\n",
       "      <td>0</td>\n",
       "    </tr>\n",
       "    <tr>\n",
       "      <th>6</th>\n",
       "      <td>98.613215</td>\n",
       "      <td>-19</td>\n",
       "      <td>-10.0</td>\n",
       "      <td>1017.0</td>\n",
       "      <td>1</td>\n",
       "      <td>16.10</td>\n",
       "      <td>0</td>\n",
       "      <td>0</td>\n",
       "    </tr>\n",
       "    <tr>\n",
       "      <th>7</th>\n",
       "      <td>98.613215</td>\n",
       "      <td>-19</td>\n",
       "      <td>-9.0</td>\n",
       "      <td>1017.0</td>\n",
       "      <td>1</td>\n",
       "      <td>19.23</td>\n",
       "      <td>0</td>\n",
       "      <td>0</td>\n",
       "    </tr>\n",
       "    <tr>\n",
       "      <th>8</th>\n",
       "      <td>98.613215</td>\n",
       "      <td>-19</td>\n",
       "      <td>-9.0</td>\n",
       "      <td>1017.0</td>\n",
       "      <td>1</td>\n",
       "      <td>21.02</td>\n",
       "      <td>0</td>\n",
       "      <td>0</td>\n",
       "    </tr>\n",
       "    <tr>\n",
       "      <th>9</th>\n",
       "      <td>98.613215</td>\n",
       "      <td>-19</td>\n",
       "      <td>-9.0</td>\n",
       "      <td>1017.0</td>\n",
       "      <td>1</td>\n",
       "      <td>24.15</td>\n",
       "      <td>0</td>\n",
       "      <td>0</td>\n",
       "    </tr>\n",
       "    <tr>\n",
       "      <th>10</th>\n",
       "      <td>98.613215</td>\n",
       "      <td>-20</td>\n",
       "      <td>-8.0</td>\n",
       "      <td>1017.0</td>\n",
       "      <td>1</td>\n",
       "      <td>27.28</td>\n",
       "      <td>0</td>\n",
       "      <td>0</td>\n",
       "    </tr>\n",
       "    <tr>\n",
       "      <th>11</th>\n",
       "      <td>98.613215</td>\n",
       "      <td>-19</td>\n",
       "      <td>-7.0</td>\n",
       "      <td>1017.0</td>\n",
       "      <td>1</td>\n",
       "      <td>31.30</td>\n",
       "      <td>0</td>\n",
       "      <td>0</td>\n",
       "    </tr>\n",
       "    <tr>\n",
       "      <th>12</th>\n",
       "      <td>98.613215</td>\n",
       "      <td>-18</td>\n",
       "      <td>-5.0</td>\n",
       "      <td>1017.0</td>\n",
       "      <td>1</td>\n",
       "      <td>34.43</td>\n",
       "      <td>0</td>\n",
       "      <td>0</td>\n",
       "    </tr>\n",
       "    <tr>\n",
       "      <th>13</th>\n",
       "      <td>98.613215</td>\n",
       "      <td>-19</td>\n",
       "      <td>-5.0</td>\n",
       "      <td>1015.0</td>\n",
       "      <td>1</td>\n",
       "      <td>37.56</td>\n",
       "      <td>0</td>\n",
       "      <td>0</td>\n",
       "    </tr>\n",
       "    <tr>\n",
       "      <th>14</th>\n",
       "      <td>98.613215</td>\n",
       "      <td>-18</td>\n",
       "      <td>-3.0</td>\n",
       "      <td>1015.0</td>\n",
       "      <td>1</td>\n",
       "      <td>40.69</td>\n",
       "      <td>0</td>\n",
       "      <td>0</td>\n",
       "    </tr>\n",
       "    <tr>\n",
       "      <th>15</th>\n",
       "      <td>98.613215</td>\n",
       "      <td>-18</td>\n",
       "      <td>-2.0</td>\n",
       "      <td>1014.0</td>\n",
       "      <td>1</td>\n",
       "      <td>43.82</td>\n",
       "      <td>0</td>\n",
       "      <td>0</td>\n",
       "    </tr>\n",
       "    <tr>\n",
       "      <th>16</th>\n",
       "      <td>98.613215</td>\n",
       "      <td>-18</td>\n",
       "      <td>-1.0</td>\n",
       "      <td>1014.0</td>\n",
       "      <td>3</td>\n",
       "      <td>0.89</td>\n",
       "      <td>0</td>\n",
       "      <td>0</td>\n",
       "    </tr>\n",
       "    <tr>\n",
       "      <th>17</th>\n",
       "      <td>98.613215</td>\n",
       "      <td>-19</td>\n",
       "      <td>-2.0</td>\n",
       "      <td>1015.0</td>\n",
       "      <td>1</td>\n",
       "      <td>1.79</td>\n",
       "      <td>0</td>\n",
       "      <td>0</td>\n",
       "    </tr>\n",
       "    <tr>\n",
       "      <th>18</th>\n",
       "      <td>98.613215</td>\n",
       "      <td>-18</td>\n",
       "      <td>-3.0</td>\n",
       "      <td>1015.0</td>\n",
       "      <td>1</td>\n",
       "      <td>2.68</td>\n",
       "      <td>0</td>\n",
       "      <td>0</td>\n",
       "    </tr>\n",
       "    <tr>\n",
       "      <th>19</th>\n",
       "      <td>98.613215</td>\n",
       "      <td>-18</td>\n",
       "      <td>-5.0</td>\n",
       "      <td>1016.0</td>\n",
       "      <td>0</td>\n",
       "      <td>1.79</td>\n",
       "      <td>0</td>\n",
       "      <td>0</td>\n",
       "    </tr>\n",
       "    <tr>\n",
       "      <th>20</th>\n",
       "      <td>98.613215</td>\n",
       "      <td>-17</td>\n",
       "      <td>-4.0</td>\n",
       "      <td>1017.0</td>\n",
       "      <td>1</td>\n",
       "      <td>1.79</td>\n",
       "      <td>0</td>\n",
       "      <td>0</td>\n",
       "    </tr>\n",
       "  </tbody>\n",
       "</table>\n",
       "</div>"
      ],
      "text/plain": [
       "        pm2.5  DEWP  TEMP    PRES  cbwd    Iws  Is  Ir\n",
       "No                                                    \n",
       "1   98.613215   -21 -11.0  1021.0     1   1.79   0   0\n",
       "2   98.613215   -21 -12.0  1020.0     1   4.92   0   0\n",
       "3   98.613215   -21 -11.0  1019.0     1   6.71   0   0\n",
       "4   98.613215   -21 -14.0  1019.0     1   9.84   0   0\n",
       "5   98.613215   -20 -12.0  1018.0     1  12.97   0   0\n",
       "6   98.613215   -19 -10.0  1017.0     1  16.10   0   0\n",
       "7   98.613215   -19  -9.0  1017.0     1  19.23   0   0\n",
       "8   98.613215   -19  -9.0  1017.0     1  21.02   0   0\n",
       "9   98.613215   -19  -9.0  1017.0     1  24.15   0   0\n",
       "10  98.613215   -20  -8.0  1017.0     1  27.28   0   0\n",
       "11  98.613215   -19  -7.0  1017.0     1  31.30   0   0\n",
       "12  98.613215   -18  -5.0  1017.0     1  34.43   0   0\n",
       "13  98.613215   -19  -5.0  1015.0     1  37.56   0   0\n",
       "14  98.613215   -18  -3.0  1015.0     1  40.69   0   0\n",
       "15  98.613215   -18  -2.0  1014.0     1  43.82   0   0\n",
       "16  98.613215   -18  -1.0  1014.0     3   0.89   0   0\n",
       "17  98.613215   -19  -2.0  1015.0     1   1.79   0   0\n",
       "18  98.613215   -18  -3.0  1015.0     1   2.68   0   0\n",
       "19  98.613215   -18  -5.0  1016.0     0   1.79   0   0\n",
       "20  98.613215   -17  -4.0  1017.0     1   1.79   0   0"
      ]
     },
     "execution_count": 9,
     "metadata": {
      "tags": []
     },
     "output_type": "execute_result"
    }
   ],
   "source": [
    "'''\n",
    "Next we need to turn categorical values to numerical ones. \n",
    "'''\n",
    "data.cbwd = data.cbwd.astype(\"category\").cat.codes\n",
    "data.head(20)"
   ]
  },
  {
   "cell_type": "code",
   "execution_count": 0,
   "metadata": {
    "colab": {},
    "colab_type": "code",
    "hidden": true,
    "id": "O37L7o8ekGaQ"
   },
   "outputs": [],
   "source": [
    "'''\n",
    "We also need to normalize the data. \n",
    "'''\n",
    "# normalized_data=(data-data.mean())/data.std()\n",
    "normalized_data=(data-data.min())/(data.max()-data.min())\n"
   ]
  },
  {
   "cell_type": "code",
   "execution_count": 11,
   "metadata": {
    "colab": {
     "base_uri": "https://localhost:8080/",
     "height": 34
    },
    "colab_type": "code",
    "hidden": true,
    "id": "vTdkN0H3k1-d",
    "outputId": "b7f6d882-3c1f-4284-e133-58a2837ad2b2"
   },
   "outputs": [
    {
     "data": {
      "text/plain": [
       "8"
      ]
     },
     "execution_count": 11,
     "metadata": {
      "tags": []
     },
     "output_type": "execute_result"
    }
   ],
   "source": [
    "n_f = data.shape[1] \n",
    "n_f"
   ]
  },
  {
   "cell_type": "code",
   "execution_count": 12,
   "metadata": {
    "colab": {
     "base_uri": "https://localhost:8080/",
     "height": 288
    },
    "colab_type": "code",
    "hidden": true,
    "id": "g5yGTHTmqHO-",
    "outputId": "9fab62f1-7305-4d6d-ac19-de9440d58d52"
   },
   "outputs": [
    {
     "data": {
      "text/html": [
       "<div>\n",
       "<style scoped>\n",
       "    .dataframe tbody tr th:only-of-type {\n",
       "        vertical-align: middle;\n",
       "    }\n",
       "\n",
       "    .dataframe tbody tr th {\n",
       "        vertical-align: top;\n",
       "    }\n",
       "\n",
       "    .dataframe thead th {\n",
       "        text-align: right;\n",
       "    }\n",
       "</style>\n",
       "<table border=\"1\" class=\"dataframe\">\n",
       "  <thead>\n",
       "    <tr style=\"text-align: right;\">\n",
       "      <th></th>\n",
       "      <th>pm2.5</th>\n",
       "      <th>DEWP</th>\n",
       "      <th>TEMP</th>\n",
       "      <th>PRES</th>\n",
       "      <th>cbwd</th>\n",
       "      <th>Iws</th>\n",
       "      <th>Is</th>\n",
       "      <th>Ir</th>\n",
       "      <th>pm2.5 (h-1)</th>\n",
       "      <th>DEWP (h-1)</th>\n",
       "      <th>TEMP (h-1)</th>\n",
       "      <th>PRES (h-1)</th>\n",
       "      <th>cbwd (h-1)</th>\n",
       "      <th>Iws (h-1)</th>\n",
       "      <th>Is (h-1)</th>\n",
       "      <th>Ir (h-1)</th>\n",
       "      <th>pm2.5 (h-2)</th>\n",
       "      <th>DEWP (h-2)</th>\n",
       "      <th>TEMP (h-2)</th>\n",
       "      <th>PRES (h-2)</th>\n",
       "      <th>cbwd (h-2)</th>\n",
       "      <th>Iws (h-2)</th>\n",
       "      <th>Is (h-2)</th>\n",
       "      <th>Ir (h-2)</th>\n",
       "      <th>pm2.5 (h-3)</th>\n",
       "      <th>DEWP (h-3)</th>\n",
       "      <th>TEMP (h-3)</th>\n",
       "      <th>PRES (h-3)</th>\n",
       "      <th>cbwd (h-3)</th>\n",
       "      <th>Iws (h-3)</th>\n",
       "      <th>Is (h-3)</th>\n",
       "      <th>Ir (h-3)</th>\n",
       "      <th>pm2.5 (h-4)</th>\n",
       "      <th>DEWP (h-4)</th>\n",
       "      <th>TEMP (h-4)</th>\n",
       "      <th>PRES (h-4)</th>\n",
       "      <th>cbwd (h-4)</th>\n",
       "      <th>Iws (h-4)</th>\n",
       "      <th>Is (h-4)</th>\n",
       "      <th>Ir (h-4)</th>\n",
       "      <th>pm2.5 (h-5)</th>\n",
       "      <th>DEWP (h-5)</th>\n",
       "      <th>TEMP (h-5)</th>\n",
       "      <th>PRES (h-5)</th>\n",
       "      <th>cbwd (h-5)</th>\n",
       "      <th>Iws (h-5)</th>\n",
       "      <th>Is (h-5)</th>\n",
       "      <th>Ir (h-5)</th>\n",
       "      <th>pm2.5 (h-6)</th>\n",
       "      <th>DEWP (h-6)</th>\n",
       "      <th>TEMP (h-6)</th>\n",
       "      <th>PRES (h-6)</th>\n",
       "      <th>cbwd (h-6)</th>\n",
       "      <th>Iws (h-6)</th>\n",
       "      <th>Is (h-6)</th>\n",
       "      <th>Ir (h-6)</th>\n",
       "    </tr>\n",
       "    <tr>\n",
       "      <th>No</th>\n",
       "      <th></th>\n",
       "      <th></th>\n",
       "      <th></th>\n",
       "      <th></th>\n",
       "      <th></th>\n",
       "      <th></th>\n",
       "      <th></th>\n",
       "      <th></th>\n",
       "      <th></th>\n",
       "      <th></th>\n",
       "      <th></th>\n",
       "      <th></th>\n",
       "      <th></th>\n",
       "      <th></th>\n",
       "      <th></th>\n",
       "      <th></th>\n",
       "      <th></th>\n",
       "      <th></th>\n",
       "      <th></th>\n",
       "      <th></th>\n",
       "      <th></th>\n",
       "      <th></th>\n",
       "      <th></th>\n",
       "      <th></th>\n",
       "      <th></th>\n",
       "      <th></th>\n",
       "      <th></th>\n",
       "      <th></th>\n",
       "      <th></th>\n",
       "      <th></th>\n",
       "      <th></th>\n",
       "      <th></th>\n",
       "      <th></th>\n",
       "      <th></th>\n",
       "      <th></th>\n",
       "      <th></th>\n",
       "      <th></th>\n",
       "      <th></th>\n",
       "      <th></th>\n",
       "      <th></th>\n",
       "      <th></th>\n",
       "      <th></th>\n",
       "      <th></th>\n",
       "      <th></th>\n",
       "      <th></th>\n",
       "      <th></th>\n",
       "      <th></th>\n",
       "      <th></th>\n",
       "      <th></th>\n",
       "      <th></th>\n",
       "      <th></th>\n",
       "      <th></th>\n",
       "      <th></th>\n",
       "      <th></th>\n",
       "      <th></th>\n",
       "      <th></th>\n",
       "    </tr>\n",
       "  </thead>\n",
       "  <tbody>\n",
       "    <tr>\n",
       "      <th>1</th>\n",
       "      <td>0.099208</td>\n",
       "      <td>0.279412</td>\n",
       "      <td>0.131148</td>\n",
       "      <td>0.545455</td>\n",
       "      <td>0.333333</td>\n",
       "      <td>0.002290</td>\n",
       "      <td>0.0</td>\n",
       "      <td>0.0</td>\n",
       "      <td>NaN</td>\n",
       "      <td>NaN</td>\n",
       "      <td>NaN</td>\n",
       "      <td>NaN</td>\n",
       "      <td>NaN</td>\n",
       "      <td>NaN</td>\n",
       "      <td>NaN</td>\n",
       "      <td>NaN</td>\n",
       "      <td>NaN</td>\n",
       "      <td>NaN</td>\n",
       "      <td>NaN</td>\n",
       "      <td>NaN</td>\n",
       "      <td>NaN</td>\n",
       "      <td>NaN</td>\n",
       "      <td>NaN</td>\n",
       "      <td>NaN</td>\n",
       "      <td>NaN</td>\n",
       "      <td>NaN</td>\n",
       "      <td>NaN</td>\n",
       "      <td>NaN</td>\n",
       "      <td>NaN</td>\n",
       "      <td>NaN</td>\n",
       "      <td>NaN</td>\n",
       "      <td>NaN</td>\n",
       "      <td>NaN</td>\n",
       "      <td>NaN</td>\n",
       "      <td>NaN</td>\n",
       "      <td>NaN</td>\n",
       "      <td>NaN</td>\n",
       "      <td>NaN</td>\n",
       "      <td>NaN</td>\n",
       "      <td>NaN</td>\n",
       "      <td>NaN</td>\n",
       "      <td>NaN</td>\n",
       "      <td>NaN</td>\n",
       "      <td>NaN</td>\n",
       "      <td>NaN</td>\n",
       "      <td>NaN</td>\n",
       "      <td>NaN</td>\n",
       "      <td>NaN</td>\n",
       "      <td>NaN</td>\n",
       "      <td>NaN</td>\n",
       "      <td>NaN</td>\n",
       "      <td>NaN</td>\n",
       "      <td>NaN</td>\n",
       "      <td>NaN</td>\n",
       "      <td>NaN</td>\n",
       "      <td>NaN</td>\n",
       "    </tr>\n",
       "    <tr>\n",
       "      <th>2</th>\n",
       "      <td>0.099208</td>\n",
       "      <td>0.279412</td>\n",
       "      <td>0.114754</td>\n",
       "      <td>0.527273</td>\n",
       "      <td>0.333333</td>\n",
       "      <td>0.007639</td>\n",
       "      <td>0.0</td>\n",
       "      <td>0.0</td>\n",
       "      <td>0.099208</td>\n",
       "      <td>0.279412</td>\n",
       "      <td>0.131148</td>\n",
       "      <td>0.545455</td>\n",
       "      <td>0.333333</td>\n",
       "      <td>0.002290</td>\n",
       "      <td>0.0</td>\n",
       "      <td>0.0</td>\n",
       "      <td>NaN</td>\n",
       "      <td>NaN</td>\n",
       "      <td>NaN</td>\n",
       "      <td>NaN</td>\n",
       "      <td>NaN</td>\n",
       "      <td>NaN</td>\n",
       "      <td>NaN</td>\n",
       "      <td>NaN</td>\n",
       "      <td>NaN</td>\n",
       "      <td>NaN</td>\n",
       "      <td>NaN</td>\n",
       "      <td>NaN</td>\n",
       "      <td>NaN</td>\n",
       "      <td>NaN</td>\n",
       "      <td>NaN</td>\n",
       "      <td>NaN</td>\n",
       "      <td>NaN</td>\n",
       "      <td>NaN</td>\n",
       "      <td>NaN</td>\n",
       "      <td>NaN</td>\n",
       "      <td>NaN</td>\n",
       "      <td>NaN</td>\n",
       "      <td>NaN</td>\n",
       "      <td>NaN</td>\n",
       "      <td>NaN</td>\n",
       "      <td>NaN</td>\n",
       "      <td>NaN</td>\n",
       "      <td>NaN</td>\n",
       "      <td>NaN</td>\n",
       "      <td>NaN</td>\n",
       "      <td>NaN</td>\n",
       "      <td>NaN</td>\n",
       "      <td>NaN</td>\n",
       "      <td>NaN</td>\n",
       "      <td>NaN</td>\n",
       "      <td>NaN</td>\n",
       "      <td>NaN</td>\n",
       "      <td>NaN</td>\n",
       "      <td>NaN</td>\n",
       "      <td>NaN</td>\n",
       "    </tr>\n",
       "    <tr>\n",
       "      <th>3</th>\n",
       "      <td>0.099208</td>\n",
       "      <td>0.279412</td>\n",
       "      <td>0.131148</td>\n",
       "      <td>0.509091</td>\n",
       "      <td>0.333333</td>\n",
       "      <td>0.010698</td>\n",
       "      <td>0.0</td>\n",
       "      <td>0.0</td>\n",
       "      <td>0.099208</td>\n",
       "      <td>0.279412</td>\n",
       "      <td>0.114754</td>\n",
       "      <td>0.527273</td>\n",
       "      <td>0.333333</td>\n",
       "      <td>0.007639</td>\n",
       "      <td>0.0</td>\n",
       "      <td>0.0</td>\n",
       "      <td>0.099208</td>\n",
       "      <td>0.279412</td>\n",
       "      <td>0.131148</td>\n",
       "      <td>0.545455</td>\n",
       "      <td>0.333333</td>\n",
       "      <td>0.002290</td>\n",
       "      <td>0.0</td>\n",
       "      <td>0.0</td>\n",
       "      <td>NaN</td>\n",
       "      <td>NaN</td>\n",
       "      <td>NaN</td>\n",
       "      <td>NaN</td>\n",
       "      <td>NaN</td>\n",
       "      <td>NaN</td>\n",
       "      <td>NaN</td>\n",
       "      <td>NaN</td>\n",
       "      <td>NaN</td>\n",
       "      <td>NaN</td>\n",
       "      <td>NaN</td>\n",
       "      <td>NaN</td>\n",
       "      <td>NaN</td>\n",
       "      <td>NaN</td>\n",
       "      <td>NaN</td>\n",
       "      <td>NaN</td>\n",
       "      <td>NaN</td>\n",
       "      <td>NaN</td>\n",
       "      <td>NaN</td>\n",
       "      <td>NaN</td>\n",
       "      <td>NaN</td>\n",
       "      <td>NaN</td>\n",
       "      <td>NaN</td>\n",
       "      <td>NaN</td>\n",
       "      <td>NaN</td>\n",
       "      <td>NaN</td>\n",
       "      <td>NaN</td>\n",
       "      <td>NaN</td>\n",
       "      <td>NaN</td>\n",
       "      <td>NaN</td>\n",
       "      <td>NaN</td>\n",
       "      <td>NaN</td>\n",
       "    </tr>\n",
       "    <tr>\n",
       "      <th>4</th>\n",
       "      <td>0.099208</td>\n",
       "      <td>0.279412</td>\n",
       "      <td>0.081967</td>\n",
       "      <td>0.509091</td>\n",
       "      <td>0.333333</td>\n",
       "      <td>0.016047</td>\n",
       "      <td>0.0</td>\n",
       "      <td>0.0</td>\n",
       "      <td>0.099208</td>\n",
       "      <td>0.279412</td>\n",
       "      <td>0.131148</td>\n",
       "      <td>0.509091</td>\n",
       "      <td>0.333333</td>\n",
       "      <td>0.010698</td>\n",
       "      <td>0.0</td>\n",
       "      <td>0.0</td>\n",
       "      <td>0.099208</td>\n",
       "      <td>0.279412</td>\n",
       "      <td>0.114754</td>\n",
       "      <td>0.527273</td>\n",
       "      <td>0.333333</td>\n",
       "      <td>0.007639</td>\n",
       "      <td>0.0</td>\n",
       "      <td>0.0</td>\n",
       "      <td>0.099208</td>\n",
       "      <td>0.279412</td>\n",
       "      <td>0.131148</td>\n",
       "      <td>0.545455</td>\n",
       "      <td>0.333333</td>\n",
       "      <td>0.002290</td>\n",
       "      <td>0.0</td>\n",
       "      <td>0.0</td>\n",
       "      <td>NaN</td>\n",
       "      <td>NaN</td>\n",
       "      <td>NaN</td>\n",
       "      <td>NaN</td>\n",
       "      <td>NaN</td>\n",
       "      <td>NaN</td>\n",
       "      <td>NaN</td>\n",
       "      <td>NaN</td>\n",
       "      <td>NaN</td>\n",
       "      <td>NaN</td>\n",
       "      <td>NaN</td>\n",
       "      <td>NaN</td>\n",
       "      <td>NaN</td>\n",
       "      <td>NaN</td>\n",
       "      <td>NaN</td>\n",
       "      <td>NaN</td>\n",
       "      <td>NaN</td>\n",
       "      <td>NaN</td>\n",
       "      <td>NaN</td>\n",
       "      <td>NaN</td>\n",
       "      <td>NaN</td>\n",
       "      <td>NaN</td>\n",
       "      <td>NaN</td>\n",
       "      <td>NaN</td>\n",
       "    </tr>\n",
       "    <tr>\n",
       "      <th>5</th>\n",
       "      <td>0.099208</td>\n",
       "      <td>0.294118</td>\n",
       "      <td>0.114754</td>\n",
       "      <td>0.490909</td>\n",
       "      <td>0.333333</td>\n",
       "      <td>0.021396</td>\n",
       "      <td>0.0</td>\n",
       "      <td>0.0</td>\n",
       "      <td>0.099208</td>\n",
       "      <td>0.279412</td>\n",
       "      <td>0.081967</td>\n",
       "      <td>0.509091</td>\n",
       "      <td>0.333333</td>\n",
       "      <td>0.016047</td>\n",
       "      <td>0.0</td>\n",
       "      <td>0.0</td>\n",
       "      <td>0.099208</td>\n",
       "      <td>0.279412</td>\n",
       "      <td>0.131148</td>\n",
       "      <td>0.509091</td>\n",
       "      <td>0.333333</td>\n",
       "      <td>0.010698</td>\n",
       "      <td>0.0</td>\n",
       "      <td>0.0</td>\n",
       "      <td>0.099208</td>\n",
       "      <td>0.279412</td>\n",
       "      <td>0.114754</td>\n",
       "      <td>0.527273</td>\n",
       "      <td>0.333333</td>\n",
       "      <td>0.007639</td>\n",
       "      <td>0.0</td>\n",
       "      <td>0.0</td>\n",
       "      <td>0.099208</td>\n",
       "      <td>0.279412</td>\n",
       "      <td>0.131148</td>\n",
       "      <td>0.545455</td>\n",
       "      <td>0.333333</td>\n",
       "      <td>0.00229</td>\n",
       "      <td>0.0</td>\n",
       "      <td>0.0</td>\n",
       "      <td>NaN</td>\n",
       "      <td>NaN</td>\n",
       "      <td>NaN</td>\n",
       "      <td>NaN</td>\n",
       "      <td>NaN</td>\n",
       "      <td>NaN</td>\n",
       "      <td>NaN</td>\n",
       "      <td>NaN</td>\n",
       "      <td>NaN</td>\n",
       "      <td>NaN</td>\n",
       "      <td>NaN</td>\n",
       "      <td>NaN</td>\n",
       "      <td>NaN</td>\n",
       "      <td>NaN</td>\n",
       "      <td>NaN</td>\n",
       "      <td>NaN</td>\n",
       "    </tr>\n",
       "  </tbody>\n",
       "</table>\n",
       "</div>"
      ],
      "text/plain": [
       "       pm2.5      DEWP      TEMP  ...  Iws (h-6)  Is (h-6)  Ir (h-6)\n",
       "No                                ...                               \n",
       "1   0.099208  0.279412  0.131148  ...        NaN       NaN       NaN\n",
       "2   0.099208  0.279412  0.114754  ...        NaN       NaN       NaN\n",
       "3   0.099208  0.279412  0.131148  ...        NaN       NaN       NaN\n",
       "4   0.099208  0.279412  0.081967  ...        NaN       NaN       NaN\n",
       "5   0.099208  0.294118  0.114754  ...        NaN       NaN       NaN\n",
       "\n",
       "[5 rows x 56 columns]"
      ]
     },
     "execution_count": 12,
     "metadata": {
      "tags": []
     },
     "output_type": "execute_result"
    }
   ],
   "source": [
    "hist = range(1,n_ts+1)\n",
    "\n",
    "df = normalized_data.assign(**{\n",
    "    '{} (h-{})'.format(col, t): normalized_data[col].shift(t)\n",
    "    for t in hist\n",
    "    for col in normalized_data\n",
    "})\n",
    "\n",
    "df.head()"
   ]
  },
  {
   "cell_type": "code",
   "execution_count": 0,
   "metadata": {
    "colab": {},
    "colab_type": "code",
    "hidden": true,
    "id": "KvFYLV-iE31q"
   },
   "outputs": [],
   "source": [
    "### Next we get rid of the first n_ts rows that have nan values. \n",
    "df.dropna(axis=0, inplace=True)"
   ]
  },
  {
   "cell_type": "code",
   "execution_count": 14,
   "metadata": {
    "colab": {
     "base_uri": "https://localhost:8080/",
     "height": 52
    },
    "colab_type": "code",
    "hidden": true,
    "id": "QI8eiHmKoArg",
    "outputId": "0e87e2de-7035-452d-aae0-8f8aef4baa0b"
   },
   "outputs": [
    {
     "name": "stdout",
     "output_type": "stream",
     "text": [
      "(43818, 48)\n"
     ]
    },
    {
     "data": {
      "text/plain": [
       "(43818, 6, 8)"
      ]
     },
     "execution_count": 14,
     "metadata": {
      "tags": []
     },
     "output_type": "execute_result"
    }
   ],
   "source": [
    "### The target is the pollution of the day\n",
    "Y = df['pm2.5'].values\n",
    "\n",
    "### Then we get rid of all the measurements of that day. \n",
    "X = df.drop(data.columns, axis=1).values\n",
    "\n",
    "print(X.shape)\n",
    "X = X.reshape(-1, n_ts, n_f)\n",
    "X.shape"
   ]
  },
  {
   "cell_type": "code",
   "execution_count": 0,
   "metadata": {
    "colab": {},
    "colab_type": "code",
    "hidden": true,
    "id": "ebCOzx2SlEau"
   },
   "outputs": [],
   "source": [
    "'''\n",
    "Before generating the train and validation sets, let's \n",
    "hold a portion of the data for prediction. \n",
    "We seperate the data for the last n_prediction \n",
    "months and later test to see how well our model \n",
    "can predict the target for these months. \n",
    "'''\n",
    "X_future = X[-n_prediction:]\n",
    "Y_future = Y[-n_prediction:]\n",
    "\n",
    "X = X[:-n_prediction]\n",
    "Y = Y[:-n_prediction]"
   ]
  },
  {
   "cell_type": "code",
   "execution_count": 16,
   "metadata": {
    "colab": {
     "base_uri": "https://localhost:8080/",
     "height": 34
    },
    "colab_type": "code",
    "hidden": true,
    "id": "qB-xEha1pNap",
    "outputId": "086e5f84-c516-483c-b7a5-5a0dd6e78c56"
   },
   "outputs": [
    {
     "name": "stdout",
     "output_type": "stream",
     "text": [
      "(32818, 6, 8)\n"
     ]
    }
   ],
   "source": [
    "from sklearn.model_selection import train_test_split\n",
    "X_train, X_test, Y_train, Y_test = train_test_split(X, Y, random_state = 0)\n",
    "print(X_train.shape)"
   ]
  },
  {
   "cell_type": "code",
   "execution_count": 0,
   "metadata": {
    "colab": {},
    "colab_type": "code",
    "hidden": true,
    "id": "LH7v0xZeozdl"
   },
   "outputs": [],
   "source": [
    "from tensorflow.keras.layers import LSTM, GRU, Dense, Dropout"
   ]
  },
  {
   "cell_type": "code",
   "execution_count": 0,
   "metadata": {
    "colab": {},
    "colab_type": "code",
    "hidden": true,
    "id": "9CohyFH2LGf-"
   },
   "outputs": [],
   "source": [
    "model2.reset_metrics()"
   ]
  },
  {
   "cell_type": "code",
   "execution_count": 19,
   "metadata": {
    "colab": {
     "base_uri": "https://localhost:8080/",
     "height": 2209
    },
    "colab_type": "code",
    "hidden": true,
    "id": "l-ZxlbtFo37z",
    "outputId": "02aff730-fd0d-46e2-d349-ffe063113a5f"
   },
   "outputs": [
    {
     "name": "stdout",
     "output_type": "stream",
     "text": [
      "WARNING:tensorflow:From /usr/local/lib/python3.6/dist-packages/tensorflow/python/ops/resource_variable_ops.py:435: colocate_with (from tensorflow.python.framework.ops) is deprecated and will be removed in a future version.\n",
      "Instructions for updating:\n",
      "Colocations handled automatically by placer.\n",
      "WARNING:tensorflow:From /usr/local/lib/python3.6/dist-packages/tensorflow/python/keras/layers/core.py:143: calling dropout (from tensorflow.python.ops.nn_ops) with keep_prob is deprecated and will be removed in a future version.\n",
      "Instructions for updating:\n",
      "Please use `rate` instead of `keep_prob`. Rate should be set to `rate = 1 - keep_prob`.\n",
      "Train on 32818 samples, validate on 10940 samples\n",
      "WARNING:tensorflow:From /usr/local/lib/python3.6/dist-packages/tensorflow/python/ops/math_ops.py:3066: to_int32 (from tensorflow.python.ops.math_ops) is deprecated and will be removed in a future version.\n",
      "Instructions for updating:\n",
      "Use tf.cast instead.\n",
      "Epoch 1/50\n",
      "32818/32818 [==============================] - 19s 583us/sample - loss: 0.0019 - val_loss: 9.8311e-04\n",
      "Epoch 2/50\n",
      "32818/32818 [==============================] - 13s 400us/sample - loss: 0.0013 - val_loss: 8.8052e-04\n",
      "Epoch 3/50\n",
      "32818/32818 [==============================] - 13s 405us/sample - loss: 0.0012 - val_loss: 7.2698e-04\n",
      "Epoch 4/50\n",
      "32818/32818 [==============================] - 14s 421us/sample - loss: 0.0011 - val_loss: 7.2778e-04\n",
      "Epoch 5/50\n",
      "32818/32818 [==============================] - 14s 413us/sample - loss: 0.0011 - val_loss: 7.9812e-04\n",
      "Epoch 6/50\n",
      "32818/32818 [==============================] - 13s 399us/sample - loss: 0.0011 - val_loss: 6.5828e-04\n",
      "Epoch 7/50\n",
      "32818/32818 [==============================] - 13s 399us/sample - loss: 0.0010 - val_loss: 7.5720e-04\n",
      "Epoch 8/50\n",
      "32818/32818 [==============================] - 13s 397us/sample - loss: 9.9553e-04 - val_loss: 7.0459e-04\n",
      "Epoch 9/50\n",
      "32818/32818 [==============================] - 13s 400us/sample - loss: 9.9423e-04 - val_loss: 6.8582e-04\n",
      "Epoch 10/50\n",
      "32818/32818 [==============================] - 14s 420us/sample - loss: 9.8265e-04 - val_loss: 6.3268e-04\n",
      "Epoch 11/50\n",
      "32818/32818 [==============================] - 13s 395us/sample - loss: 9.6065e-04 - val_loss: 6.1657e-04\n",
      "Epoch 12/50\n",
      "32818/32818 [==============================] - 13s 395us/sample - loss: 9.3415e-04 - val_loss: 6.1166e-04\n",
      "Epoch 13/50\n",
      "32818/32818 [==============================] - 13s 395us/sample - loss: 9.2903e-04 - val_loss: 6.3656e-04\n",
      "Epoch 14/50\n",
      "32818/32818 [==============================] - 13s 397us/sample - loss: 9.2635e-04 - val_loss: 6.4083e-04\n",
      "Epoch 15/50\n",
      "32818/32818 [==============================] - 13s 392us/sample - loss: 9.4902e-04 - val_loss: 6.1912e-04\n",
      "Epoch 16/50\n",
      "32818/32818 [==============================] - 14s 426us/sample - loss: 9.1359e-04 - val_loss: 5.9754e-04\n",
      "Epoch 17/50\n",
      "32818/32818 [==============================] - 13s 391us/sample - loss: 9.1429e-04 - val_loss: 5.6905e-04\n",
      "Epoch 18/50\n",
      "32818/32818 [==============================] - 15s 451us/sample - loss: 9.2756e-04 - val_loss: 5.7609e-04\n",
      "Epoch 19/50\n",
      "32818/32818 [==============================] - 13s 406us/sample - loss: 9.0236e-04 - val_loss: 6.2987e-04\n",
      "Epoch 20/50\n",
      "32818/32818 [==============================] - 13s 398us/sample - loss: 9.0767e-04 - val_loss: 6.5340e-04\n",
      "Epoch 21/50\n",
      "32818/32818 [==============================] - 13s 402us/sample - loss: 9.0188e-04 - val_loss: 6.5067e-04\n",
      "Epoch 22/50\n",
      "32818/32818 [==============================] - 14s 436us/sample - loss: 8.9926e-04 - val_loss: 6.8453e-04\n",
      "Epoch 23/50\n",
      "32818/32818 [==============================] - 14s 422us/sample - loss: 8.9340e-04 - val_loss: 6.0493e-04\n",
      "Epoch 24/50\n",
      "32818/32818 [==============================] - 13s 408us/sample - loss: 8.7511e-04 - val_loss: 6.0349e-04\n",
      "Epoch 25/50\n",
      "32818/32818 [==============================] - 14s 416us/sample - loss: 8.6289e-04 - val_loss: 5.7073e-04\n",
      "Epoch 26/50\n",
      "32818/32818 [==============================] - 14s 415us/sample - loss: 8.5664e-04 - val_loss: 6.1607e-04\n",
      "Epoch 27/50\n",
      "32818/32818 [==============================] - 14s 417us/sample - loss: 8.9518e-04 - val_loss: 5.5879e-04\n",
      "Epoch 28/50\n",
      "32818/32818 [==============================] - 15s 443us/sample - loss: 8.8134e-04 - val_loss: 5.5004e-04\n",
      "Epoch 29/50\n",
      "32818/32818 [==============================] - 13s 401us/sample - loss: 8.5260e-04 - val_loss: 6.1235e-04\n",
      "Epoch 30/50\n",
      "32818/32818 [==============================] - 13s 397us/sample - loss: 8.6376e-04 - val_loss: 6.7757e-04\n",
      "Epoch 31/50\n",
      "32818/32818 [==============================] - 13s 396us/sample - loss: 8.6059e-04 - val_loss: 5.8633e-04\n",
      "Epoch 32/50\n",
      "32818/32818 [==============================] - 13s 395us/sample - loss: 8.4578e-04 - val_loss: 5.7079e-04\n",
      "Epoch 33/50\n",
      "32818/32818 [==============================] - 13s 404us/sample - loss: 8.6195e-04 - val_loss: 5.7532e-04\n",
      "Epoch 34/50\n",
      "32818/32818 [==============================] - 14s 425us/sample - loss: 8.6647e-04 - val_loss: 5.8645e-04\n",
      "Epoch 35/50\n",
      "32818/32818 [==============================] - 13s 397us/sample - loss: 8.5066e-04 - val_loss: 5.9822e-04\n",
      "Epoch 36/50\n",
      "32818/32818 [==============================] - 13s 395us/sample - loss: 8.4357e-04 - val_loss: 5.9408e-04\n",
      "Epoch 37/50\n",
      "32818/32818 [==============================] - 13s 394us/sample - loss: 8.5362e-04 - val_loss: 6.0838e-04\n",
      "Epoch 38/50\n",
      "32818/32818 [==============================] - 13s 393us/sample - loss: 8.2249e-04 - val_loss: 5.9226e-04\n",
      "Epoch 39/50\n",
      "32818/32818 [==============================] - 13s 396us/sample - loss: 8.3662e-04 - val_loss: 5.9617e-04\n",
      "Epoch 40/50\n",
      "32818/32818 [==============================] - 14s 429us/sample - loss: 8.4224e-04 - val_loss: 5.7208e-04\n",
      "Epoch 41/50\n",
      "32818/32818 [==============================] - 14s 423us/sample - loss: 8.2328e-04 - val_loss: 5.9532e-04\n",
      "Epoch 42/50\n",
      "32818/32818 [==============================] - 13s 411us/sample - loss: 8.1716e-04 - val_loss: 5.7893e-04\n",
      "Epoch 43/50\n",
      "32818/32818 [==============================] - 13s 394us/sample - loss: 8.3051e-04 - val_loss: 6.4599e-04\n",
      "Epoch 44/50\n",
      "32818/32818 [==============================] - 13s 395us/sample - loss: 8.1569e-04 - val_loss: 6.2543e-04\n",
      "Epoch 45/50\n",
      "32818/32818 [==============================] - 13s 395us/sample - loss: 8.1996e-04 - val_loss: 5.7387e-04\n",
      "Epoch 46/50\n",
      "32818/32818 [==============================] - 14s 429us/sample - loss: 8.0915e-04 - val_loss: 7.1376e-04\n",
      "Epoch 47/50\n",
      "32818/32818 [==============================] - 13s 393us/sample - loss: 8.0865e-04 - val_loss: 5.5235e-04\n",
      "Epoch 48/50\n",
      "32818/32818 [==============================] - 13s 393us/sample - loss: 8.2286e-04 - val_loss: 8.3171e-04\n",
      "Epoch 49/50\n",
      "32818/32818 [==============================] - 13s 393us/sample - loss: 8.1390e-04 - val_loss: 5.5696e-04\n",
      "Epoch 50/50\n",
      "32818/32818 [==============================] - 13s 393us/sample - loss: 8.1628e-04 - val_loss: 6.2186e-04\n"
     ]
    },
    {
     "data": {
      "image/png": "[encoded data removed]",
      "text/plain": [
       "<Figure size 432x288 with 1 Axes>"
      ]
     },
     "metadata": {
      "tags": []
     },
     "output_type": "display_data"
    }
   ],
   "source": [
    "model2 = keras.models.Sequential()\n",
    "model2.add(LSTM(64, input_shape =(n_ts, n_f) , \n",
    "                     return_sequences=True)  )\n",
    "model2.add(Dropout(.1))\n",
    "\n",
    "model2.add(LSTM(32)  )\n",
    "model2.add(Dropout(.2))\n",
    "\n",
    "model2.add(Dense(32,  activation='relu')  )\n",
    "model2.add(Dropout(.2))\n",
    "\n",
    "model2.add(Dense(1,  activation='linear')  )\n",
    "\n",
    "\n",
    "model2.compile(loss = keras.losses.mean_squared_error, \n",
    "              optimizer=keras.optimizers.Adam(lr = .001) )\n",
    "history2 = model2.fit(X_train, Y_train, epochs=50, \n",
    "                      batch_size=16, verbose=1, \n",
    "                      validation_data=(X_test, Y_test))\n"
   ]
  },
  {
   "cell_type": "code",
   "execution_count": 31,
   "metadata": {
    "colab": {
     "base_uri": "https://localhost:8080/",
     "height": 269
    },
    "colab_type": "code",
    "hidden": true,
    "id": "48EL28jVo3tJ",
    "outputId": "dc2caace-26fa-4fe5-9db3-6580f77ce8cd"
   },
   "outputs": [
    {
     "data": {
      "image/png": "[encoded data removed]",
      "text/plain": [
       "<Figure size 432x288 with 1 Axes>"
      ]
     },
     "metadata": {
      "tags": []
     },
     "output_type": "display_data"
    }
   ],
   "source": [
    "Y_fut_predicted2 = model2.predict(X_future)\n",
    "plt.plot(Y_future, label = 'actual data')\n",
    "plt.plot(Y_fut_predicted2, label = 'predicted with 50 epochs')\n",
    "plt.legend(loc=0)\n",
    "plt.show()"
   ]
  },
  {
   "cell_type": "code",
   "execution_count": 0,
   "metadata": {
    "colab": {},
    "colab_type": "code",
    "hidden": true,
    "id": "I4DbZnlJTGzW"
   },
   "outputs": [],
   "source": []
  }
 ],
 "metadata": {
  "accelerator": "GPU",
  "colab": {
   "include_colab_link": true,
   "name": "Sunspots.ipynb",
   "provenance": [],
   "toc_visible": true,
   "version": "0.3.2"
  },
  "kernelspec": {
   "display_name": "Python 3",
   "language": "python",
   "name": "python3"
  },
  "language_info": {
   "codemirror_mode": {
    "name": "ipython",
    "version": 3
   },
   "file_extension": ".py",
   "mimetype": "text/x-python",
   "name": "python",
   "nbconvert_exporter": "python",
   "pygments_lexer": "ipython3",
   "version": "3.6.10"
  },
  "latex_envs": {
   "LaTeX_envs_menu_present": true,
   "autoclose": false,
   "autocomplete": true,
   "bibliofile": "biblio.bib",
   "cite_by": "apalike",
   "current_citInitial": 1,
   "eqLabelWithNumbers": true,
   "eqNumInitial": 1,
   "hotkeys": {
    "equation": "Ctrl-E",
    "itemize": "Ctrl-I"
   },
   "labels_anchors": false,
   "latex_user_defs": false,
   "report_style_numbering": false,
   "user_envs_cfg": false
  },
  "toc": {
   "base_numbering": 1,
   "nav_menu": {},
   "number_sections": true,
   "sideBar": true,
   "skip_h1_title": false,
   "title_cell": "Table of Contents",
   "title_sidebar": "Contents",
   "toc_cell": false,
   "toc_position": {},
   "toc_section_display": true,
   "toc_window_display": true
  },
  "varInspector": {
   "cols": {
    "lenName": 16,
    "lenType": 16,
    "lenVar": 40
   },
   "kernels_config": {
    "python": {
     "delete_cmd_postfix": "",
     "delete_cmd_prefix": "del ",
     "library": "var_list.py",
     "varRefreshCmd": "print(var_dic_list())"
    },
    "r": {
     "delete_cmd_postfix": ") ",
     "delete_cmd_prefix": "rm(",
     "library": "var_list.r",
     "varRefreshCmd": "cat(var_dic_list()) "
    }
   },
   "types_to_exclude": [
    "module",
    "function",
    "builtin_function_or_method",
    "instance",
    "_Feature"
   ],
   "window_display": false
  }
 },
 "nbformat": 4,
 "nbformat_minor": 1
}
