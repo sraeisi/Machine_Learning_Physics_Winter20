{
  "nbformat": 4,
  "nbformat_minor": 0,
  "metadata": {
    "accelerator": "GPU",
    "celltoolbar": "Initialization Cell",
    "colab": {
      "name": "NN_ModelEvaluationa&Tuning.ipynb",
      "provenance": [],
      "collapsed_sections": [
        "yXnhZYfU6NLv",
        "58SHJ2C26NMA"
      ],
      "toc_visible": true,
      "include_colab_link": true
    },
    "kernelspec": {
      "display_name": "Python 3",
      "language": "python",
      "name": "python3"
    },
    "language_info": {
      "codemirror_mode": {
        "name": "ipython",
        "version": 3
      },
      "file_extension": ".py",
      "mimetype": "text/x-python",
      "name": "python",
      "nbconvert_exporter": "python",
      "pygments_lexer": "ipython3",
      "version": "3.6.10"
    },
    "latex_envs": {
      "LaTeX_envs_menu_present": true,
      "autoclose": false,
      "autocomplete": true,
      "bibliofile": "biblio.bib",
      "cite_by": "apalike",
      "current_citInitial": 1,
      "eqLabelWithNumbers": true,
      "eqNumInitial": 1,
      "hotkeys": {
        "equation": "Ctrl-E",
        "itemize": "Ctrl-I"
      },
      "labels_anchors": false,
      "latex_user_defs": false,
      "report_style_numbering": false,
      "user_envs_cfg": false
    },
    "toc": {
      "base_numbering": 1,
      "nav_menu": {},
      "number_sections": true,
      "sideBar": true,
      "skip_h1_title": false,
      "title_cell": "Table of Contents",
      "title_sidebar": "Contents",
      "toc_cell": false,
      "toc_position": {},
      "toc_section_display": true,
      "toc_window_display": false
    },
    "varInspector": {
      "cols": {
        "lenName": 16,
        "lenType": 16,
        "lenVar": 40
      },
      "kernels_config": {
        "python": {
          "delete_cmd_postfix": "",
          "delete_cmd_prefix": "del ",
          "library": "var_list.py",
          "varRefreshCmd": "print(var_dic_list())"
        },
        "r": {
          "delete_cmd_postfix": ") ",
          "delete_cmd_prefix": "rm(",
          "library": "var_list.r",
          "varRefreshCmd": "cat(var_dic_list()) "
        }
      },
      "types_to_exclude": [
        "module",
        "function",
        "builtin_function_or_method",
        "instance",
        "_Feature"
      ],
      "window_display": false
    }
  },
  "cells": [
    {
      "cell_type": "markdown",
      "metadata": {
        "id": "view-in-github",
        "colab_type": "text"
      },
      "source": [
        "<a href=\"https://colab.research.google.com/github/sraeisi/Machine_Learning_Physics_Winter20/blob/master/Chpt4/NN_ModelEvaluationa%26Tuning.ipynb\" target=\"_parent\"><img src=\"https://colab.research.google.com/assets/colab-badge.svg\" alt=\"Open In Colab\"/></a>"
      ]
    },
    {
      "cell_type": "code",
      "metadata": {
        "ExecuteTime": {
          "end_time": "2020-05-05T11:47:38.231635Z",
          "start_time": "2020-05-05T11:47:25.164920Z"
        },
        "colab_type": "code",
        "id": "XyaKzVDuXLmF",
        "init_cell": true,
        "colab": {}
      },
      "source": [
        "import numpy as np\n",
        "import matplotlib.pyplot as plt\n",
        "\n",
        "from matplotlib import style\n",
        "plt.style.use('seaborn-talk')\n",
        "\n",
        "import warnings\n",
        "warnings.filterwarnings('ignore')\n",
        "\n",
        "import tensorflow as tf\n",
        "from tensorflow import keras\n",
        "\n",
        "import requests\n",
        "import io"
      ],
      "execution_count": 0,
      "outputs": []
    },
    {
      "cell_type": "markdown",
      "metadata": {
        "colab_type": "text",
        "heading_collapsed": true,
        "id": "yXnhZYfU6NLv"
      },
      "source": [
        "## GPU"
      ]
    },
    {
      "cell_type": "code",
      "metadata": {
        "ExecuteTime": {
          "end_time": "2020-05-05T11:47:40.404656Z",
          "start_time": "2020-05-05T11:47:38.235617Z"
        },
        "colab_type": "code",
        "hidden": true,
        "id": "8pwuzWub6NLw",
        "init_cell": true,
        "outputId": "7a267e96-5152-4f73-ed54-a9e8c9376e8a",
        "colab": {
          "base_uri": "https://localhost:8080/",
          "height": 34
        }
      },
      "source": [
        "print(\"Num GPUs Available: \", len(tf.config.experimental.list_physical_devices('GPU')))"
      ],
      "execution_count": 0,
      "outputs": [
        {
          "output_type": "stream",
          "text": [
            "Num GPUs Available:  1\n"
          ],
          "name": "stdout"
        }
      ]
    },
    {
      "cell_type": "code",
      "metadata": {
        "ExecuteTime": {
          "end_time": "2020-05-05T11:47:40.428703Z",
          "start_time": "2020-05-05T11:47:40.410488Z"
        },
        "colab_type": "code",
        "hidden": true,
        "id": "_YkeLfS56NL0",
        "init_cell": true,
        "colab": {},
        "outputId": "595f15ff-4eab-427e-cb79-4ef68625784a"
      },
      "source": [
        "gpus = tf.config.experimental.list_physical_devices('GPU')\n",
        "print(gpus)\n",
        "\n",
        "tf.config.experimental.set_memory_growth(gpus[0] , True)\n"
      ],
      "execution_count": 0,
      "outputs": [
        {
          "output_type": "stream",
          "text": [
            "[PhysicalDevice(name='/physical_device:GPU:0', device_type='GPU')]\n"
          ],
          "name": "stdout"
        }
      ]
    },
    {
      "cell_type": "markdown",
      "metadata": {
        "colab_type": "text",
        "heading_collapsed": true,
        "id": "vPUjDX8ABoGc"
      },
      "source": [
        "## Data: Farsi Hand-written digits classification"
      ]
    },
    {
      "cell_type": "code",
      "metadata": {
        "ExecuteTime": {
          "end_time": "2020-05-05T11:49:24.322716Z",
          "start_time": "2020-05-05T11:49:19.069265Z"
        },
        "colab_type": "code",
        "hidden": true,
        "id": "FE54NJdSXplU",
        "init_cell": true,
        "colab": {}
      },
      "source": [
        "'''\n",
        "Let's import the Farsi digits (your assignment)\n",
        "'''\n",
        "\n",
        "url = 'https://raw.githubusercontent.com/sraeisi/MachineLearning_Physics/master/Assignments/A3/X.npz'\n",
        "s=requests.get(url, stream=True).content\n",
        "X = np.load(io.BytesIO(s) )['arr_0']\n",
        "url = 'https://raw.githubusercontent.com/sraeisi/MachineLearning_Physics/master/Assignments/A3/Y.npz'\n",
        "s=requests.get(url, stream=True).content\n",
        "Y = np.load(io.BytesIO(s) )['arr_0']\n",
        "\n",
        "# X = np.load('X.npz')['arr_0']\n",
        "# Y = np.load('Y.npz')['arr_0']\n",
        "\n",
        "\n",
        "from sklearn.utils import shuffle\n",
        "X, Y = shuffle(X,Y, random_state = 0 )"
      ],
      "execution_count": 0,
      "outputs": []
    },
    {
      "cell_type": "code",
      "metadata": {
        "ExecuteTime": {
          "end_time": "2020-05-04T16:42:36.764489Z",
          "start_time": "2020-05-04T16:42:36.756468Z"
        },
        "colab_type": "code",
        "hidden": true,
        "id": "ldLimT4BXqVg",
        "outputId": "35f1708b-b74f-4244-96a2-ef223e962ef1",
        "colab": {
          "base_uri": "https://localhost:8080/",
          "height": 35
        }
      },
      "source": [
        "print('Each image is of the form: {}'.format(X[0].shape ) )"
      ],
      "execution_count": 0,
      "outputs": [
        {
          "output_type": "stream",
          "text": [
            "Each image is of the form: (32, 32)\n"
          ],
          "name": "stdout"
        }
      ]
    },
    {
      "cell_type": "code",
      "metadata": {
        "ExecuteTime": {
          "end_time": "2020-05-04T11:07:23.903378Z",
          "start_time": "2020-05-04T11:07:23.525789Z"
        },
        "colab_type": "code",
        "hidden": true,
        "id": "rNwqhBKg6NL7",
        "outputId": "7819622f-0c2f-4ff0-d3f0-be03c5928508",
        "colab": {}
      },
      "source": [
        "plt.imshow(X[20])"
      ],
      "execution_count": 0,
      "outputs": [
        {
          "output_type": "execute_result",
          "data": {
            "text/plain": [
              "<matplotlib.image.AxesImage at 0x26ca09c68d0>"
            ]
          },
          "metadata": {
            "tags": []
          },
          "execution_count": 6
        },
        {
          "output_type": "display_data",
          "data": {
            "image/png": "[encoded data removed]",
            "text/plain": [
              "<Figure size 748.8x514.8 with 1 Axes>"
            ]
          },
          "metadata": {
            "tags": [],
            "needs_background": "light"
          }
        }
      ]
    },
    {
      "cell_type": "code",
      "metadata": {
        "ExecuteTime": {
          "end_time": "2020-05-05T11:49:31.463454Z",
          "start_time": "2020-05-05T11:49:30.652380Z"
        },
        "colab_type": "code",
        "hidden": true,
        "id": "FyNX5FJRXx9V",
        "init_cell": true,
        "colab": {}
      },
      "source": [
        "from sklearn.model_selection import train_test_split\n",
        "from sklearn.metrics import confusion_matrix\n",
        "\n",
        "X_train, X_test, Y_train, Y_test = train_test_split(X, Y, random_state=0)"
      ],
      "execution_count": 0,
      "outputs": []
    },
    {
      "cell_type": "markdown",
      "metadata": {
        "colab_type": "text",
        "heading_collapsed": true,
        "id": "58SHJ2C26NMA"
      },
      "source": [
        "## Pytorch"
      ]
    },
    {
      "cell_type": "code",
      "metadata": {
        "id": "xPtgAvHgBabb",
        "colab_type": "code",
        "colab": {}
      },
      "source": [
        "import torch\n",
        "import torch.nn as nn\n",
        "import torch.nn.functional as F\n",
        "import torch.optim as optim\n"
      ],
      "execution_count": 0,
      "outputs": []
    },
    {
      "cell_type": "code",
      "metadata": {
        "colab_type": "code",
        "hidden": true,
        "id": "6lyCNkEz6NMB",
        "colab": {
          "base_uri": "https://localhost:8080/",
          "height": 102
        },
        "outputId": "341171ac-e93b-4d0b-f328-c0a07921582c"
      },
      "source": [
        "class Net(nn.Module):\n",
        "\n",
        "    def __init__(self):\n",
        "        super(Net, self).__init__()\n",
        "        # 1 input image channel, 6 output channels, 3x3 square convolution\n",
        "        # kernel\n",
        "        # self.conv1 = nn.Conv2d(1, 6, 3)\n",
        "        # self.conv2 = nn.Conv2d(6, 16, 3)\n",
        "        # an affine operation: y = Wx + b\n",
        "        # self.flatten = nn.Flatten()\n",
        "        self.fc1 = nn.Linear(32 * 32, 120)  # 6*6 from image dimension\n",
        "        self.fc2 = nn.Linear(120, 80)\n",
        "        self.fc3 = nn.Linear(80, 10)\n",
        "\n",
        "    def forward(self, x):\n",
        "        # Max pooling over a (2, 2) window\n",
        "        # x = F.max_pool2d(F.relu(self.conv1(x)), (2, 2))\n",
        "        # If the size is a square you can only specify a single number\n",
        "        # x = F.max_pool2d(F.relu(self.conv2(x)), 2)\n",
        "        x = x.view(-1, self.num_flat_features(x))\n",
        "        x = F.relu(self.fc1(x))\n",
        "        x = F.relu(self.fc2(x))\n",
        "        x = self.fc3(x)\n",
        "\n",
        "        output = F.log_softmax(x, dim=1)\n",
        "\n",
        "        return output\n",
        "\n",
        "    def num_flat_features(self, x):\n",
        "        size = x.size()[1:]  # all dimensions except the batch dimension\n",
        "        num_features = 1\n",
        "        for s in size:\n",
        "            num_features *= s\n",
        "        return num_features\n",
        "\n",
        "\n",
        "net = Net()\n",
        "print(net)"
      ],
      "execution_count": 20,
      "outputs": [
        {
          "output_type": "stream",
          "text": [
            "Net(\n",
            "  (fc1): Linear(in_features=1024, out_features=120, bias=True)\n",
            "  (fc2): Linear(in_features=120, out_features=80, bias=True)\n",
            "  (fc3): Linear(in_features=80, out_features=10, bias=True)\n",
            ")\n"
          ],
          "name": "stdout"
        }
      ]
    },
    {
      "cell_type": "code",
      "metadata": {
        "id": "lUsLFp4iCRO4",
        "colab_type": "code",
        "colab": {
          "base_uri": "https://localhost:8080/",
          "height": 51
        },
        "outputId": "5626680d-c479-4539-937f-e13fbfc21710"
      },
      "source": [
        "input = torch.randn(1, 1, 32, 32)\n",
        "out = net(input)\n",
        "print(out)\n",
        "\n",
        "optimizer = optim.Adam(net.parameters(), lr=0.01, betas=(0.9, 0.999))"
      ],
      "execution_count": 23,
      "outputs": [
        {
          "output_type": "stream",
          "text": [
            "tensor([[-2.3116, -2.3463, -2.3377, -2.2692, -2.2687, -2.4167, -2.2904, -2.2556,\n",
            "         -2.3332, -2.2114]], grad_fn=<LogSoftmaxBackward>)\n"
          ],
          "name": "stdout"
        }
      ]
    },
    {
      "cell_type": "code",
      "metadata": {
        "id": "55UpWkDvDC1u",
        "colab_type": "code",
        "colab": {}
      },
      "source": [
        "x_tr = torch.from_numpy(X_train).float()\n",
        "x_ts = torch.from_numpy(X_test).float()\n",
        "\n",
        "## Fir the onehot encoding\n",
        "enc = np.identity(10)\n",
        "\n",
        "y_tr = torch.from_numpy(Y_train)#.float()\n",
        "y_ts = torch.from_numpy(Y_test)#.float()"
      ],
      "execution_count": 0,
      "outputs": []
    },
    {
      "cell_type": "code",
      "metadata": {
        "id": "8sMLx3cHDCoQ",
        "colab_type": "code",
        "colab": {
          "base_uri": "https://localhost:8080/",
          "height": 291
        },
        "outputId": "48aff0f7-c77c-4165-bb8c-c21e6e688a48"
      },
      "source": [
        "epochs = 10\n",
        "\n",
        "#We also need to keep track of the loss. \n",
        "losses = []\n",
        "\n",
        "for i in range(epochs):\n",
        "    #Clear the previous gradients\n",
        "    optimizer.zero_grad()\n",
        "    \n",
        "    #Precit the output for Given input\n",
        "    y_pred = net.forward(x_tr)\n",
        "    \n",
        "    loss = F.nll_loss(y_pred, y_tr)\n",
        "    losses += [loss]\n",
        "\n",
        "\n",
        "    loss.backward()\n",
        "    optimizer.step()\n",
        "    \n",
        "    \n",
        "plt.plot(losses)"
      ],
      "execution_count": 29,
      "outputs": [
        {
          "output_type": "execute_result",
          "data": {
            "text/plain": [
              "[<matplotlib.lines.Line2D at 0x7f45f4007cc0>]"
            ]
          },
          "metadata": {
            "tags": []
          },
          "execution_count": 29
        },
        {
          "output_type": "display_data",
          "data": {
            "image/png": "[encoded data removed]",
            "text/plain": [
              "<Figure size 432x288 with 1 Axes>"
            ]
          },
          "metadata": {
            "tags": [],
            "needs_background": "light"
          }
        }
      ]
    },
    {
      "cell_type": "markdown",
      "metadata": {
        "colab_type": "text",
        "heading_collapsed": true,
        "id": "ycapc67R6NMD"
      },
      "source": [
        "## Keras"
      ]
    },
    {
      "cell_type": "code",
      "metadata": {
        "ExecuteTime": {
          "end_time": "2020-05-05T11:49:40.635641Z",
          "start_time": "2020-05-05T11:49:40.628939Z"
        },
        "colab_type": "code",
        "hidden": true,
        "id": "rlMGKrVx6NME",
        "colab": {}
      },
      "source": [
        "# TensorFlow and tf.keras\n",
        "import tensorflow as tf\n",
        "# tf.config.experimental.set_memory_growth\n",
        "# config = tf.ConfigProto()\n",
        "# config.gpu_options.allow_growth = False\n",
        "# tf.config.gpu.set_per_process_memory_fraction(0.4)\n",
        "\n",
        "from tensorflow import keras"
      ],
      "execution_count": 0,
      "outputs": []
    },
    {
      "cell_type": "code",
      "metadata": {
        "ExecuteTime": {
          "end_time": "2020-05-05T11:50:20.064953Z",
          "start_time": "2020-05-05T11:50:13.798942Z"
        },
        "colab_type": "code",
        "hidden": true,
        "id": "WSXG5PFOXtQC",
        "colab": {}
      },
      "source": [
        "model = keras.Sequential([\n",
        "    keras.layers.Flatten(input_shape=(32, 32)),\n",
        "    keras.layers.Dense(128, activation= 'relu' ),\n",
        "    keras.layers.Dense(10, activation='softmax'  )\n",
        "])"
      ],
      "execution_count": 0,
      "outputs": []
    },
    {
      "cell_type": "code",
      "metadata": {
        "ExecuteTime": {
          "end_time": "2020-05-05T11:50:20.974166Z",
          "start_time": "2020-05-05T11:50:20.881100Z"
        },
        "colab_type": "code",
        "hidden": true,
        "id": "afDV3ofd6NMK",
        "colab": {}
      },
      "source": [
        "model.compile(optimizer='adam', \n",
        "              loss='sparse_categorical_crossentropy',\n",
        "              metrics=['accuracy'])"
      ],
      "execution_count": 0,
      "outputs": []
    },
    {
      "cell_type": "code",
      "metadata": {
        "ExecuteTime": {
          "end_time": "2020-05-05T11:50:31.731610Z",
          "start_time": "2020-05-05T11:50:23.871668Z"
        },
        "colab_type": "code",
        "hidden": true,
        "id": "RPYBp6g9Xy23",
        "outputId": "57ba12ef-2d52-4057-fe77-b647f51c2b2e",
        "colab": {
          "base_uri": "https://localhost:8080/",
          "height": 187
        }
      },
      "source": [
        "history = model.fit(X_train,Y_train, validation_split=0.25, epochs=5, batch_size=500)"
      ],
      "execution_count": 7,
      "outputs": [
        {
          "output_type": "stream",
          "text": [
            "Epoch 1/5\n",
            "116/116 [==============================] - 1s 5ms/step - loss: 0.3529 - accuracy: 0.9008 - val_loss: 0.1685 - val_accuracy: 0.9532\n",
            "Epoch 2/5\n",
            "116/116 [==============================] - 0s 4ms/step - loss: 0.1364 - accuracy: 0.9620 - val_loss: 0.1270 - val_accuracy: 0.9643\n",
            "Epoch 3/5\n",
            "116/116 [==============================] - 0s 4ms/step - loss: 0.1006 - accuracy: 0.9724 - val_loss: 0.1037 - val_accuracy: 0.9712\n",
            "Epoch 4/5\n",
            "116/116 [==============================] - 0s 4ms/step - loss: 0.0764 - accuracy: 0.9793 - val_loss: 0.0882 - val_accuracy: 0.9757\n",
            "Epoch 5/5\n",
            "116/116 [==============================] - 0s 4ms/step - loss: 0.0614 - accuracy: 0.9836 - val_loss: 0.0795 - val_accuracy: 0.9771\n"
          ],
          "name": "stdout"
        }
      ]
    },
    {
      "cell_type": "code",
      "metadata": {
        "ExecuteTime": {
          "end_time": "2020-05-05T11:51:23.772854Z",
          "start_time": "2020-05-05T11:51:20.586855Z"
        },
        "colab_type": "code",
        "hidden": true,
        "id": "soJviX78X19-",
        "outputId": "a28926bb-d378-451c-d657-fb1948a93c37",
        "colab": {
          "base_uri": "https://localhost:8080/",
          "height": 193
        }
      },
      "source": [
        "Y_predicted = np.argmax( model.predict(X_test) , axis=1 )\n",
        "cm = confusion_matrix(Y_test, Y_predicted)\n",
        "print(cm)"
      ],
      "execution_count": 0,
      "outputs": [
        {
          "output_type": "stream",
          "text": [
            "[[2518    0    0    1    0   13    1    2    1    0]\n",
            " [   0 2499    3    0    1    0    3    3    0    2]\n",
            " [   3   21 2382   38   23    0   15   10    1    7]\n",
            " [   1    0   59 2451   30    2    1    0    0    0]\n",
            " [   3   10   19   61 2563   20    9    5    2    0]\n",
            " [   7    4    1    2    4 2468    2    0    8    1]\n",
            " [   3    8    8    1    9    4 2541   12    2   20]\n",
            " [   4    4    2    2    4    5    4 2583    0    0]\n",
            " [   3    6    0    2    1    4    4    1 2518    9]\n",
            " [   0   19    3    0    3    1   26    0   14 2478]]\n"
          ],
          "name": "stdout"
        }
      ]
    },
    {
      "cell_type": "code",
      "metadata": {
        "ExecuteTime": {
          "end_time": "2020-05-05T11:51:28.386362Z",
          "start_time": "2020-05-05T11:51:27.221461Z"
        },
        "colab_type": "code",
        "hidden": true,
        "id": "OW8pM1UVYI_H",
        "outputId": "9470cc15-bc6a-4b4f-cfd3-3f52c952640f",
        "colab": {
          "base_uri": "https://localhost:8080/",
          "height": 389
        }
      },
      "source": [
        "# Plot training & validation accuracy values\n",
        "fig = plt.figure(figsize=(10,5))\n",
        "ax = fig.add_subplot(1,2,1, title = 'Model accuracy', ylabel= 'Accuracy')\n",
        "plt.plot(history.history['accuracy'])\n",
        "plt.plot(history.history['val_accuracy'])\n",
        "plt.legend(['Train', 'Test'], loc='upper left')\n",
        "\n",
        "# Plot training & validation loss values\n",
        "ax = fig.add_subplot(1,2,2, title = 'Model loss', ylabel= 'Loss')\n",
        "plt.plot(history.history['loss'])\n",
        "plt.plot(history.history['val_loss'])\n",
        "plt.legend(['Train', 'Test'], loc='upper left')\n",
        "\n",
        "plt.tight_layout()\n",
        "plt.show()"
      ],
      "execution_count": 0,
      "outputs": [
        {
          "output_type": "display_data",
          "data": {
            "image/png": "[encoded data removed]",
            "text/plain": [
              "<Figure size 720x360 with 2 Axes>"
            ]
          },
          "metadata": {
            "tags": [],
            "needs_background": "light"
          }
        }
      ]
    },
    {
      "cell_type": "code",
      "metadata": {
        "ExecuteTime": {
          "end_time": "2020-05-05T11:57:09.626707Z",
          "start_time": "2020-05-05T11:57:07.655730Z"
        },
        "colab_type": "code",
        "hidden": true,
        "id": "VUBhOlWvX5z7",
        "colab": {}
      },
      "source": [
        "Y_oh = keras.utils.to_categorical(Y, num_classes=10, dtype=int)\n",
        "\n",
        "X_train, X_test, Y_train, Y_test = train_test_split(X, Y_oh, random_state=0)\n",
        "\n",
        "model = keras.Sequential([\n",
        "    keras.layers.Flatten(input_shape=(32, 32)),\n",
        "    keras.layers.Dense(128, activation= 'relu' ),\n",
        "    keras.layers.Dense(10, activation='softmax'  )\n",
        "])\n",
        "\n",
        "## We need to change the loss function for the one-hot encoding\n",
        "model.compile(optimizer='adam', \n",
        "              loss='categorical_crossentropy',\n",
        "              metrics=['accuracy'])"
      ],
      "execution_count": 0,
      "outputs": []
    },
    {
      "cell_type": "code",
      "metadata": {
        "ExecuteTime": {
          "end_time": "2020-05-05T11:58:39.155545Z",
          "start_time": "2020-05-05T11:57:33.871344Z"
        },
        "colab_type": "code",
        "hidden": true,
        "id": "xiy9_xdXYBIw",
        "outputId": "410613fc-92ff-40f9-96e0-8a399c53d35a",
        "colab": {}
      },
      "source": [
        "history = model.fit(X_train,Y_train, validation_split=0.25, epochs=50, batch_size=500, verbose=1)"
      ],
      "execution_count": 0,
      "outputs": [
        {
          "output_type": "stream",
          "text": [
            "Train on 57573 samples, validate on 19191 samples\n",
            "Epoch 1/50\n",
            "57573/57573 [==============================] - 3s 57us/sample - loss: 0.3462 - accuracy: 0.9032 - val_loss: 0.1695 - val_accuracy: 0.9526\n",
            "Epoch 2/50\n",
            "57573/57573 [==============================] - 1s 22us/sample - loss: 0.1373 - accuracy: 0.9622 - val_loss: 0.1256 - val_accuracy: 0.9656\n",
            "Epoch 3/50\n",
            "57573/57573 [==============================] - 1s 21us/sample - loss: 0.1017 - accuracy: 0.9727 - val_loss: 0.1040 - val_accuracy: 0.9706\n",
            "Epoch 4/50\n",
            "57573/57573 [==============================] - 1s 22us/sample - loss: 0.0794 - accuracy: 0.9784 - val_loss: 0.0914 - val_accuracy: 0.9739\n",
            "Epoch 5/50\n",
            "57573/57573 [==============================] - 1s 20us/sample - loss: 0.0639 - accuracy: 0.9831 - val_loss: 0.0838 - val_accuracy: 0.9764\n",
            "Epoch 6/50\n",
            "57573/57573 [==============================] - 1s 23us/sample - loss: 0.0522 - accuracy: 0.9861 - val_loss: 0.0767 - val_accuracy: 0.9774\n",
            "Epoch 7/50\n",
            "57573/57573 [==============================] - 1s 24us/sample - loss: 0.0429 - accuracy: 0.9888 - val_loss: 0.0718 - val_accuracy: 0.9790\n",
            "Epoch 8/50\n",
            "57573/57573 [==============================] - 1s 22us/sample - loss: 0.0367 - accuracy: 0.9906 - val_loss: 0.0685 - val_accuracy: 0.9798\n",
            "Epoch 9/50\n",
            "57573/57573 [==============================] - 1s 21us/sample - loss: 0.0312 - accuracy: 0.9920 - val_loss: 0.0655 - val_accuracy: 0.9805\n",
            "Epoch 10/50\n",
            "57573/57573 [==============================] - 1s 21us/sample - loss: 0.0271 - accuracy: 0.9935 - val_loss: 0.0647 - val_accuracy: 0.9806\n",
            "Epoch 11/50\n",
            "57573/57573 [==============================] - 1s 21us/sample - loss: 0.0220 - accuracy: 0.9950 - val_loss: 0.0627 - val_accuracy: 0.9809\n",
            "Epoch 12/50\n",
            "57573/57573 [==============================] - 1s 21us/sample - loss: 0.0189 - accuracy: 0.9959 - val_loss: 0.0615 - val_accuracy: 0.9820\n",
            "Epoch 13/50\n",
            "57573/57573 [==============================] - 1s 21us/sample - loss: 0.0165 - accuracy: 0.9964 - val_loss: 0.0640 - val_accuracy: 0.9811\n",
            "Epoch 14/50\n",
            "57573/57573 [==============================] - 1s 21us/sample - loss: 0.0139 - accuracy: 0.9974 - val_loss: 0.0594 - val_accuracy: 0.9825\n",
            "Epoch 15/50\n",
            "57573/57573 [==============================] - 1s 21us/sample - loss: 0.0115 - accuracy: 0.9981 - val_loss: 0.0615 - val_accuracy: 0.9821\n",
            "Epoch 16/50\n",
            "57573/57573 [==============================] - 1s 25us/sample - loss: 0.0101 - accuracy: 0.9985 - val_loss: 0.0623 - val_accuracy: 0.9818\n",
            "Epoch 17/50\n",
            "57573/57573 [==============================] - 1s 22us/sample - loss: 0.0086 - accuracy: 0.9989 - val_loss: 0.0591 - val_accuracy: 0.9836\n",
            "Epoch 18/50\n",
            "57573/57573 [==============================] - 1s 22us/sample - loss: 0.0071 - accuracy: 0.9992 - val_loss: 0.0598 - val_accuracy: 0.9826\n",
            "Epoch 19/50\n",
            "57573/57573 [==============================] - 1s 22us/sample - loss: 0.0065 - accuracy: 0.9994 - val_loss: 0.0601 - val_accuracy: 0.9832\n",
            "Epoch 20/50\n",
            "57573/57573 [==============================] - 1s 26us/sample - loss: 0.0054 - accuracy: 0.9996 - val_loss: 0.0599 - val_accuracy: 0.9841\n",
            "Epoch 21/50\n",
            "57573/57573 [==============================] - 2s 26us/sample - loss: 0.0045 - accuracy: 0.9997 - val_loss: 0.0607 - val_accuracy: 0.9836\n",
            "Epoch 22/50\n",
            "57573/57573 [==============================] - 1s 24us/sample - loss: 0.0039 - accuracy: 0.9999 - val_loss: 0.0610 - val_accuracy: 0.9841\n",
            "Epoch 23/50\n",
            "57573/57573 [==============================] - 1s 22us/sample - loss: 0.0035 - accuracy: 0.9999 - val_loss: 0.0612 - val_accuracy: 0.9841\n",
            "Epoch 24/50\n",
            "57573/57573 [==============================] - 1s 21us/sample - loss: 0.0030 - accuracy: 1.0000 - val_loss: 0.0635 - val_accuracy: 0.9835\n",
            "Epoch 25/50\n",
            "57573/57573 [==============================] - 1s 25us/sample - loss: 0.0026 - accuracy: 1.0000 - val_loss: 0.0635 - val_accuracy: 0.9843\n",
            "Epoch 26/50\n",
            "57573/57573 [==============================] - 1s 21us/sample - loss: 0.0023 - accuracy: 1.0000 - val_loss: 0.0640 - val_accuracy: 0.9842\n",
            "Epoch 27/50\n",
            "57573/57573 [==============================] - 1s 20us/sample - loss: 0.0021 - accuracy: 1.0000 - val_loss: 0.0639 - val_accuracy: 0.9841\n",
            "Epoch 28/50\n",
            "57573/57573 [==============================] - 1s 20us/sample - loss: 0.0019 - accuracy: 1.0000 - val_loss: 0.0641 - val_accuracy: 0.9842\n",
            "Epoch 29/50\n",
            "57573/57573 [==============================] - 1s 20us/sample - loss: 0.0016 - accuracy: 1.0000 - val_loss: 0.0653 - val_accuracy: 0.9843\n",
            "Epoch 30/50\n",
            "57573/57573 [==============================] - 1s 20us/sample - loss: 0.0015 - accuracy: 1.0000 - val_loss: 0.0654 - val_accuracy: 0.9839\n",
            "Epoch 31/50\n",
            "57573/57573 [==============================] - 1s 20us/sample - loss: 0.0013 - accuracy: 1.0000 - val_loss: 0.0663 - val_accuracy: 0.9841\n",
            "Epoch 32/50\n",
            "57573/57573 [==============================] - 1s 23us/sample - loss: 0.0012 - accuracy: 1.0000 - val_loss: 0.0670 - val_accuracy: 0.9840\n",
            "Epoch 33/50\n",
            "57573/57573 [==============================] - 1s 25us/sample - loss: 0.0011 - accuracy: 1.0000 - val_loss: 0.0671 - val_accuracy: 0.9845\n",
            "Epoch 34/50\n",
            "57573/57573 [==============================] - 1s 22us/sample - loss: 9.9181e-04 - accuracy: 1.0000 - val_loss: 0.0678 - val_accuracy: 0.9843\n",
            "Epoch 35/50\n",
            "57573/57573 [==============================] - 1s 21us/sample - loss: 9.1452e-04 - accuracy: 1.0000 - val_loss: 0.0683 - val_accuracy: 0.9841\n",
            "Epoch 36/50\n",
            "57573/57573 [==============================] - 1s 21us/sample - loss: 8.1154e-04 - accuracy: 1.0000 - val_loss: 0.0693 - val_accuracy: 0.9846\n",
            "Epoch 37/50\n",
            "57573/57573 [==============================] - 1s 23us/sample - loss: 7.5849e-04 - accuracy: 1.0000 - val_loss: 0.0693 - val_accuracy: 0.9845\n",
            "Epoch 38/50\n",
            "57573/57573 [==============================] - 1s 25us/sample - loss: 6.9939e-04 - accuracy: 1.0000 - val_loss: 0.0698 - val_accuracy: 0.9843\n",
            "Epoch 39/50\n",
            "57573/57573 [==============================] - 1s 21us/sample - loss: 6.2272e-04 - accuracy: 1.0000 - val_loss: 0.0715 - val_accuracy: 0.9843\n",
            "Epoch 40/50\n",
            "57573/57573 [==============================] - 1s 20us/sample - loss: 5.7634e-04 - accuracy: 1.0000 - val_loss: 0.0720 - val_accuracy: 0.9842\n",
            "Epoch 41/50\n",
            "57573/57573 [==============================] - 1s 24us/sample - loss: 5.3948e-04 - accuracy: 1.0000 - val_loss: 0.0718 - val_accuracy: 0.9845\n",
            "Epoch 42/50\n",
            "57573/57573 [==============================] - 1s 21us/sample - loss: 4.8592e-04 - accuracy: 1.0000 - val_loss: 0.0721 - val_accuracy: 0.9846\n",
            "Epoch 43/50\n",
            "57573/57573 [==============================] - 1s 21us/sample - loss: 4.4469e-04 - accuracy: 1.0000 - val_loss: 0.0731 - val_accuracy: 0.9846\n",
            "Epoch 44/50\n",
            "57573/57573 [==============================] - 1s 22us/sample - loss: 4.1329e-04 - accuracy: 1.0000 - val_loss: 0.0732 - val_accuracy: 0.9843\n",
            "Epoch 45/50\n",
            "57573/57573 [==============================] - 1s 21us/sample - loss: 3.8206e-04 - accuracy: 1.0000 - val_loss: 0.0741 - val_accuracy: 0.9841\n",
            "Epoch 46/50\n",
            "57573/57573 [==============================] - 1s 21us/sample - loss: 3.4300e-04 - accuracy: 1.0000 - val_loss: 0.0747 - val_accuracy: 0.9841\n",
            "Epoch 47/50\n",
            "57573/57573 [==============================] - 1s 21us/sample - loss: 3.2524e-04 - accuracy: 1.0000 - val_loss: 0.0753 - val_accuracy: 0.9844\n",
            "Epoch 48/50\n",
            "57573/57573 [==============================] - 1s 20us/sample - loss: 2.9565e-04 - accuracy: 1.0000 - val_loss: 0.0756 - val_accuracy: 0.9845\n",
            "Epoch 49/50\n",
            "57573/57573 [==============================] - 1s 20us/sample - loss: 2.8657e-04 - accuracy: 1.0000 - val_loss: 0.0757 - val_accuracy: 0.9845\n",
            "Epoch 50/50\n",
            "57573/57573 [==============================] - 1s 21us/sample - loss: 2.5519e-04 - accuracy: 1.0000 - val_loss: 0.0767 - val_accuracy: 0.9847\n"
          ],
          "name": "stdout"
        }
      ]
    },
    {
      "cell_type": "code",
      "metadata": {
        "ExecuteTime": {
          "end_time": "2020-05-05T11:58:41.356026Z",
          "start_time": "2020-05-05T11:58:39.244982Z"
        },
        "colab_type": "code",
        "hidden": true,
        "id": "x4XW7S7CYEOB",
        "outputId": "73f38b10-d08b-4465-b1e8-e4f0f910336f",
        "colab": {}
      },
      "source": [
        "Y_predicted = np.argmax( model.predict(X_test) , axis=1 )\n",
        "cm = confusion_matrix(np.argmax( Y_test , axis=1 ), Y_predicted)\n",
        "print(cm)\n"
      ],
      "execution_count": 0,
      "outputs": [
        {
          "output_type": "stream",
          "text": [
            "[[2521    0    1    0    0   14    0    0    0    0]\n",
            " [   0 2503    4    0    1    0    1    0    0    2]\n",
            " [   3    7 2448   22    9    0    6    3    0    2]\n",
            " [   1    0   51 2465   25    2    0    0    0    0]\n",
            " [   1    7   13   34 2614    8    7    4    1    3]\n",
            " [   8    1    1    3    7 2467    3    0    5    2]\n",
            " [   1    4    5    0    3    2 2573    3    1   16]\n",
            " [   5    3    3    0    3    3    4 2587    0    0]\n",
            " [   2    4    0    2    0    3    4    1 2519   13]\n",
            " [   1   11    1    0    1    0   13    0    6 2511]]\n"
          ],
          "name": "stdout"
        }
      ]
    },
    {
      "cell_type": "code",
      "metadata": {
        "ExecuteTime": {
          "end_time": "2020-05-05T11:58:55.861383Z",
          "start_time": "2020-05-05T11:58:55.069281Z"
        },
        "colab_type": "code",
        "hidden": true,
        "id": "v5n5eQS4YHO4",
        "outputId": "325e8bbd-b0c3-43a8-b880-0b684b78cb9b",
        "colab": {}
      },
      "source": [
        "# Plot training & validation accuracy values\n",
        "fig = plt.figure(figsize=(10,5))\n",
        "ax = fig.add_subplot(1,2,1, title = 'Model accuracy', ylabel= 'Accuracy')\n",
        "plt.plot(history.history['accuracy'])\n",
        "plt.plot(history.history['val_accuracy'])\n",
        "plt.legend(['Train', 'Test'], loc='upper left')\n",
        "\n",
        "# Plot training & validation loss values\n",
        "ax = fig.add_subplot(1,2,2, title = 'Model loss', ylabel= 'Loss')\n",
        "plt.plot(history.history['loss'])\n",
        "plt.plot(history.history['val_loss'])\n",
        "plt.legend(['Train', 'Test'], loc='upper left')\n",
        "\n",
        "plt.tight_layout()\n",
        "plt.show()"
      ],
      "execution_count": 0,
      "outputs": [
        {
          "output_type": "display_data",
          "data": {
            "image/png": "[encoded data removed]",
            "text/plain": [
              "<Figure size 720x360 with 2 Axes>"
            ]
          },
          "metadata": {
            "tags": [],
            "needs_background": "light"
          }
        }
      ]
    },
    {
      "cell_type": "markdown",
      "metadata": {
        "colab_type": "text",
        "heading_collapsed": true,
        "id": "-IMHpC3kWsOZ"
      },
      "source": [
        "## Handling Overfitting\n"
      ]
    },
    {
      "cell_type": "code",
      "metadata": {
        "ExecuteTime": {
          "end_time": "2020-05-05T12:08:09.707971Z",
          "start_time": "2020-05-05T12:07:42.447401Z"
        },
        "colab_type": "code",
        "hidden": true,
        "id": "pmcI2PzPRrow",
        "outputId": "b6fdf58c-e40f-4114-8978-059e791a63c9",
        "colab": {
          "base_uri": "https://localhost:8080/",
          "height": 406
        }
      },
      "source": [
        "n_s = 100000\n",
        "model.reset_states()\n",
        "history_ovfit = model.fit(X_train[:n_s],Y_train[:n_s], \n",
        "#                           validation_split=0.05,\n",
        "                          validation_data = (X_test, Y_test),\n",
        "                          epochs=10 , \n",
        "                          batch_size=256, \n",
        "                          verbose=1)"
      ],
      "execution_count": 0,
      "outputs": [
        {
          "output_type": "stream",
          "text": [
            "Train on 76764 samples, validate on 25588 samples\n",
            "Epoch 1/10\n",
            "76764/76764 [==============================] - 3s 36us/sample - loss: 1.3162e-04 - accuracy: 1.0000 - val_loss: 0.0675 - val_accuracy: 0.9883\n",
            "Epoch 2/10\n",
            "76764/76764 [==============================] - 3s 35us/sample - loss: 1.1761e-04 - accuracy: 1.0000 - val_loss: 0.0686 - val_accuracy: 0.9880\n",
            "Epoch 3/10\n",
            "76764/76764 [==============================] - 3s 35us/sample - loss: 1.0420e-04 - accuracy: 1.0000 - val_loss: 0.0687 - val_accuracy: 0.9882\n",
            "Epoch 4/10\n",
            "76764/76764 [==============================] - 3s 35us/sample - loss: 9.2805e-05 - accuracy: 1.0000 - val_loss: 0.0691 - val_accuracy: 0.9882\n",
            "Epoch 5/10\n",
            "76764/76764 [==============================] - 3s 34us/sample - loss: 8.0629e-05 - accuracy: 1.0000 - val_loss: 0.0695 - val_accuracy: 0.9882\n",
            "Epoch 6/10\n",
            "76764/76764 [==============================] - 3s 34us/sample - loss: 7.2546e-05 - accuracy: 1.0000 - val_loss: 0.0704 - val_accuracy: 0.9883\n",
            "Epoch 7/10\n",
            "76764/76764 [==============================] - 3s 37us/sample - loss: 6.2792e-05 - accuracy: 1.0000 - val_loss: 0.0712 - val_accuracy: 0.9882\n",
            "Epoch 8/10\n",
            "76764/76764 [==============================] - 3s 35us/sample - loss: 5.6689e-05 - accuracy: 1.0000 - val_loss: 0.0723 - val_accuracy: 0.9881\n",
            "Epoch 9/10\n",
            "76764/76764 [==============================] - 3s 37us/sample - loss: 5.0694e-05 - accuracy: 1.0000 - val_loss: 0.0721 - val_accuracy: 0.9884\n",
            "Epoch 10/10\n",
            "76764/76764 [==============================] - 3s 36us/sample - loss: 4.3575e-05 - accuracy: 1.0000 - val_loss: 0.0737 - val_accuracy: 0.9884\n"
          ],
          "name": "stdout"
        }
      ]
    },
    {
      "cell_type": "code",
      "metadata": {
        "ExecuteTime": {
          "end_time": "2020-05-05T12:08:10.607668Z",
          "start_time": "2020-05-05T12:08:09.797730Z"
        },
        "colab_type": "code",
        "hidden": true,
        "id": "FgWYWzQIUjuW",
        "outputId": "908a7faf-1b8a-45f9-997c-cf51f73999dd",
        "colab": {
          "base_uri": "https://localhost:8080/",
          "height": 369
        }
      },
      "source": [
        "# Plot training & validation accuracy values\n",
        "fig = plt.figure(figsize=(10,5))\n",
        "ax = fig.add_subplot(1,2,1, title = 'Model accuracy', ylabel= 'Accuracy')\n",
        "plt.plot(history_ovfit.history['accuracy'])\n",
        "plt.plot(history_ovfit.history['val_accuracy'])\n",
        "plt.legend(['Train', 'Test'], loc='upper left')\n",
        "\n",
        "# Plot training & validation loss values\n",
        "ax = fig.add_subplot(1,2,2, title = 'Model loss', ylabel= 'Loss')\n",
        "plt.plot(history_ovfit.history['loss'])\n",
        "plt.plot(history_ovfit.history['val_loss'])\n",
        "plt.legend(['Train', 'Test'], loc='upper left')\n",
        "\n",
        "plt.tight_layout()\n",
        "plt.show()"
      ],
      "execution_count": 0,
      "outputs": [
        {
          "output_type": "display_data",
          "data": {
            "image/png": "[encoded data removed]",
            "text/plain": [
              "<Figure size 720x360 with 2 Axes>"
            ]
          },
          "metadata": {
            "tags": [],
            "needs_background": "light"
          }
        }
      ]
    },
    {
      "cell_type": "code",
      "metadata": {
        "ExecuteTime": {
          "end_time": "2020-05-05T12:16:43.297591Z",
          "start_time": "2020-05-05T12:16:41.864076Z"
        },
        "colab_type": "code",
        "hidden": true,
        "id": "lsx6oQU4U7-M",
        "outputId": "96f13ea2-27c0-408d-fd3a-07bfbd5c85bc",
        "colab": {
          "base_uri": "https://localhost:8080/",
          "height": 281
        }
      },
      "source": [
        "model_ovfit1 = keras.Sequential([\n",
        "    keras.layers.Flatten(input_shape=(32, 32)),    \n",
        "    keras.layers.Dense(128,activation=tf.nn.relu, kernel_regularizer=keras.regularizers.l2(100) ),\n",
        "    keras.layers.Dense(128,activation=tf.nn.relu, kernel_regularizer=keras.regularizers.l2(1)),\n",
        "#     keras.layers.Dropout(0.5),\n",
        "    keras.layers.Dense(128,activation=tf.nn.relu, kernel_regularizer=keras.regularizers.l2(1)),\n",
        "    keras.layers.Dense(10, activation=tf.nn.softmax)\n",
        "])\n",
        "\n",
        "\n",
        "model_ovfit1.compile(optimizer='adam', \n",
        "              loss='sparse_categorical_crossentropy',\n",
        "              metrics=['accuracy'])\n",
        "\n",
        "model_ovfit1.build([None, 2])\n",
        "model_ovfit1.summary()"
      ],
      "execution_count": 0,
      "outputs": [
        {
          "output_type": "stream",
          "text": [
            "Model: \"sequential_11\"\n",
            "_________________________________________________________________\n",
            "Layer (type)                 Output Shape              Param #   \n",
            "=================================================================\n",
            "flatten_10 (Flatten)         (None, 1024)              0         \n",
            "_________________________________________________________________\n",
            "dense_40 (Dense)             (None, 128)               131200    \n",
            "_________________________________________________________________\n",
            "dense_41 (Dense)             (None, 128)               16512     \n",
            "_________________________________________________________________\n",
            "dense_42 (Dense)             (None, 128)               16512     \n",
            "_________________________________________________________________\n",
            "dense_43 (Dense)             (None, 10)                1290      \n",
            "=================================================================\n",
            "Total params: 165,514\n",
            "Trainable params: 165,514\n",
            "Non-trainable params: 0\n",
            "_________________________________________________________________\n"
          ],
          "name": "stdout"
        }
      ]
    },
    {
      "cell_type": "code",
      "metadata": {
        "ExecuteTime": {
          "end_time": "2020-05-05T12:18:08.469336Z",
          "start_time": "2020-05-05T12:17:15.899506Z"
        },
        "colab_type": "code",
        "hidden": true,
        "id": "G2mbLBkwVUgd",
        "outputId": "fd3c985d-4c05-498d-fdad-8f93da20dd5e",
        "colab": {
          "base_uri": "https://localhost:8080/",
          "height": 758
        }
      },
      "source": [
        "n_s = 1000000\n",
        "history_ovfit1 = history_ovfit = model.fit(X_train[:n_s],Y_train[:n_s], \n",
        "#                           validation_split=0.05,\n",
        "                          validation_data = (X_test, Y_test),\n",
        "                          epochs=20 , \n",
        "                          batch_size=256, \n",
        "                          verbose=0)\n",
        "\n",
        "# Plot training & validation accuracy values\n",
        "fig = plt.figure(figsize=(10,5))\n",
        "ax = fig.add_subplot(1,2,1, title = 'Model accuracy', ylabel= 'Accuracy')\n",
        "plt.plot(history_ovfit1.history['accuracy'])\n",
        "plt.plot(history_ovfit1.history['val_accuracy'])\n",
        "plt.legend(['Train', 'Test'], loc='upper left')\n",
        "\n",
        "# Plot training & validation loss values\n",
        "ax = fig.add_subplot(1,2,2, title = 'Model loss', ylabel= 'Loss')\n",
        "plt.plot(history_ovfit1.history['loss'])\n",
        "plt.plot(history_ovfit1.history['val_loss'])\n",
        "plt.legend(['Train', 'Test'], loc='upper left')\n",
        "\n",
        "plt.tight_layout()\n",
        "plt.show()"
      ],
      "execution_count": 0,
      "outputs": [
        {
          "output_type": "display_data",
          "data": {
            "image/png": "[encoded data removed]",
            "text/plain": [
              "<Figure size 720x360 with 2 Axes>"
            ]
          },
          "metadata": {
            "tags": [],
            "needs_background": "light"
          }
        }
      ]
    },
    {
      "cell_type": "code",
      "metadata": {
        "ExecuteTime": {
          "end_time": "2020-05-05T12:14:01.706395Z",
          "start_time": "2020-05-05T12:13:38.997520Z"
        },
        "colab_type": "code",
        "hidden": true,
        "id": "ytDhXBtkVo-1",
        "outputId": "ebdd2fc9-ccb7-470d-9d51-110802016a7d",
        "colab": {
          "base_uri": "https://localhost:8080/",
          "height": 758
        }
      },
      "source": [
        "model_ovfit2 = keras.Sequential([\n",
        "    keras.layers.Flatten(input_shape=(32, 32)),    \n",
        "    keras.layers.Dense(128,activation=tf.nn.relu ),\n",
        "    keras.layers.Dropout(0.5),\n",
        "    keras.layers.Dense(128,activation=tf.nn.relu ),\n",
        "    keras.layers.Dropout(0.5),\n",
        "    keras.layers.Dense(128,activation=tf.nn.relu ),\n",
        "    keras.layers.Dropout(0.5),\n",
        "    keras.layers.Dense(10, activation=tf.nn.softmax)\n",
        "])\n",
        "\n",
        "\n",
        "model_ovfit2.compile(optimizer='adam', \n",
        "              loss='categorical_crossentropy',\n",
        "              metrics=['accuracy'])\n",
        "\n",
        "\n",
        "history_ovfit2 = model_ovfit2.fit(X_train[:n_s],Y_train[:n_s], \n",
        "                                  validation_data = (X_test, Y_test),\n",
        "#                                   validation_split=0.05, \n",
        "                                  epochs=20 , \n",
        "                                  batch_size=256, verbose=1)\n",
        "\n",
        "# Plot training & validation accuracy values\n",
        "fig = plt.figure(figsize=(10,5))\n",
        "ax = fig.add_subplot(1,2,1, title = 'Model accuracy', ylabel= 'Accuracy')\n",
        "plt.plot(history_ovfit2.history['accuracy'])\n",
        "plt.plot(history_ovfit2.history['val_accuracy'])\n",
        "plt.legend(['Train', 'Test'], loc='upper left')\n",
        "\n",
        "# Plot training & validation loss values\n",
        "ax = fig.add_subplot(1,2,2, title = 'Model loss', ylabel= 'Loss')\n",
        "plt.plot(history_ovfit2.history['loss'])\n",
        "plt.plot(history_ovfit2.history['val_loss'])\n",
        "plt.legend(['Train', 'Test'], loc='upper left')\n",
        "\n",
        "plt.tight_layout()\n",
        "plt.show()"
      ],
      "execution_count": 0,
      "outputs": [
        {
          "output_type": "stream",
          "text": [
            "Train on 10000 samples, validate on 25588 samples\n",
            "Epoch 1/20\n",
            "10000/10000 [==============================] - 2s 236us/sample - loss: 1.8359 - accuracy: 0.3484 - val_loss: 0.7569 - val_accuracy: 0.7778\n",
            "Epoch 2/20\n",
            "10000/10000 [==============================] - 1s 93us/sample - loss: 0.8987 - accuracy: 0.6955 - val_loss: 0.3726 - val_accuracy: 0.8953\n",
            "Epoch 3/20\n",
            "10000/10000 [==============================] - 1s 92us/sample - loss: 0.5750 - accuracy: 0.8193 - val_loss: 0.2642 - val_accuracy: 0.9175\n",
            "Epoch 4/20\n",
            "10000/10000 [==============================] - 1s 94us/sample - loss: 0.4461 - accuracy: 0.8654 - val_loss: 0.2237 - val_accuracy: 0.9327\n",
            "Epoch 5/20\n",
            "10000/10000 [==============================] - 1s 94us/sample - loss: 0.3611 - accuracy: 0.8942 - val_loss: 0.2062 - val_accuracy: 0.9388\n",
            "Epoch 6/20\n",
            "10000/10000 [==============================] - 1s 92us/sample - loss: 0.3220 - accuracy: 0.9049 - val_loss: 0.1902 - val_accuracy: 0.9440\n",
            "Epoch 7/20\n",
            "10000/10000 [==============================] - 1s 93us/sample - loss: 0.2882 - accuracy: 0.9196 - val_loss: 0.1794 - val_accuracy: 0.9481\n",
            "Epoch 8/20\n",
            "10000/10000 [==============================] - 1s 92us/sample - loss: 0.2497 - accuracy: 0.9274 - val_loss: 0.1680 - val_accuracy: 0.9542\n",
            "Epoch 9/20\n",
            "10000/10000 [==============================] - 1s 92us/sample - loss: 0.2315 - accuracy: 0.9333 - val_loss: 0.1620 - val_accuracy: 0.9552\n",
            "Epoch 10/20\n",
            "10000/10000 [==============================] - 1s 118us/sample - loss: 0.2093 - accuracy: 0.9406 - val_loss: 0.1633 - val_accuracy: 0.9544\n",
            "Epoch 11/20\n",
            "10000/10000 [==============================] - 1s 100us/sample - loss: 0.1957 - accuracy: 0.9399 - val_loss: 0.1527 - val_accuracy: 0.9584\n",
            "Epoch 12/20\n",
            "10000/10000 [==============================] - 1s 89us/sample - loss: 0.1748 - accuracy: 0.9502 - val_loss: 0.1586 - val_accuracy: 0.9586\n",
            "Epoch 13/20\n",
            "10000/10000 [==============================] - 1s 89us/sample - loss: 0.1700 - accuracy: 0.9502 - val_loss: 0.1526 - val_accuracy: 0.9603\n",
            "Epoch 14/20\n",
            "10000/10000 [==============================] - 1s 88us/sample - loss: 0.1673 - accuracy: 0.9522 - val_loss: 0.1498 - val_accuracy: 0.9617\n",
            "Epoch 15/20\n",
            "10000/10000 [==============================] - 1s 96us/sample - loss: 0.1500 - accuracy: 0.9578 - val_loss: 0.1542 - val_accuracy: 0.9613\n",
            "Epoch 16/20\n",
            "10000/10000 [==============================] - 1s 91us/sample - loss: 0.1468 - accuracy: 0.9588 - val_loss: 0.1533 - val_accuracy: 0.9633\n",
            "Epoch 17/20\n",
            "10000/10000 [==============================] - 1s 95us/sample - loss: 0.1333 - accuracy: 0.9591 - val_loss: 0.1611 - val_accuracy: 0.9612\n",
            "Epoch 18/20\n",
            "10000/10000 [==============================] - 1s 91us/sample - loss: 0.1274 - accuracy: 0.9639 - val_loss: 0.1502 - val_accuracy: 0.9639\n",
            "Epoch 19/20\n",
            "10000/10000 [==============================] - 1s 101us/sample - loss: 0.1209 - accuracy: 0.9640 - val_loss: 0.1485 - val_accuracy: 0.9644\n",
            "Epoch 20/20\n",
            "10000/10000 [==============================] - 1s 95us/sample - loss: 0.1163 - accuracy: 0.9679 - val_loss: 0.1530 - val_accuracy: 0.9641\n"
          ],
          "name": "stdout"
        },
        {
          "output_type": "display_data",
          "data": {
            "image/png": "[encoded data removed]",
            "text/plain": [
              "<Figure size 720x360 with 2 Axes>"
            ]
          },
          "metadata": {
            "tags": [],
            "needs_background": "light"
          }
        }
      ]
    },
    {
      "cell_type": "markdown",
      "metadata": {
        "colab_type": "text",
        "id": "VwbHxmuD6NM0"
      },
      "source": [
        "## Play with these models"
      ]
    },
    {
      "cell_type": "markdown",
      "metadata": {
        "colab_type": "text",
        "heading_collapsed": true,
        "id": "P8vK4_a66NM0"
      },
      "source": [
        "## Full Pipeline"
      ]
    },
    {
      "cell_type": "markdown",
      "metadata": {
        "colab_type": "text",
        "hidden": true,
        "id": "mFU6_7y_6NM1"
      },
      "source": [
        "-- Preparing the dta\n",
        "\n",
        "-- Cross-validation \n",
        "\n",
        "-- Parameter tuning \n",
        "\n",
        "-- "
      ]
    },
    {
      "cell_type": "code",
      "metadata": {
        "ExecuteTime": {
          "end_time": "2020-05-05T11:47:41.623297Z",
          "start_time": "2020-05-05T11:47:25.185Z"
        },
        "colab_type": "code",
        "hidden": true,
        "id": "pj648Rn26NM1",
        "init_cell": true,
        "colab": {}
      },
      "source": [
        "from tensorflow.keras.wrappers.scikit_learn import KerasClassifier\n",
        "from sklearn.model_selection import StratifiedKFold\n",
        "from sklearn.model_selection import cross_val_score"
      ],
      "execution_count": 0,
      "outputs": []
    },
    {
      "cell_type": "code",
      "metadata": {
        "ExecuteTime": {
          "end_time": "2020-05-05T04:06:54.097523Z",
          "start_time": "2020-05-05T04:06:54.087520Z"
        },
        "colab_type": "code",
        "hidden": true,
        "id": "Qt50--ib6NM4",
        "colab": {}
      },
      "source": [
        "def model_fn():\n",
        "    model = keras.Sequential([\n",
        "    keras.layers.Flatten(input_shape=(32, 32)),    \n",
        "    keras.layers.Dense(128,activation=tf.nn.relu, kernel_regularizer=keras.regularizers.l2(0.1) ),\n",
        "    keras.layers.Dense(128,activation=tf.nn.relu, kernel_regularizer=keras.regularizers.l2(0.1)),\n",
        "    keras.layers.Dense(128,activation=tf.nn.relu, kernel_regularizer=keras.regularizers.l2(0.1)),\n",
        "    keras.layers.Dense(10, activation=tf.nn.softmax)\n",
        "        ])\n",
        "    model.compile(loss='sparse_categorical_crossentropy', optimizer='adam', metrics=['accuracy'])\n",
        "\n",
        "    return model"
      ],
      "execution_count": 0,
      "outputs": []
    },
    {
      "cell_type": "code",
      "metadata": {
        "ExecuteTime": {
          "end_time": "2020-05-05T04:16:12.521139Z",
          "start_time": "2020-05-05T04:15:36.042575Z"
        },
        "colab_type": "code",
        "hidden": true,
        "id": "LIYnElae6NM6",
        "colab": {}
      },
      "source": [
        "epch = 10\n",
        "batch_sz = 500\n",
        "\n",
        "from sklearn.model_selection import KFold\n",
        "n_folds = 3\n",
        "kf = KFold(n_splits=n_folds, shuffle=True)\n",
        "\n",
        "\n",
        "loss = []\n",
        "acc = []\n",
        "val_loss = []\n",
        "val_acc = []\n",
        "\n",
        "# cross validate:\n",
        "for train_index, val_index in kf.split(X):\n",
        "    model = model_fn()\n",
        "    hist = model.fit(X[train_index], Y[train_index],\n",
        "                     epochs=epch,\n",
        "                     batch_size=500,\n",
        "                     validation_data = (X[val_index], Y[val_index]),\n",
        "                     verbose=0)\n",
        "    loss.append(hist.history['loss'])\n",
        "    acc.append(hist.history['accuracy'])\n",
        "    val_loss.append([hist.history['val_loss']])\n",
        "    val_acc.append(hist.history['val_accuracy'])\n",
        "    \n",
        "loss = np.array(loss).reshape(n_folds, epch )    \n",
        "acc = np.array(acc).reshape(n_folds, epch )       \n",
        "val_loss = np.array(val_loss).reshape(n_folds, epch )      \n",
        "val_acc  = np.array(val_acc).reshape(n_folds, epch )       "
      ],
      "execution_count": 0,
      "outputs": []
    },
    {
      "cell_type": "code",
      "metadata": {
        "ExecuteTime": {
          "end_time": "2020-05-05T04:21:01.248603Z",
          "start_time": "2020-05-05T04:21:01.086563Z"
        },
        "colab_type": "code",
        "hidden": true,
        "id": "DthArtMj6NM8",
        "outputId": "13ec79e2-a7b9-4244-cd02-452653d56cf7",
        "colab": {}
      },
      "source": [
        "loss_m = loss.mean(axis=0)\n",
        "loss_s = loss.var(axis=0)\n",
        "\n",
        "\n",
        "val_loss_m = val_loss.mean(axis=0)\n",
        "val_loss_s = val_loss.var(axis=0)\n",
        "\n",
        "plt.plot(loss_m, label = 'Training')\n",
        "plt.fill_between(range(len(loss_m)),loss_m-loss_s/2, loss_m+loss_s/2)\n",
        "plt.plot(val_loss_m, label = 'Validation')\n",
        "plt.fill_between(range(len(loss_m)),val_loss_m-loss_s/2, val_loss_m+loss_s/2)\n",
        "plt.legend(loc=0)\n",
        "plt.show()"
      ],
      "execution_count": 0,
      "outputs": [
        {
          "output_type": "display_data",
          "data": {
            "image/png": "[encoded data removed]",
            "text/plain": [
              "<Figure size 748.8x514.8 with 1 Axes>"
            ]
          },
          "metadata": {
            "tags": [],
            "needs_background": "light"
          }
        }
      ]
    },
    {
      "cell_type": "code",
      "metadata": {
        "ExecuteTime": {
          "end_time": "2020-05-04T18:00:31.915530Z",
          "start_time": "2020-05-04T17:51:58.408057Z"
        },
        "colab_type": "code",
        "hidden": true,
        "id": "I2rhLAAY6NM_",
        "outputId": "d2437ba0-a8d0-4f10-85b9-248ddcab2fa5",
        "colab": {}
      },
      "source": [
        "ks_model = KerasClassifier(build_fn=model_fn, epochs=10, batch_size=500, verbose=1)\n",
        "# evaluate using 10-fold cross validation\n",
        "kfold = StratifiedKFold(n_splits=10, shuffle=True, random_state=0)\n",
        "results = cross_val_score(ks_model, X, Y, cv=kfold)\n",
        "print(results.mean())"
      ],
      "execution_count": 0,
      "outputs": [
        {
          "output_type": "stream",
          "text": [
            "Train on 92116 samples\n",
            "Epoch 1/10\n",
            "92116/92116 [==============================] - 8s 84us/sample - loss: 3.1624 - accuracy: 0.8503\n",
            "Epoch 2/10\n",
            "92116/92116 [==============================] - 7s 72us/sample - loss: 1.0461 - accuracy: 0.8778\n",
            "Epoch 3/10\n",
            "92116/92116 [==============================] - 7s 72us/sample - loss: 0.9377 - accuracy: 0.8873\n",
            "Epoch 4/10\n",
            "92116/92116 [==============================] - 7s 73us/sample - loss: 0.8698 - accuracy: 0.8949\n",
            "Epoch 5/10\n",
            "92116/92116 [==============================] - 7s 73us/sample - loss: 0.8269 - accuracy: 0.8990\n",
            "Epoch 6/10\n",
            "92116/92116 [==============================] - 7s 72us/sample - loss: 0.7911 - accuracy: 0.9015\n",
            "Epoch 7/10\n",
            "92116/92116 [==============================] - 7s 73us/sample - loss: 0.7632 - accuracy: 0.9046\n",
            "Epoch 8/10\n",
            "92116/92116 [==============================] - 7s 73us/sample - loss: 0.7417 - accuracy: 0.9064\n",
            "Epoch 9/10\n",
            "92116/92116 [==============================] - 7s 73us/sample - loss: 0.7218 - accuracy: 0.9091\n",
            "Epoch 10/10\n",
            "92116/92116 [==============================] - 7s 77us/sample - loss: 0.7066 - accuracy: 0.9095\n",
            "10236/10236 [==============================] - 1s 81us/sample - loss: 0.7163 - accuracy: 0.9002\n",
            "Train on 92116 samples\n",
            "Epoch 1/10\n",
            "92116/92116 [==============================] - 8s 85us/sample - loss: 3.1496 - accuracy: 0.8400\n",
            "Epoch 2/10\n",
            "92116/92116 [==============================] - 7s 74us/sample - loss: 1.0397 - accuracy: 0.8665\n",
            "Epoch 3/10\n",
            "92116/92116 [==============================] - 7s 75us/sample - loss: 0.9370 - accuracy: 0.8747\n",
            "Epoch 4/10\n",
            "92116/92116 [==============================] - 7s 76us/sample - loss: 0.8770 - accuracy: 0.8818\n",
            "Epoch 5/10\n",
            "92116/92116 [==============================] - 7s 74us/sample - loss: 0.8340 - accuracy: 0.8858\n",
            "Epoch 6/10\n",
            "92116/92116 [==============================] - 7s 75us/sample - loss: 0.8036 - accuracy: 0.8910\n",
            "Epoch 7/10\n",
            "92116/92116 [==============================] - 7s 75us/sample - loss: 0.7743 - accuracy: 0.8962\n",
            "Epoch 8/10\n",
            "92116/92116 [==============================] - 7s 76us/sample - loss: 0.7512 - accuracy: 0.9002\n",
            "Epoch 9/10\n",
            "92116/92116 [==============================] - 7s 76us/sample - loss: 0.7342 - accuracy: 0.9022\n",
            "Epoch 10/10\n",
            "92116/92116 [==============================] - 7s 75us/sample - loss: 0.7170 - accuracy: 0.9047\n",
            "10236/10236 [==============================] - 1s 86us/sample - loss: 0.7166 - accuracy: 0.9031\n",
            "Train on 92117 samples\n",
            "Epoch 1/10\n",
            "92117/92117 [==============================] - 8s 82us/sample - loss: 3.1342 - accuracy: 0.8388\n",
            "Epoch 2/10\n",
            "92117/92117 [==============================] - 7s 76us/sample - loss: 1.0373 - accuracy: 0.8661\n",
            "Epoch 3/10\n",
            "92117/92117 [==============================] - 7s 76us/sample - loss: 0.9338 - accuracy: 0.8768\n",
            "Epoch 4/10\n",
            "92117/92117 [==============================] - 7s 77us/sample - loss: 0.8750 - accuracy: 0.8829\n",
            "Epoch 5/10\n",
            "92117/92117 [==============================] - 7s 76us/sample - loss: 0.8311 - accuracy: 0.8882\n",
            "Epoch 6/10\n",
            "92117/92117 [==============================] - 8s 84us/sample - loss: 0.8026 - accuracy: 0.8917\n",
            "Epoch 7/10\n",
            "92117/92117 [==============================] - 5s 55us/sample - loss: 0.7739 - accuracy: 0.8961\n",
            "Epoch 8/10\n",
            "92117/92117 [==============================] - 4s 41us/sample - loss: 0.7567 - accuracy: 0.8972\n",
            "Epoch 9/10\n",
            "92117/92117 [==============================] - 4s 40us/sample - loss: 0.7371 - accuracy: 0.9009\n",
            "Epoch 10/10\n",
            "92117/92117 [==============================] - 3s 37us/sample - loss: 0.7223 - accuracy: 0.9031\n",
            "10235/10235 [==============================] - 0s 36us/sample - loss: 0.7188 - accuracy: 0.9085\n",
            "Train on 92117 samples\n",
            "Epoch 1/10\n",
            "92117/92117 [==============================] - 4s 41us/sample - loss: 3.1543 - accuracy: 0.8451\n",
            "Epoch 2/10\n",
            "92117/92117 [==============================] - 3s 36us/sample - loss: 1.0348 - accuracy: 0.8705\n",
            "Epoch 3/10\n",
            "92117/92117 [==============================] - 3s 37us/sample - loss: 0.9268 - accuracy: 0.8790\n",
            "Epoch 4/10\n",
            "92117/92117 [==============================] - 3s 37us/sample - loss: 0.8692 - accuracy: 0.8839\n",
            "Epoch 5/10\n",
            "92117/92117 [==============================] - 3s 38us/sample - loss: 0.8260 - accuracy: 0.8889\n",
            "Epoch 6/10\n",
            "92117/92117 [==============================] - 3s 37us/sample - loss: 0.7939 - accuracy: 0.8924\n",
            "Epoch 7/10\n",
            "92117/92117 [==============================] - 3s 37us/sample - loss: 0.7652 - accuracy: 0.8972\n",
            "Epoch 8/10\n",
            "92117/92117 [==============================] - 3s 37us/sample - loss: 0.7484 - accuracy: 0.8993\n",
            "Epoch 9/10\n",
            "92117/92117 [==============================] - 3s 37us/sample - loss: 0.7296 - accuracy: 0.9010\n",
            "Epoch 10/10\n",
            "92117/92117 [==============================] - 4s 40us/sample - loss: 0.7149 - accuracy: 0.9024\n",
            "10235/10235 [==============================] - 0s 44us/sample - loss: 0.7125 - accuracy: 0.9031\n",
            "Train on 92117 samples\n",
            "Epoch 1/10\n",
            "92117/92117 [==============================] - 5s 54us/sample - loss: 3.1464 - accuracy: 0.8490\n",
            "Epoch 2/10\n",
            "92117/92117 [==============================] - 4s 45us/sample - loss: 1.0360 - accuracy: 0.8810\n",
            "Epoch 3/10\n",
            "92117/92117 [==============================] - 4s 45us/sample - loss: 0.9290 - accuracy: 0.8885\n",
            "Epoch 4/10\n",
            "92117/92117 [==============================] - 4s 45us/sample - loss: 0.8620 - accuracy: 0.8954\n",
            "Epoch 5/10\n",
            "92117/92117 [==============================] - 4s 46us/sample - loss: 0.8177 - accuracy: 0.8992\n",
            "Epoch 6/10\n",
            "92117/92117 [==============================] - 4s 45us/sample - loss: 0.7832 - accuracy: 0.9018\n",
            "Epoch 7/10\n",
            "92117/92117 [==============================] - 4s 45us/sample - loss: 0.7564 - accuracy: 0.9053\n",
            "Epoch 8/10\n",
            "92117/92117 [==============================] - 4s 46us/sample - loss: 0.7337 - accuracy: 0.9066\n",
            "Epoch 9/10\n",
            "92117/92117 [==============================] - 4s 46us/sample - loss: 0.7150 - accuracy: 0.9083\n",
            "Epoch 10/10\n",
            "92117/92117 [==============================] - 4s 46us/sample - loss: 0.7000 - accuracy: 0.9104\n",
            "10235/10235 [==============================] - 0s 45us/sample - loss: 0.6891 - accuracy: 0.9065\n",
            "Train on 92117 samples\n",
            "Epoch 1/10\n",
            "92117/92117 [==============================] - 5s 51us/sample - loss: 3.1189 - accuracy: 0.8505\n",
            "Epoch 2/10\n",
            "92117/92117 [==============================] - 4s 48us/sample - loss: 1.0351 - accuracy: 0.8741\n",
            "Epoch 3/10\n",
            "92117/92117 [==============================] - 4s 48us/sample - loss: 0.9254 - accuracy: 0.8797\n",
            "Epoch 4/10\n",
            "92117/92117 [==============================] - 4s 48us/sample - loss: 0.8676 - accuracy: 0.8848\n",
            "Epoch 5/10\n",
            "92117/92117 [==============================] - 4s 49us/sample - loss: 0.8249 - accuracy: 0.8898\n",
            "Epoch 6/10\n",
            "92117/92117 [==============================] - 5s 49us/sample - loss: 0.7917 - accuracy: 0.8936\n",
            "Epoch 7/10\n",
            "92117/92117 [==============================] - 4s 49us/sample - loss: 0.7679 - accuracy: 0.8959\n",
            "Epoch 8/10\n",
            "92117/92117 [==============================] - 5s 51us/sample - loss: 0.7466 - accuracy: 0.8994\n",
            "Epoch 9/10\n",
            "92117/92117 [==============================] - 5s 51us/sample - loss: 0.7299 - accuracy: 0.9016\n",
            "Epoch 10/10\n",
            "92117/92117 [==============================] - 5s 51us/sample - loss: 0.7175 - accuracy: 0.9033\n",
            "10235/10235 [==============================] - 1s 49us/sample - loss: 0.7009 - accuracy: 0.9024\n",
            "Train on 92117 samples\n",
            "Epoch 1/10\n",
            "92117/92117 [==============================] - 5s 57us/sample - loss: 3.1473 - accuracy: 0.8492\n",
            "Epoch 2/10\n",
            "92117/92117 [==============================] - 5s 52us/sample - loss: 1.0356 - accuracy: 0.8800\n",
            "Epoch 3/10\n",
            "92117/92117 [==============================] - 5s 53us/sample - loss: 0.9269 - accuracy: 0.8894\n",
            "Epoch 4/10\n",
            "92117/92117 [==============================] - 5s 54us/sample - loss: 0.8647 - accuracy: 0.8942\n",
            "Epoch 5/10\n",
            "92117/92117 [==============================] - 5s 55us/sample - loss: 0.8179 - accuracy: 0.8992\n",
            "Epoch 6/10\n",
            "92117/92117 [==============================] - 5s 54us/sample - loss: 0.7856 - accuracy: 0.9015\n",
            "Epoch 7/10\n",
            "92117/92117 [==============================] - 5s 54us/sample - loss: 0.7591 - accuracy: 0.9046\n",
            "Epoch 8/10\n",
            "92117/92117 [==============================] - 5s 58us/sample - loss: 0.7370 - accuracy: 0.9065\n",
            "Epoch 9/10\n",
            "92117/92117 [==============================] - 5s 55us/sample - loss: 0.7194 - accuracy: 0.9087\n",
            "Epoch 10/10\n",
            "92117/92117 [==============================] - 4s 49us/sample - loss: 0.7025 - accuracy: 0.9110\n",
            "10235/10235 [==============================] - 1s 54us/sample - loss: 0.6939 - accuracy: 0.9085\n",
            "Train on 92117 samples\n",
            "Epoch 1/10\n",
            "92117/92117 [==============================] - 6s 61us/sample - loss: 3.1558 - accuracy: 0.8384\n",
            "Epoch 2/10\n",
            "92117/92117 [==============================] - 4s 47us/sample - loss: 1.0299 - accuracy: 0.8679\n",
            "Epoch 3/10\n",
            "92117/92117 [==============================] - 4s 46us/sample - loss: 0.9311 - accuracy: 0.8761\n",
            "Epoch 4/10\n",
            "92117/92117 [==============================] - 4s 46us/sample - loss: 0.8695 - accuracy: 0.8826\n",
            "Epoch 5/10\n",
            "92117/92117 [==============================] - 4s 47us/sample - loss: 0.8295 - accuracy: 0.8864\n",
            "Epoch 6/10\n",
            "92117/92117 [==============================] - 4s 47us/sample - loss: 0.7966 - accuracy: 0.8898\n",
            "Epoch 7/10\n",
            "92117/92117 [==============================] - 4s 47us/sample - loss: 0.7700 - accuracy: 0.8955\n",
            "Epoch 8/10\n",
            "92117/92117 [==============================] - 4s 46us/sample - loss: 0.7523 - accuracy: 0.8992\n",
            "Epoch 9/10\n",
            "92117/92117 [==============================] - 4s 47us/sample - loss: 0.7321 - accuracy: 0.9016\n",
            "Epoch 10/10\n",
            "92117/92117 [==============================] - 4s 46us/sample - loss: 0.7168 - accuracy: 0.9044\n",
            "10235/10235 [==============================] - 0s 46us/sample - loss: 0.7279 - accuracy: 0.8990\n",
            "Train on 92117 samples\n",
            "Epoch 1/10\n",
            "92117/92117 [==============================] - 5s 51us/sample - loss: 3.1778 - accuracy: 0.8392\n",
            "Epoch 2/10\n",
            "92117/92117 [==============================] - 4s 46us/sample - loss: 1.0446 - accuracy: 0.8670\n",
            "Epoch 3/10\n",
            "92117/92117 [==============================] - 4s 48us/sample - loss: 0.9399 - accuracy: 0.8759\n",
            "Epoch 4/10\n",
            "92117/92117 [==============================] - 4s 46us/sample - loss: 0.8773 - accuracy: 0.8804\n",
            "Epoch 5/10\n",
            "92117/92117 [==============================] - 4s 47us/sample - loss: 0.8393 - accuracy: 0.8842\n",
            "Epoch 6/10\n",
            "92117/92117 [==============================] - 4s 46us/sample - loss: 0.8061 - accuracy: 0.8888\n",
            "Epoch 7/10\n",
            "92117/92117 [==============================] - 4s 47us/sample - loss: 0.7791 - accuracy: 0.8935\n",
            "Epoch 8/10\n",
            "92117/92117 [==============================] - 4s 47us/sample - loss: 0.7583 - accuracy: 0.8966\n",
            "Epoch 9/10\n",
            "92117/92117 [==============================] - 4s 46us/sample - loss: 0.7409 - accuracy: 0.8995\n",
            "Epoch 10/10\n",
            "92117/92117 [==============================] - 4s 47us/sample - loss: 0.7225 - accuracy: 0.9038\n",
            "10235/10235 [==============================] - 0s 47us/sample - loss: 0.7348 - accuracy: 0.8989\n",
            "Train on 92117 samples\n",
            "Epoch 1/10\n",
            "92117/92117 [==============================] - 5s 51us/sample - loss: 3.1421 - accuracy: 0.8387\n",
            "Epoch 2/10\n",
            "92117/92117 [==============================] - 4s 47us/sample - loss: 1.0361 - accuracy: 0.8672\n",
            "Epoch 3/10\n",
            "92117/92117 [==============================] - 4s 47us/sample - loss: 0.9364 - accuracy: 0.8744\n",
            "Epoch 4/10\n",
            "92117/92117 [==============================] - 4s 47us/sample - loss: 0.8754 - accuracy: 0.8811\n",
            "Epoch 5/10\n",
            "92117/92117 [==============================] - 4s 47us/sample - loss: 0.8316 - accuracy: 0.8879\n",
            "Epoch 6/10\n",
            "92117/92117 [==============================] - 4s 47us/sample - loss: 0.8006 - accuracy: 0.8915\n",
            "Epoch 7/10\n",
            "92117/92117 [==============================] - 4s 47us/sample - loss: 0.7743 - accuracy: 0.8946\n",
            "Epoch 8/10\n",
            "92117/92117 [==============================] - 4s 47us/sample - loss: 0.7534 - accuracy: 0.8981\n",
            "Epoch 9/10\n",
            "92117/92117 [==============================] - 4s 47us/sample - loss: 0.7362 - accuracy: 0.9010\n",
            "Epoch 10/10\n",
            "92117/92117 [==============================] - 4s 47us/sample - loss: 0.7182 - accuracy: 0.9042\n",
            "10235/10235 [==============================] - 0s 46us/sample - loss: 0.7063 - accuracy: 0.9101\n",
            "0.9040273249149322\n"
          ],
          "name": "stdout"
        }
      ]
    },
    {
      "cell_type": "code",
      "metadata": {
        "ExecuteTime": {
          "end_time": "2020-05-05T01:27:06.263868Z",
          "start_time": "2020-05-05T01:27:06.256867Z"
        },
        "colab_type": "code",
        "hidden": true,
        "id": "deo1n1Ht6NNA",
        "colab": {}
      },
      "source": [
        "from keras.callbacks import EarlyStopping, ModelCheckpoint, CSVLogger\n",
        "\n",
        "csv_logger = CSVLogger('training.log', append=True)\n",
        "calls=[csv_logger, EarlyStopping(monitor='acc', patience=10), ModelCheckpoint('model_log', monitor='acc', save_best_only=True, mode='auto', period=1)]\n"
      ],
      "execution_count": 0,
      "outputs": []
    },
    {
      "cell_type": "code",
      "metadata": {
        "ExecuteTime": {
          "end_time": "2020-05-05T01:28:02.810941Z",
          "start_time": "2020-05-05T01:27:38.679688Z"
        },
        "colab_type": "code",
        "hidden": true,
        "id": "GCv2K_up6NNC",
        "outputId": "c0df84d0-f323-4030-9a21-d60ac11ba1bf",
        "colab": {}
      },
      "source": [
        "ks_model = KerasClassifier(build_fn=model_fn, epochs=10, batch_size=500, verbose=0  )\n",
        "# evaluate using 10-fold cross validation\n",
        "kfold = StratifiedKFold(n_splits=3, shuffle=True, random_state=0 )\n",
        "results = cross_val_score(ks_model, X, Y, cv=kfold,\n",
        "                      fit_params = {'callbacks': [csv_logger, history_logger]})\n",
        "print(results.mean())\n"
      ],
      "execution_count": 0,
      "outputs": [
        {
          "output_type": "stream",
          "text": [
            "0.8827282786369324\n"
          ],
          "name": "stdout"
        }
      ]
    },
    {
      "cell_type": "code",
      "metadata": {
        "ExecuteTime": {
          "end_time": "2020-05-05T01:28:18.736188Z",
          "start_time": "2020-05-05T01:28:18.708073Z"
        },
        "colab_type": "code",
        "hidden": true,
        "id": "uyLEhShY6NND",
        "outputId": "db736b49-c347-495e-f9c5-c9252a903e60",
        "colab": {}
      },
      "source": [
        "import pandas as pd\n",
        "df = pd.read_csv('training.log')\n",
        "df.groupby('epoch').mean()"
      ],
      "execution_count": 0,
      "outputs": [
        {
          "output_type": "execute_result",
          "data": {
            "text/html": [
              "<div>\n",
              "<style scoped>\n",
              "    .dataframe tbody tr th:only-of-type {\n",
              "        vertical-align: middle;\n",
              "    }\n",
              "\n",
              "    .dataframe tbody tr th {\n",
              "        vertical-align: top;\n",
              "    }\n",
              "\n",
              "    .dataframe thead th {\n",
              "        text-align: right;\n",
              "    }\n",
              "</style>\n",
              "<table border=\"1\" class=\"dataframe\">\n",
              "  <thead>\n",
              "    <tr style=\"text-align: right;\">\n",
              "      <th></th>\n",
              "      <th>accuracy</th>\n",
              "      <th>loss</th>\n",
              "    </tr>\n",
              "    <tr>\n",
              "      <th>epoch</th>\n",
              "      <th></th>\n",
              "      <th></th>\n",
              "    </tr>\n",
              "  </thead>\n",
              "  <tbody>\n",
              "    <tr>\n",
              "      <th>0</th>\n",
              "      <td>0.791685</td>\n",
              "      <td>13.269427</td>\n",
              "    </tr>\n",
              "    <tr>\n",
              "      <th>1</th>\n",
              "      <td>0.865829</td>\n",
              "      <td>1.679507</td>\n",
              "    </tr>\n",
              "    <tr>\n",
              "      <th>2</th>\n",
              "      <td>0.871742</td>\n",
              "      <td>1.278126</td>\n",
              "    </tr>\n",
              "    <tr>\n",
              "      <th>3</th>\n",
              "      <td>0.875222</td>\n",
              "      <td>1.162926</td>\n",
              "    </tr>\n",
              "    <tr>\n",
              "      <th>4</th>\n",
              "      <td>0.877733</td>\n",
              "      <td>1.096090</td>\n",
              "    </tr>\n",
              "    <tr>\n",
              "      <th>5</th>\n",
              "      <td>0.879162</td>\n",
              "      <td>1.050194</td>\n",
              "    </tr>\n",
              "    <tr>\n",
              "      <th>6</th>\n",
              "      <td>0.881189</td>\n",
              "      <td>1.014766</td>\n",
              "    </tr>\n",
              "    <tr>\n",
              "      <th>7</th>\n",
              "      <td>0.883527</td>\n",
              "      <td>0.984274</td>\n",
              "    </tr>\n",
              "    <tr>\n",
              "      <th>8</th>\n",
              "      <td>0.884421</td>\n",
              "      <td>0.961510</td>\n",
              "    </tr>\n",
              "    <tr>\n",
              "      <th>9</th>\n",
              "      <td>0.885781</td>\n",
              "      <td>0.941192</td>\n",
              "    </tr>\n",
              "  </tbody>\n",
              "</table>\n",
              "</div>"
            ],
            "text/plain": [
              "       accuracy       loss\n",
              "epoch                     \n",
              "0      0.791685  13.269427\n",
              "1      0.865829   1.679507\n",
              "2      0.871742   1.278126\n",
              "3      0.875222   1.162926\n",
              "4      0.877733   1.096090\n",
              "5      0.879162   1.050194\n",
              "6      0.881189   1.014766\n",
              "7      0.883527   0.984274\n",
              "8      0.884421   0.961510\n",
              "9      0.885781   0.941192"
            ]
          },
          "metadata": {
            "tags": []
          },
          "execution_count": 94
        }
      ]
    },
    {
      "cell_type": "code",
      "metadata": {
        "ExecuteTime": {
          "end_time": "2020-05-05T01:28:20.445902Z",
          "start_time": "2020-05-05T01:28:20.248378Z"
        },
        "colab_type": "code",
        "hidden": true,
        "id": "IpgHf74L6NNG",
        "outputId": "87b6b7c7-1d6f-421d-9827-bb656972fe17",
        "colab": {}
      },
      "source": [
        "plt.plot(df.groupby('epoch').mean())"
      ],
      "execution_count": 0,
      "outputs": [
        {
          "output_type": "execute_result",
          "data": {
            "text/plain": [
              "[<matplotlib.lines.Line2D at 0x29d92a78208>,\n",
              " <matplotlib.lines.Line2D at 0x29d92a78550>]"
            ]
          },
          "metadata": {
            "tags": []
          },
          "execution_count": 95
        },
        {
          "output_type": "display_data",
          "data": {
            "image/png": "[encoded data removed]",
            "text/plain": [
              "<Figure size 748.8x514.8 with 1 Axes>"
            ]
          },
          "metadata": {
            "tags": [],
            "needs_background": "light"
          }
        }
      ]
    },
    {
      "cell_type": "markdown",
      "metadata": {
        "colab_type": "text",
        "heading_collapsed": true,
        "id": "S18FYblP6NNI"
      },
      "source": [
        "## Tuning"
      ]
    },
    {
      "cell_type": "code",
      "metadata": {
        "ExecuteTime": {
          "end_time": "2020-05-05T08:10:05.814848Z",
          "start_time": "2020-05-05T08:10:05.503260Z"
        },
        "colab_type": "code",
        "hidden": true,
        "id": "DtnAiqBx6NNK",
        "outputId": "7ee9690c-086a-400c-e7ec-b53e8da33a0f",
        "colab": {
          "base_uri": "https://localhost:8080/",
          "height": 357
        }
      },
      "source": [
        "def model_fn(dense_layer_sizes, regularizations, dropouts, lr=.1):\n",
        "    model = keras.Sequential() \n",
        "    \n",
        "    model.add(  keras.layers.Flatten(input_shape=(32, 32)) )\n",
        "    \n",
        "    for i in range( len(dense_layer_sizes )):\n",
        "        model.add( keras.layers.Dense( dense_layer_sizes[i], \n",
        "                                      activation=tf.nn.relu, \n",
        "                                      kernel_regularizer=keras.regularizers.l2(regularizations[i]) \n",
        "                                     ) )\n",
        "        model.add(keras.layers.Dropout( dropouts[i] ) )\n",
        "        \n",
        "       \n",
        "    model.add(keras.layers.Dense(10, activation=tf.nn.softmax))\n",
        "        \n",
        "    model.compile(loss='sparse_categorical_crossentropy', \n",
        "                  optimizer=keras.optimizers.Adam(learning_rate=lr), \n",
        "                  metrics=['accuracy'])\n",
        "    \n",
        "\n",
        "    return model\n",
        "\n",
        "mdl = model_fn([100, 30], [.001, .001], [.001, .001], .1)\n",
        "# mdl = model_fn([128], [.01], [.01])\n",
        "mdl.summary()"
      ],
      "execution_count": 0,
      "outputs": [
        {
          "output_type": "stream",
          "text": [
            "Model: \"sequential\"\n",
            "_________________________________________________________________\n",
            "Layer (type)                 Output Shape              Param #   \n",
            "=================================================================\n",
            "flatten (Flatten)            (None, 1024)              0         \n",
            "_________________________________________________________________\n",
            "dense (Dense)                (None, 100)               102500    \n",
            "_________________________________________________________________\n",
            "dropout (Dropout)            (None, 100)               0         \n",
            "_________________________________________________________________\n",
            "dense_1 (Dense)              (None, 30)                3030      \n",
            "_________________________________________________________________\n",
            "dropout_1 (Dropout)          (None, 30)                0         \n",
            "_________________________________________________________________\n",
            "dense_2 (Dense)              (None, 10)                310       \n",
            "=================================================================\n",
            "Total params: 105,840\n",
            "Trainable params: 105,840\n",
            "Non-trainable params: 0\n",
            "_________________________________________________________________\n"
          ],
          "name": "stdout"
        }
      ]
    },
    {
      "cell_type": "code",
      "metadata": {
        "colab_type": "code",
        "hidden": true,
        "id": "Be-I-Tae_8au",
        "outputId": "0ef3158b-6b46-46dd-a98a-d9e4b5ffabb3",
        "colab": {
          "base_uri": "https://localhost:8080/",
          "height": 289
        }
      },
      "source": [
        "def model_fn(dense_layer_sizes, lr=.1):\n",
        "    model = keras.Sequential() \n",
        "    \n",
        "    model.add(  keras.layers.Flatten(input_shape=(32, 32)) )\n",
        "    \n",
        "    for i in range( len(dense_layer_sizes )):\n",
        "        model.add( keras.layers.Dense( dense_layer_sizes[i], \n",
        "                                      activation=tf.nn.relu #, \n",
        "                                      # kernel_regularizer=keras.regularizers.l2(regularizations[i]) \n",
        "                                     ) )\n",
        "        # model.add(keras.layers.Dropout( dropouts[i] ) )\n",
        "        \n",
        "       \n",
        "    model.add(keras.layers.Dense(10, activation=tf.nn.softmax))\n",
        "        \n",
        "    model.compile(loss='sparse_categorical_crossentropy', \n",
        "                  optimizer=keras.optimizers.Adam(learning_rate=lr), \n",
        "                  metrics=['accuracy'])\n",
        "    \n",
        "\n",
        "    return model\n",
        "\n",
        "mdl = model_fn([100, 30], .1)\n",
        "# mdl = model_fn([128], [.01], [.01])\n",
        "mdl.summary()"
      ],
      "execution_count": 0,
      "outputs": [
        {
          "output_type": "stream",
          "text": [
            "Model: \"sequential_542\"\n",
            "_________________________________________________________________\n",
            "Layer (type)                 Output Shape              Param #   \n",
            "=================================================================\n",
            "flatten_542 (Flatten)        (None, 1024)              0         \n",
            "_________________________________________________________________\n",
            "dense_498 (Dense)            (None, 100)               102500    \n",
            "_________________________________________________________________\n",
            "dense_499 (Dense)            (None, 30)                3030      \n",
            "_________________________________________________________________\n",
            "dense_500 (Dense)            (None, 10)                310       \n",
            "=================================================================\n",
            "Total params: 105,840\n",
            "Trainable params: 105,840\n",
            "Non-trainable params: 0\n",
            "_________________________________________________________________\n"
          ],
          "name": "stdout"
        }
      ]
    },
    {
      "cell_type": "code",
      "metadata": {
        "ExecuteTime": {
          "end_time": "2020-05-05T07:58:30.095309Z",
          "start_time": "2020-05-05T07:58:25.423506Z"
        },
        "colab_type": "code",
        "hidden": true,
        "id": "54hdiyCJ6NNM",
        "outputId": "6bafa149-d850-4759-a0c6-254f45ef0c93",
        "colab": {
          "base_uri": "https://localhost:8080/",
          "height": 119
        }
      },
      "source": [
        "btch_size = 500\n",
        "epch = 3\n",
        "history = mdl.fit(X_train, Y_train, batch_size=btch_size, epochs=epch )"
      ],
      "execution_count": 0,
      "outputs": [
        {
          "output_type": "stream",
          "text": [
            "Epoch 1/3\n",
            "154/154 [==============================] - 1s 3ms/step - loss: 1.2398 - accuracy: 0.7664\n",
            "Epoch 2/3\n",
            "154/154 [==============================] - 1s 3ms/step - loss: 0.2321 - accuracy: 0.9404\n",
            "Epoch 3/3\n",
            "154/154 [==============================] - 1s 3ms/step - loss: 0.1877 - accuracy: 0.9542\n"
          ],
          "name": "stdout"
        }
      ]
    },
    {
      "cell_type": "code",
      "metadata": {
        "ExecuteTime": {
          "end_time": "2020-05-05T08:09:12.538655Z",
          "start_time": "2020-05-05T08:09:09.671588Z"
        },
        "colab_type": "code",
        "hidden": true,
        "id": "dsYdfxHU6NNN",
        "colab": {}
      },
      "source": [
        "# Grid search over these:\n",
        "dense_size_candidates = [(10, 40), (50) , (20) ]\n",
        "# regularizations_candidates = [ (.01), (.01), (.001) ]\n",
        "# dropouts_candidates = [  (.005), (.01), (.003) ]\n",
        "lr_candidates = [.1]\n",
        "# epch_list = [4, 10]\n",
        "batch_size_candidates = 500\n",
        "\n",
        "from tensorflow.keras.wrappers.scikit_learn import KerasClassifier\n",
        "from sklearn.model_selection import StratifiedKFold, cross_val_score, GridSearchCV\n",
        "# from sklearn.model_selection import \n",
        "\n",
        "gs_classifier = KerasClassifier(model_fn, batch_size=500, epochs=5)\n"
      ],
      "execution_count": 0,
      "outputs": []
    },
    {
      "cell_type": "code",
      "metadata": {
        "ExecuteTime": {
          "start_time": "2020-05-05T08:08:30.103Z"
        },
        "colab_type": "code",
        "hidden": true,
        "id": "wg2QxTSa6NNO",
        "outputId": "a8b302fc-296f-42ad-f07f-2b82b7e614f7",
        "colab": {
          "base_uri": "https://localhost:8080/",
          "height": 748
        }
      },
      "source": [
        "validator = GridSearchCV(gs_classifier,\n",
        "                         param_grid={'dense_layer_sizes': dense_size_candidates,\n",
        "                                     # epochs is avail for tuning even when not\n",
        "                                     # an argument to model building function\n",
        "                                     'epochs': [3],\n",
        "                                    #  'regularizations': regularizations_candidates,\n",
        "                                    #  'dropouts': dropouts_candidates,\n",
        "                                     'lr': lr_candidates},\n",
        "                         scoring='neg_log_loss',\n",
        "                         n_jobs= 1,  )\n",
        "validator.fit(X_train, Y_train)"
      ],
      "execution_count": 0,
      "outputs": [
        {
          "output_type": "stream",
          "text": [
            "Epoch 1/3\n",
            "123/123 [==============================] - 0s 3ms/step - loss: 1.6646 - accuracy: 0.3618\n",
            "Epoch 2/3\n",
            "123/123 [==============================] - 0s 3ms/step - loss: 1.2692 - accuracy: 0.4843\n",
            "Epoch 3/3\n",
            "123/123 [==============================] - 0s 3ms/step - loss: 1.1268 - accuracy: 0.5472\n",
            "Epoch 1/3\n",
            "123/123 [==============================] - 0s 4ms/step - loss: 1.6177 - accuracy: 0.3883\n",
            "Epoch 2/3\n",
            "123/123 [==============================] - 0s 3ms/step - loss: 1.0026 - accuracy: 0.5998\n",
            "Epoch 3/3\n",
            "123/123 [==============================] - 0s 3ms/step - loss: 0.8212 - accuracy: 0.6864\n",
            "Epoch 1/3\n",
            "123/123 [==============================] - 0s 3ms/step - loss: 1.5900 - accuracy: 0.3817\n",
            "Epoch 2/3\n",
            "123/123 [==============================] - 0s 3ms/step - loss: 1.1025 - accuracy: 0.5609\n",
            "Epoch 3/3\n",
            "123/123 [==============================] - 0s 3ms/step - loss: 0.9889 - accuracy: 0.6166\n",
            "Epoch 1/3\n",
            "123/123 [==============================] - 0s 3ms/step - loss: 1.7747 - accuracy: 0.3355\n",
            "Epoch 2/3\n",
            "123/123 [==============================] - 0s 3ms/step - loss: 1.3705 - accuracy: 0.4547\n",
            "Epoch 3/3\n",
            "123/123 [==============================] - 0s 3ms/step - loss: 1.0912 - accuracy: 0.5843\n",
            "Epoch 1/3\n",
            "123/123 [==============================] - 0s 3ms/step - loss: 2.1059 - accuracy: 0.2391\n",
            "Epoch 2/3\n",
            "123/123 [==============================] - 0s 3ms/step - loss: 1.3630 - accuracy: 0.4369\n",
            "Epoch 3/3\n",
            "123/123 [==============================] - 0s 3ms/step - loss: 1.1961 - accuracy: 0.5392\n",
            "Epoch 1/3\n",
            "154/154 [==============================] - 1s 3ms/step - loss: 1.0608 - accuracy: 0.5741\n",
            "Epoch 2/3\n",
            "154/154 [==============================] - 1s 4ms/step - loss: 0.8272 - accuracy: 0.6458\n",
            "Epoch 3/3\n",
            "154/154 [==============================] - 1s 3ms/step - loss: 0.7946 - accuracy: 0.6764\n"
          ],
          "name": "stdout"
        },
        {
          "output_type": "execute_result",
          "data": {
            "text/plain": [
              "GridSearchCV(cv=None, error_score=nan,\n",
              "             estimator=<tensorflow.python.keras.wrappers.scikit_learn.KerasClassifier object at 0x7f64972b7518>,\n",
              "             iid='deprecated', n_jobs=1,\n",
              "             param_grid={'dense_layer_sizes': [(10, 40), 50, 20], 'epochs': [3],\n",
              "                         'lr': [0.1]},\n",
              "             pre_dispatch='2*n_jobs', refit=True, return_train_score=False,\n",
              "             scoring='neg_log_loss', verbose=0)"
            ]
          },
          "metadata": {
            "tags": []
          },
          "execution_count": 26
        }
      ]
    },
    {
      "cell_type": "code",
      "metadata": {
        "colab_type": "code",
        "hidden": true,
        "id": "7Ukq727P6NNR",
        "outputId": "b565b98e-af4f-40d2-e60e-4d4584018eb3",
        "colab": {
          "base_uri": "https://localhost:8080/",
          "height": 51
        }
      },
      "source": [
        "print('The parameters of the best model are: ')\n",
        "print(validator.best_params_)\n",
        "\n",
        "# validator.best_estimator_ returns sklearn-wrapped version of best model.\n",
        "# validator.best_estimator_.model returns the (unwrapped) keras model\n",
        "best_model = validator.best_estimator_.model"
      ],
      "execution_count": 0,
      "outputs": [
        {
          "output_type": "stream",
          "text": [
            "The parameters of the best model are: \n",
            "{'dense_layer_sizes': (10, 40), 'epochs': 3, 'lr': 0.1}\n"
          ],
          "name": "stdout"
        }
      ]
    },
    {
      "cell_type": "code",
      "metadata": {
        "colab_type": "code",
        "hidden": true,
        "id": "YlFEcqM_6NNU",
        "outputId": "41d982e2-78e2-42d4-bbd6-caafba347beb",
        "colab": {
          "base_uri": "https://localhost:8080/",
          "height": 105
        }
      },
      "source": [
        "best_model.save('best_model')"
      ],
      "execution_count": 0,
      "outputs": [
        {
          "output_type": "stream",
          "text": [
            "WARNING:tensorflow:From /usr/local/lib/python3.6/dist-packages/tensorflow/python/ops/resource_variable_ops.py:1817: calling BaseResourceVariable.__init__ (from tensorflow.python.ops.resource_variable_ops) with constraint is deprecated and will be removed in a future version.\n",
            "Instructions for updating:\n",
            "If using Keras pass *_constraint arguments to layers.\n",
            "INFO:tensorflow:Assets written to: best_model/assets\n"
          ],
          "name": "stdout"
        }
      ]
    },
    {
      "cell_type": "code",
      "metadata": {
        "colab_type": "code",
        "hidden": true,
        "id": "PdbU4VR66NNW",
        "colab": {}
      },
      "source": [
        ""
      ],
      "execution_count": 0,
      "outputs": []
    },
    {
      "cell_type": "code",
      "metadata": {
        "colab_type": "code",
        "hidden": true,
        "id": "ZF--2cs16NNZ",
        "colab": {}
      },
      "source": [
        ""
      ],
      "execution_count": 0,
      "outputs": []
    },
    {
      "cell_type": "markdown",
      "metadata": {
        "colab_type": "text",
        "heading_collapsed": true,
        "id": "PvZd8dNkagLl"
      },
      "source": [
        "## Try this for the particle identification problem."
      ]
    },
    {
      "cell_type": "code",
      "metadata": {
        "colab_type": "code",
        "hidden": true,
        "id": "ipUS-xGwafLK",
        "outputId": "a1fde19e-511e-4dac-81d9-1b0c025ff322",
        "colab": {
          "base_uri": "https://localhost:8080/",
          "height": 204
        }
      },
      "source": [
        "import pandas as pd\n",
        "url = 'https://www.dropbox.com/s/66dbhxl93y41coe/particle-identification-from-detector-responses.zip?dl=1'\n",
        "s=requests.get(url, stream=True).content\n",
        "data=pd.read_csv(io.BytesIO(s) , compression='zip' )\n",
        " \n",
        "'''\n",
        "Alternatively, you can download the file into your computer and run the following code. \n",
        "You need to uncomment it first. \n",
        "'''    \n",
        "\n",
        "# data = pd.read_csv('particle-identification-from-detector-responses.zip', compression='zip')\n",
        "data.head()"
      ],
      "execution_count": 36,
      "outputs": [
        {
          "output_type": "execute_result",
          "data": {
            "text/html": [
              "<div>\n",
              "<style scoped>\n",
              "    .dataframe tbody tr th:only-of-type {\n",
              "        vertical-align: middle;\n",
              "    }\n",
              "\n",
              "    .dataframe tbody tr th {\n",
              "        vertical-align: top;\n",
              "    }\n",
              "\n",
              "    .dataframe thead th {\n",
              "        text-align: right;\n",
              "    }\n",
              "</style>\n",
              "<table border=\"1\" class=\"dataframe\">\n",
              "  <thead>\n",
              "    <tr style=\"text-align: right;\">\n",
              "      <th></th>\n",
              "      <th>id</th>\n",
              "      <th>p</th>\n",
              "      <th>theta</th>\n",
              "      <th>beta</th>\n",
              "      <th>nphe</th>\n",
              "      <th>ein</th>\n",
              "      <th>eout</th>\n",
              "    </tr>\n",
              "  </thead>\n",
              "  <tbody>\n",
              "    <tr>\n",
              "      <th>0</th>\n",
              "      <td>211</td>\n",
              "      <td>0.780041</td>\n",
              "      <td>1.081480</td>\n",
              "      <td>0.989962</td>\n",
              "      <td>0</td>\n",
              "      <td>0.000000</td>\n",
              "      <td>0.000000</td>\n",
              "    </tr>\n",
              "    <tr>\n",
              "      <th>1</th>\n",
              "      <td>211</td>\n",
              "      <td>0.260929</td>\n",
              "      <td>0.778892</td>\n",
              "      <td>0.902450</td>\n",
              "      <td>0</td>\n",
              "      <td>0.000000</td>\n",
              "      <td>0.000000</td>\n",
              "    </tr>\n",
              "    <tr>\n",
              "      <th>2</th>\n",
              "      <td>2212</td>\n",
              "      <td>0.773022</td>\n",
              "      <td>0.185953</td>\n",
              "      <td>0.642428</td>\n",
              "      <td>4</td>\n",
              "      <td>0.101900</td>\n",
              "      <td>0.000000</td>\n",
              "    </tr>\n",
              "    <tr>\n",
              "      <th>3</th>\n",
              "      <td>211</td>\n",
              "      <td>0.476997</td>\n",
              "      <td>0.445561</td>\n",
              "      <td>0.951471</td>\n",
              "      <td>0</td>\n",
              "      <td>0.000000</td>\n",
              "      <td>0.000000</td>\n",
              "    </tr>\n",
              "    <tr>\n",
              "      <th>4</th>\n",
              "      <td>2212</td>\n",
              "      <td>2.123290</td>\n",
              "      <td>0.337332</td>\n",
              "      <td>0.908652</td>\n",
              "      <td>0</td>\n",
              "      <td>0.034379</td>\n",
              "      <td>0.049256</td>\n",
              "    </tr>\n",
              "  </tbody>\n",
              "</table>\n",
              "</div>"
            ],
            "text/plain": [
              "     id         p     theta      beta  nphe       ein      eout\n",
              "0   211  0.780041  1.081480  0.989962     0  0.000000  0.000000\n",
              "1   211  0.260929  0.778892  0.902450     0  0.000000  0.000000\n",
              "2  2212  0.773022  0.185953  0.642428     4  0.101900  0.000000\n",
              "3   211  0.476997  0.445561  0.951471     0  0.000000  0.000000\n",
              "4  2212  2.123290  0.337332  0.908652     0  0.034379  0.049256"
            ]
          },
          "metadata": {
            "tags": []
          },
          "execution_count": 36
        }
      ]
    },
    {
      "cell_type": "code",
      "metadata": {
        "colab_type": "code",
        "hidden": true,
        "id": "1lc1lU1xa87h",
        "outputId": "b90b3e70-15ef-4e64-fae9-3ba9ce7bbf1d",
        "colab": {
          "base_uri": "https://localhost:8080/",
          "height": 204
        }
      },
      "source": [
        "n_s = len(data)\n",
        "targets = list(set(data['id']))\n",
        "# mini_data = data.sample(n_s, axis=0, random_state=0)\n",
        "# data['target'] = data['id'].apply(lambda x: targets.index(x)) \n",
        "data['id'] = pd.Categorical(data.id)\n",
        "# data.drop('id',axis=1, inplace=True)\n",
        "\n",
        "data.head()"
      ],
      "execution_count": 37,
      "outputs": [
        {
          "output_type": "execute_result",
          "data": {
            "text/html": [
              "<div>\n",
              "<style scoped>\n",
              "    .dataframe tbody tr th:only-of-type {\n",
              "        vertical-align: middle;\n",
              "    }\n",
              "\n",
              "    .dataframe tbody tr th {\n",
              "        vertical-align: top;\n",
              "    }\n",
              "\n",
              "    .dataframe thead th {\n",
              "        text-align: right;\n",
              "    }\n",
              "</style>\n",
              "<table border=\"1\" class=\"dataframe\">\n",
              "  <thead>\n",
              "    <tr style=\"text-align: right;\">\n",
              "      <th></th>\n",
              "      <th>id</th>\n",
              "      <th>p</th>\n",
              "      <th>theta</th>\n",
              "      <th>beta</th>\n",
              "      <th>nphe</th>\n",
              "      <th>ein</th>\n",
              "      <th>eout</th>\n",
              "    </tr>\n",
              "  </thead>\n",
              "  <tbody>\n",
              "    <tr>\n",
              "      <th>0</th>\n",
              "      <td>211</td>\n",
              "      <td>0.780041</td>\n",
              "      <td>1.081480</td>\n",
              "      <td>0.989962</td>\n",
              "      <td>0</td>\n",
              "      <td>0.000000</td>\n",
              "      <td>0.000000</td>\n",
              "    </tr>\n",
              "    <tr>\n",
              "      <th>1</th>\n",
              "      <td>211</td>\n",
              "      <td>0.260929</td>\n",
              "      <td>0.778892</td>\n",
              "      <td>0.902450</td>\n",
              "      <td>0</td>\n",
              "      <td>0.000000</td>\n",
              "      <td>0.000000</td>\n",
              "    </tr>\n",
              "    <tr>\n",
              "      <th>2</th>\n",
              "      <td>2212</td>\n",
              "      <td>0.773022</td>\n",
              "      <td>0.185953</td>\n",
              "      <td>0.642428</td>\n",
              "      <td>4</td>\n",
              "      <td>0.101900</td>\n",
              "      <td>0.000000</td>\n",
              "    </tr>\n",
              "    <tr>\n",
              "      <th>3</th>\n",
              "      <td>211</td>\n",
              "      <td>0.476997</td>\n",
              "      <td>0.445561</td>\n",
              "      <td>0.951471</td>\n",
              "      <td>0</td>\n",
              "      <td>0.000000</td>\n",
              "      <td>0.000000</td>\n",
              "    </tr>\n",
              "    <tr>\n",
              "      <th>4</th>\n",
              "      <td>2212</td>\n",
              "      <td>2.123290</td>\n",
              "      <td>0.337332</td>\n",
              "      <td>0.908652</td>\n",
              "      <td>0</td>\n",
              "      <td>0.034379</td>\n",
              "      <td>0.049256</td>\n",
              "    </tr>\n",
              "  </tbody>\n",
              "</table>\n",
              "</div>"
            ],
            "text/plain": [
              "     id         p     theta      beta  nphe       ein      eout\n",
              "0   211  0.780041  1.081480  0.989962     0  0.000000  0.000000\n",
              "1   211  0.260929  0.778892  0.902450     0  0.000000  0.000000\n",
              "2  2212  0.773022  0.185953  0.642428     4  0.101900  0.000000\n",
              "3   211  0.476997  0.445561  0.951471     0  0.000000  0.000000\n",
              "4  2212  2.123290  0.337332  0.908652     0  0.034379  0.049256"
            ]
          },
          "metadata": {
            "tags": []
          },
          "execution_count": 37
        }
      ]
    },
    {
      "cell_type": "code",
      "metadata": {
        "id": "NrPV5zhTMHWy",
        "colab_type": "code",
        "colab": {}
      },
      "source": [
        "from sklearn.model_selection import train_test_split\n",
        "Y_oh = keras.utils.to_categorical(data.id.cat.codes, num_classes=4, dtype=int)\n",
        "ind_to_keep = ['p', 'beta']\n",
        "X = data[ind_to_keep].values\n",
        "\n",
        "X_train, X_test, Y_train, Y_test = train_test_split( data[ind_to_keep], Y_oh, random_state=0)"
      ],
      "execution_count": 0,
      "outputs": []
    },
    {
      "cell_type": "code",
      "metadata": {
        "colab_type": "code",
        "hidden": true,
        "id": "mQYrlegQe7lW",
        "outputId": "31624c5d-d3d3-4a92-a5a0-36974c3b661b",
        "colab": {
          "base_uri": "https://localhost:8080/",
          "height": 34
        }
      },
      "source": [
        "Y_train.shape"
      ],
      "execution_count": 40,
      "outputs": [
        {
          "output_type": "execute_result",
          "data": {
            "text/plain": [
              "(3750000, 4)"
            ]
          },
          "metadata": {
            "tags": []
          },
          "execution_count": 40
        }
      ]
    },
    {
      "cell_type": "code",
      "metadata": {
        "id": "Cm7dqIvHM6tL",
        "colab_type": "code",
        "colab": {}
      },
      "source": [
        ""
      ],
      "execution_count": 0,
      "outputs": []
    }
  ]
}