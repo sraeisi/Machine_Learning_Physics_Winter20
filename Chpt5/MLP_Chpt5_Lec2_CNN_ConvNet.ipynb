{
 "cells": [
  {
   "cell_type": "code",
   "execution_count": 1,
   "metadata": {
    "ExecuteTime": {
     "end_time": "2020-05-12T11:31:02.231750Z",
     "start_time": "2020-05-12T11:30:53.869056Z"
    },
    "colab": {},
    "colab_type": "code",
    "id": "XyaKzVDuXLmF"
   },
   "outputs": [],
   "source": [
    "import numpy as np\n",
    "import matplotlib.pyplot as plt\n",
    "plt.style.use('seaborn-talk')\n",
    "\n",
    "from urllib.request import urlopen\n",
    "from imageio import imread\n",
    "import requests\n",
    "import io\n",
    "\n",
    "import cv2 \n",
    "import os\n",
    "\n",
    "\n",
    "import warnings\n",
    "warnings.filterwarnings('ignore')\n",
    "\n",
    "# TensorFlow and tf.keras\n",
    "import tensorflow as tf\n",
    "from tensorflow import keras\n",
    "\n",
    "gpus = tf.config.experimental.list_physical_devices('GPU')\n",
    "# print(gpus)\n",
    "\n",
    "tf.config.experimental.set_memory_growth(gpus[0] , True)\n",
    "\n",
    "from time import time\n"
   ]
  },
  {
   "cell_type": "markdown",
   "metadata": {
    "colab_type": "text",
    "id": "vPUjDX8ABoGc"
   },
   "source": [
    "## Farsi Hand-written digits classification"
   ]
  },
  {
   "cell_type": "code",
   "execution_count": 2,
   "metadata": {
    "ExecuteTime": {
     "end_time": "2020-05-12T11:31:06.025426Z",
     "start_time": "2020-05-12T11:31:02.277278Z"
    },
    "colab": {},
    "colab_type": "code",
    "id": "FE54NJdSXplU"
   },
   "outputs": [],
   "source": [
    "# url = 'https://raw.githubusercontent.com/sraeisi/MachineLearning_Physics/master/Assignments/A3/X.npz'\n",
    "# s=requests.get(url, stream=True).content\n",
    "# X = np.load(io.BytesIO(s) )['arr_0']\n",
    "# url = 'https://raw.githubusercontent.com/sraeisi/MachineLearning_Physics/master/Assignments/A3/Y.npz'\n",
    "# s=requests.get(url, stream=True).content\n",
    "# Y = np.load(io.BytesIO(s) )['arr_0']\n",
    "\n",
    "X = np.load('X.npz')['arr_0']\n",
    "Y = np.load('Y.npz')['arr_0']\n",
    "\n",
    "from sklearn.utils import shuffle\n",
    "X, Y = shuffle(X,Y, random_state = 0 )"
   ]
  },
  {
   "cell_type": "code",
   "execution_count": 14,
   "metadata": {
    "ExecuteTime": {
     "end_time": "2020-05-12T10:09:23.810557Z",
     "start_time": "2020-05-12T10:09:23.440775Z"
    }
   },
   "outputs": [
    {
     "data": {
      "image/png": "[encoded data removed]",
      "text/plain": [
       "<Figure size 720x360 with 1 Axes>"
      ]
     },
     "metadata": {
      "needs_background": "light"
     },
     "output_type": "display_data"
    }
   ],
   "source": [
    "rand_ind = np.random.randint(0,len(Y) )\n",
    "\n",
    "fig = plt.figure(figsize=(10, 5))\n",
    "ax = fig.add_subplot(1,1,1, title =f'For this sample, the label is:\\n {Y[rand_ind]}' )\n",
    "ax.imshow(X[rand_ind])\n",
    "plt.show()"
   ]
  },
  {
   "cell_type": "code",
   "execution_count": 15,
   "metadata": {
    "ExecuteTime": {
     "end_time": "2020-05-12T10:09:27.108961Z",
     "start_time": "2020-05-12T10:09:27.097946Z"
    },
    "colab": {
     "base_uri": "https://localhost:8080/",
     "height": 34
    },
    "colab_type": "code",
    "id": "ldLimT4BXqVg",
    "outputId": "60b8b7f9-bfa7-4229-ed56-ea5a0ed31210"
   },
   "outputs": [
    {
     "name": "stdout",
     "output_type": "stream",
     "text": [
      "Each image is of the form: (32, 32)\n"
     ]
    }
   ],
   "source": [
    "print('Each image is of the form: {}'.format(X[0].shape ) )"
   ]
  },
  {
   "cell_type": "code",
   "execution_count": 3,
   "metadata": {
    "ExecuteTime": {
     "end_time": "2020-05-12T11:31:06.660690Z",
     "start_time": "2020-05-12T11:31:06.077943Z"
    },
    "colab": {},
    "colab_type": "code",
    "id": "FyNX5FJRXx9V"
   },
   "outputs": [],
   "source": [
    "from sklearn.model_selection import train_test_split\n",
    "from sklearn.metrics import confusion_matrix\n",
    "\n",
    "X_train, X_test, Y_train, Y_test = train_test_split(X, Y, random_state=0)"
   ]
  },
  {
   "cell_type": "code",
   "execution_count": 4,
   "metadata": {
    "ExecuteTime": {
     "end_time": "2020-05-12T11:31:06.740521Z",
     "start_time": "2020-05-12T11:31:06.733149Z"
    }
   },
   "outputs": [],
   "source": [
    "n_w , n_h = X[0].shape"
   ]
  },
  {
   "cell_type": "code",
   "execution_count": 5,
   "metadata": {
    "ExecuteTime": {
     "end_time": "2020-05-12T11:31:08.949467Z",
     "start_time": "2020-05-12T11:31:06.809341Z"
    },
    "colab": {
     "base_uri": "https://localhost:8080/",
     "height": 238
    },
    "colab_type": "code",
    "id": "WSXG5PFOXtQC",
    "outputId": "2332890a-efc6-4b55-e017-916f52a5ccb5"
   },
   "outputs": [
    {
     "name": "stdout",
     "output_type": "stream",
     "text": [
      "Model: \"sequential\"\n",
      "_________________________________________________________________\n",
      "Layer (type)                 Output Shape              Param #   \n",
      "=================================================================\n",
      "flatten (Flatten)            (None, 1024)              0         \n",
      "_________________________________________________________________\n",
      "dense (Dense)                (None, 128)               131200    \n",
      "_________________________________________________________________\n",
      "dense_1 (Dense)              (None, 10)                1290      \n",
      "=================================================================\n",
      "Total params: 132,490\n",
      "Trainable params: 132,490\n",
      "Non-trainable params: 0\n",
      "_________________________________________________________________\n"
     ]
    }
   ],
   "source": [
    "from tensorflow.keras import layers\n",
    "from tensorflow.keras import models\n",
    "\n",
    "model = models.Sequential()\n",
    "model.add(layers.Flatten(input_shape=(n_w , n_h) ))\n",
    "model.add(layers.Dense(128, activation='relu'))\n",
    "model.add(layers.Dense(10, activation='softmax'))\n",
    "\n",
    "model.compile(optimizer='adam', \n",
    "              loss='sparse_categorical_crossentropy',\n",
    "              metrics=['accuracy'])\n",
    "\n",
    "model.summary()\n"
   ]
  },
  {
   "cell_type": "code",
   "execution_count": 6,
   "metadata": {
    "ExecuteTime": {
     "end_time": "2020-05-12T11:31:35.705143Z",
     "start_time": "2020-05-12T11:31:35.697030Z"
    }
   },
   "outputs": [],
   "source": [
    "my_callbacks = [\n",
    "    tf.keras.callbacks.EarlyStopping(patience=2, monitor=\"val_loss\"),\n",
    "    tf.keras.callbacks.ModelCheckpoint(filepath='model.{epoch:02d}-{val_loss:.2f}.h5', \n",
    "                                       monitor='val_acc',\n",
    "                                       mode='max',\n",
    "                                       save_best_only=True),\n",
    "    tf.keras.callbacks.TensorBoard(log_dir=f'logs_{model.name}', update_freq=100),\n",
    "]"
   ]
  },
  {
   "cell_type": "code",
   "execution_count": 8,
   "metadata": {
    "ExecuteTime": {
     "end_time": "2020-05-12T11:32:51.773758Z",
     "start_time": "2020-05-12T11:32:20.291548Z"
    },
    "colab": {
     "base_uri": "https://localhost:8080/",
     "height": 204
    },
    "colab_type": "code",
    "id": "RPYBp6g9Xy23",
    "outputId": "1dced5be-f287-4514-f666-7c38073cc5df"
   },
   "outputs": [
    {
     "name": "stdout",
     "output_type": "stream",
     "text": [
      "Train on 76764 samples, validate on 25588 samples\n",
      "Epoch 1/20\n",
      "73728/76764 [===========================>..] - ETA: 0s - loss: 0.3260 - accuracy: 0.9103WARNING:tensorflow:Can save best model only with val_acc available, skipping.\n",
      "76764/76764 [==============================] - 3s 43us/sample - loss: 0.3192 - accuracy: 0.9121 - val_loss: 0.1560 - val_accuracy: 0.9563\n",
      "Epoch 2/20\n",
      "75776/76764 [============================>.] - ETA: 0s - loss: 0.1217 - accuracy: 0.9669WARNING:tensorflow:Can save best model only with val_acc available, skipping.\n",
      "76764/76764 [==============================] - 2s 23us/sample - loss: 0.1212 - accuracy: 0.9671 - val_loss: 0.1137 - val_accuracy: 0.9698\n",
      "Epoch 3/20\n",
      "75264/76764 [============================>.] - ETA: 0s - loss: 0.0861 - accuracy: 0.9769WARNING:tensorflow:Can save best model only with val_acc available, skipping.\n",
      "76764/76764 [==============================] - 2s 23us/sample - loss: 0.0860 - accuracy: 0.9770 - val_loss: 0.0921 - val_accuracy: 0.9740\n",
      "Epoch 4/20\n",
      "75776/76764 [============================>.] - ETA: 0s - loss: 0.0650 - accuracy: 0.9824WARNING:tensorflow:Can save best model only with val_acc available, skipping.\n",
      "76764/76764 [==============================] - 2s 26us/sample - loss: 0.0652 - accuracy: 0.9824 - val_loss: 0.0793 - val_accuracy: 0.9770\n",
      "Epoch 5/20\n",
      "74240/76764 [============================>.] - ETA: 0s - loss: 0.0524 - accuracy: 0.9860WARNING:tensorflow:Can save best model only with val_acc available, skipping.\n",
      "76764/76764 [==============================] - 2s 26us/sample - loss: 0.0519 - accuracy: 0.9861 - val_loss: 0.0694 - val_accuracy: 0.9798\n",
      "Epoch 6/20\n",
      "75264/76764 [============================>.] - ETA: 0s - loss: 0.0414 - accuracy: 0.9890WARNING:tensorflow:Can save best model only with val_acc available, skipping.\n",
      "76764/76764 [==============================] - 2s 26us/sample - loss: 0.0415 - accuracy: 0.9890 - val_loss: 0.0649 - val_accuracy: 0.9807\n",
      "Epoch 7/20\n",
      "76288/76764 [============================>.] - ETA: 0s - loss: 0.0344 - accuracy: 0.9910WARNING:tensorflow:Can save best model only with val_acc available, skipping.\n",
      "76764/76764 [==============================] - 2s 25us/sample - loss: 0.0345 - accuracy: 0.9910 - val_loss: 0.0610 - val_accuracy: 0.9816\n",
      "Epoch 8/20\n",
      "73728/76764 [===========================>..] - ETA: 0s - loss: 0.0291 - accuracy: 0.9923WARNING:tensorflow:Can save best model only with val_acc available, skipping.\n",
      "76764/76764 [==============================] - 2s 26us/sample - loss: 0.0292 - accuracy: 0.9923 - val_loss: 0.0594 - val_accuracy: 0.9825\n",
      "Epoch 9/20\n",
      "74752/76764 [============================>.] - ETA: 0s - loss: 0.0241 - accuracy: 0.9940WARNING:tensorflow:Can save best model only with val_acc available, skipping.\n",
      "76764/76764 [==============================] - 2s 26us/sample - loss: 0.0241 - accuracy: 0.9940 - val_loss: 0.0566 - val_accuracy: 0.9834\n",
      "Epoch 10/20\n",
      "73728/76764 [===========================>..] - ETA: 0s - loss: 0.0193 - accuracy: 0.9954WARNING:tensorflow:Can save best model only with val_acc available, skipping.\n",
      "76764/76764 [==============================] - 2s 25us/sample - loss: 0.0193 - accuracy: 0.9954 - val_loss: 0.0547 - val_accuracy: 0.9841\n",
      "Epoch 11/20\n",
      "73728/76764 [===========================>..] - ETA: 0s - loss: 0.0166 - accuracy: 0.9961WARNING:tensorflow:Can save best model only with val_acc available, skipping.\n",
      "76764/76764 [==============================] - 2s 26us/sample - loss: 0.0166 - accuracy: 0.9961 - val_loss: 0.0551 - val_accuracy: 0.9837\n",
      "Epoch 12/20\n",
      "75776/76764 [============================>.] - ETA: 0s - loss: 0.0136 - accuracy: 0.9972WARNING:tensorflow:Can save best model only with val_acc available, skipping.\n",
      "76764/76764 [==============================] - 2s 25us/sample - loss: 0.0137 - accuracy: 0.9971 - val_loss: 0.0546 - val_accuracy: 0.9837\n",
      "Epoch 13/20\n",
      "76288/76764 [============================>.] - ETA: 0s - loss: 0.0111 - accuracy: 0.9978WARNING:tensorflow:Can save best model only with val_acc available, skipping.\n",
      "76764/76764 [==============================] - 2s 23us/sample - loss: 0.0111 - accuracy: 0.9978 - val_loss: 0.0535 - val_accuracy: 0.9847\n",
      "Epoch 14/20\n",
      "75264/76764 [============================>.] - ETA: 0s - loss: 0.0092 - accuracy: 0.9985WARNING:tensorflow:Can save best model only with val_acc available, skipping.\n",
      "76764/76764 [==============================] - 2s 24us/sample - loss: 0.0092 - accuracy: 0.9985 - val_loss: 0.0538 - val_accuracy: 0.9850\n",
      "Epoch 15/20\n",
      "74752/76764 [============================>.] - ETA: 0s - loss: 0.0079 - accuracy: 0.9988WARNING:tensorflow:Can save best model only with val_acc available, skipping.\n",
      "76764/76764 [==============================] - 2s 22us/sample - loss: 0.0079 - accuracy: 0.9988 - val_loss: 0.0542 - val_accuracy: 0.9852\n"
     ]
    }
   ],
   "source": [
    "history = model.fit(X_train,Y_train, \n",
    "                    epochs=20, batch_size = 512, \n",
    "                    validation_data = (X_test, Y_test), \n",
    "                    callbacks=my_callbacks)"
   ]
  },
  {
   "cell_type": "code",
   "execution_count": 9,
   "metadata": {
    "ExecuteTime": {
     "end_time": "2020-05-12T11:33:20.047950Z",
     "start_time": "2020-05-12T11:33:17.860066Z"
    },
    "colab": {
     "base_uri": "https://localhost:8080/",
     "height": 187
    },
    "colab_type": "code",
    "id": "soJviX78X19-",
    "outputId": "faf10bec-b255-42a1-f928-52c2b3916c4f"
   },
   "outputs": [
    {
     "name": "stdout",
     "output_type": "stream",
     "text": [
      "[[2517    0    2    0    1   16    0    0    0    0]\n",
      " [   1 2503    4    0    1    0    1    0    0    1]\n",
      " [   3    9 2443   21    9    0    6    5    0    4]\n",
      " [   2    0   56 2450   35    1    0    0    0    0]\n",
      " [   6    3   14   22 2624   12    8    3    0    0]\n",
      " [   7    1    1    1    3 2479    1    0    3    1]\n",
      " [   1    4    1    0    7    1 2571    4    2   17]\n",
      " [   2    3    1    1    4    3    7 2587    0    0]\n",
      " [   2    4    0    1    1    2    1    1 2525   11]\n",
      " [   0   11    0    0    2    0   16    0    4 2511]]\n"
     ]
    }
   ],
   "source": [
    "Y_predicted = np.argmax( model.predict(X_test) , axis=1 )\n",
    "cm = confusion_matrix(Y_test, Y_predicted)\n",
    "print(cm)"
   ]
  },
  {
   "cell_type": "code",
   "execution_count": 11,
   "metadata": {
    "ExecuteTime": {
     "end_time": "2020-05-12T11:34:30.537843Z",
     "start_time": "2020-05-12T11:34:30.529640Z"
    }
   },
   "outputs": [],
   "source": [
    "!tensorboard --logdir=f'logs_{model.name}'"
   ]
  },
  {
   "cell_type": "markdown",
   "metadata": {
    "colab_type": "text",
    "id": "RqfxR2sWVCW6"
   },
   "source": [
    "## Convnet"
   ]
  },
  {
   "cell_type": "code",
   "execution_count": 0,
   "metadata": {
    "colab": {
     "base_uri": "https://localhost:8080/",
     "height": 34
    },
    "colab_type": "code",
    "id": "TK3q5d4RVXqx",
    "outputId": "e8387a0c-1d33-4eaf-88ba-12a452e442b6"
   },
   "outputs": [
    {
     "data": {
      "text/plain": [
       "(32, 32)"
      ]
     },
     "execution_count": 10,
     "metadata": {
      "tags": []
     },
     "output_type": "execute_result"
    }
   ],
   "source": [
    "X_train[0].shape"
   ]
  },
  {
   "cell_type": "code",
   "execution_count": 21,
   "metadata": {
    "ExecuteTime": {
     "end_time": "2020-05-12T11:46:12.772413Z",
     "start_time": "2020-05-12T11:46:12.320690Z"
    },
    "colab": {
     "base_uri": "https://localhost:8080/",
     "height": 442
    },
    "colab_type": "code",
    "id": "YANB90b-VFEl",
    "outputId": "0cecd490-f18d-44f0-c123-dba8017620e3"
   },
   "outputs": [
    {
     "name": "stdout",
     "output_type": "stream",
     "text": [
      "Model: \"sequential_3\"\n",
      "_________________________________________________________________\n",
      "Layer (type)                 Output Shape              Param #   \n",
      "=================================================================\n",
      "conv2d_5 (Conv2D)            (None, 30, 30, 16)        160       \n",
      "_________________________________________________________________\n",
      "max_pooling2d_5 (MaxPooling2 (None, 15, 15, 16)        0         \n",
      "_________________________________________________________________\n",
      "conv2d_6 (Conv2D)            (None, 13, 13, 32)        4640      \n",
      "_________________________________________________________________\n",
      "max_pooling2d_6 (MaxPooling2 (None, 4, 4, 32)          0         \n",
      "_________________________________________________________________\n",
      "conv2d_7 (Conv2D)            (None, 2, 2, 64)          18496     \n",
      "_________________________________________________________________\n",
      "max_pooling2d_7 (MaxPooling2 (None, 1, 1, 64)          0         \n",
      "_________________________________________________________________\n",
      "flatten_3 (Flatten)          (None, 64)                0         \n",
      "_________________________________________________________________\n",
      "dense_6 (Dense)              (None, 64)                4160      \n",
      "_________________________________________________________________\n",
      "dense_7 (Dense)              (None, 10)                650       \n",
      "=================================================================\n",
      "Total params: 28,106\n",
      "Trainable params: 28,106\n",
      "Non-trainable params: 0\n",
      "_________________________________________________________________\n"
     ]
    }
   ],
   "source": [
    "n_w , n_h = X[0].shape\n",
    "# from keras import layers\n",
    "# from keras import models\n",
    "\n",
    "model = models.Sequential()\n",
    "\n",
    "model.add(layers.Conv2D(16, (3, 3), activation='relu', input_shape=(n_w , n_h, 1)))\n",
    "model.add(layers.MaxPooling2D((2, 2)))\n",
    "\n",
    "model.add(layers.Conv2D(32, (3, 3), activation='relu'))\n",
    "model.add(layers.MaxPooling2D((3, 3)))\n",
    "\n",
    "model.add(layers.Conv2D(64, (3, 3), activation='relu'))\n",
    "model.add(layers.MaxPooling2D((2, 2)))\n",
    "\n",
    "model.add(layers.Flatten())\n",
    "\n",
    "model.add(layers.Dense(64, activation='relu'))\n",
    "model.add(layers.Dense(10, activation='softmax'))\n",
    "\n",
    "\n",
    "model.compile(optimizer='adam', \n",
    "              loss='sparse_categorical_crossentropy',\n",
    "              metrics=['accuracy'])\n",
    "\n",
    "model.summary()"
   ]
  },
  {
   "cell_type": "code",
   "execution_count": 15,
   "metadata": {
    "ExecuteTime": {
     "end_time": "2020-05-12T11:41:16.949068Z",
     "start_time": "2020-05-12T11:41:16.939539Z"
    }
   },
   "outputs": [],
   "source": [
    "## Data needs to be reshaped for the convolution layers. \n",
    "X_train = X_train.reshape(-1, n_w, n_h, 1)\n",
    "X_test = X_test.reshape(-1, n_w, n_h, 1)"
   ]
  },
  {
   "cell_type": "code",
   "execution_count": 22,
   "metadata": {
    "ExecuteTime": {
     "end_time": "2020-05-12T11:46:18.745706Z",
     "start_time": "2020-05-12T11:46:18.734663Z"
    }
   },
   "outputs": [],
   "source": [
    "my_callbacks = [\n",
    "    tf.keras.callbacks.EarlyStopping(patience=2, monitor=\"val_loss\"),\n",
    "    tf.keras.callbacks.ModelCheckpoint(filepath='model_cnn.{epoch:02d}-{val_loss:.2f}.h5', \n",
    "                                       monitor='val_acc',\n",
    "                                       mode='max',\n",
    "                                       save_best_only=True),\n",
    "    tf.keras.callbacks.TensorBoard(log_dir=f'logs_cnn_{model.name}', \n",
    "                                   histogram_freq=1,  \n",
    "#                                    write_images=True, \n",
    "#                                    write_graph=True,\n",
    "                                   update_freq=100 )\n",
    "]"
   ]
  },
  {
   "cell_type": "code",
   "execution_count": 23,
   "metadata": {
    "ExecuteTime": {
     "end_time": "2020-05-12T11:47:32.646824Z",
     "start_time": "2020-05-12T11:46:24.070576Z"
    },
    "colab": {
     "base_uri": "https://localhost:8080/",
     "height": 204
    },
    "colab_type": "code",
    "id": "RPYBp6g9Xy23",
    "outputId": "1dced5be-f287-4514-f666-7c38073cc5df"
   },
   "outputs": [
    {
     "name": "stdout",
     "output_type": "stream",
     "text": [
      "Train on 76764 samples, validate on 25588 samples\n",
      "Epoch 1/20\n",
      "76544/76764 [============================>.] - ETA: 0s - loss: 0.3710 - accuracy: 0.8969WARNING:tensorflow:Can save best model only with val_acc available, skipping.\n",
      "76764/76764 [==============================] - 7s 91us/sample - loss: 0.3701 - accuracy: 0.8971 - val_loss: 0.0758 - val_accuracy: 0.9769\n",
      "Epoch 2/20\n",
      "75776/76764 [============================>.] - ETA: 0s - loss: 0.0566 - accuracy: 0.9820WARNING:tensorflow:Can save best model only with val_acc available, skipping.\n",
      "76764/76764 [==============================] - 5s 68us/sample - loss: 0.0564 - accuracy: 0.9821 - val_loss: 0.0400 - val_accuracy: 0.9874\n",
      "Epoch 3/20\n",
      "76032/76764 [============================>.] - ETA: 0s - loss: 0.0376 - accuracy: 0.9880WARNING:tensorflow:Can save best model only with val_acc available, skipping.\n",
      "76764/76764 [==============================] - 5s 70us/sample - loss: 0.0374 - accuracy: 0.9881 - val_loss: 0.0377 - val_accuracy: 0.9883\n",
      "Epoch 4/20\n",
      "76288/76764 [============================>.] - ETA: 0s - loss: 0.0299 - accuracy: 0.9907WARNING:tensorflow:Can save best model only with val_acc available, skipping.\n",
      "76764/76764 [==============================] - 5s 60us/sample - loss: 0.0299 - accuracy: 0.9907 - val_loss: 0.0299 - val_accuracy: 0.9901\n",
      "Epoch 5/20\n",
      "76288/76764 [============================>.] - ETA: 0s - loss: 0.0247 - accuracy: 0.9925WARNING:tensorflow:Can save best model only with val_acc available, skipping.\n",
      "76764/76764 [==============================] - 5s 62us/sample - loss: 0.0248 - accuracy: 0.9924 - val_loss: 0.0248 - val_accuracy: 0.9919\n",
      "Epoch 6/20\n",
      "76288/76764 [============================>.] - ETA: 0s - loss: 0.0227 - accuracy: 0.9928WARNING:tensorflow:Can save best model only with val_acc available, skipping.\n",
      "76764/76764 [==============================] - 6s 72us/sample - loss: 0.0227 - accuracy: 0.9928 - val_loss: 0.0283 - val_accuracy: 0.9904\n",
      "Epoch 7/20\n",
      "76032/76764 [============================>.] - ETA: 0s - loss: 0.0181 - accuracy: 0.9946 ETA: 0s - loss: 0.0176 WARNING:tensorflow:Can save best model only with val_acc available, skipping.\n",
      "76764/76764 [==============================] - 5s 69us/sample - loss: 0.0180 - accuracy: 0.9946 - val_loss: 0.0239 - val_accuracy: 0.9921\n",
      "Epoch 8/20\n",
      "75776/76764 [============================>.] - ETA: 0s - loss: 0.0173 - accuracy: 0.9941WARNING:tensorflow:Can save best model only with val_acc available, skipping.\n",
      "76764/76764 [==============================] - 5s 66us/sample - loss: 0.0173 - accuracy: 0.9942 - val_loss: 0.0227 - val_accuracy: 0.9929\n",
      "Epoch 9/20\n",
      "76032/76764 [============================>.] - ETA: 0s - loss: 0.0144 - accuracy: 0.9953WARNING:tensorflow:Can save best model only with val_acc available, skipping.\n",
      "76764/76764 [==============================] - 5s 67us/sample - loss: 0.0144 - accuracy: 0.9953 - val_loss: 0.0249 - val_accuracy: 0.9926\n",
      "Epoch 10/20\n",
      "75776/76764 [============================>.] - ETA: 0s - loss: 0.0134 - accuracy: 0.9958WARNING:tensorflow:Can save best model only with val_acc available, skipping.\n",
      "76764/76764 [==============================] - 5s 66us/sample - loss: 0.0134 - accuracy: 0.9958 - val_loss: 0.0211 - val_accuracy: 0.9931\n",
      "Epoch 11/20\n",
      "76544/76764 [============================>.] - ETA: 0s - loss: 0.0129 - accuracy: 0.9957WARNING:tensorflow:Can save best model only with val_acc available, skipping.\n",
      "76764/76764 [==============================] - 5s 66us/sample - loss: 0.0128 - accuracy: 0.9957 - val_loss: 0.0177 - val_accuracy: 0.9943\n",
      "Epoch 12/20\n",
      "76544/76764 [============================>.] - ETA: 0s - loss: 0.0105 - accuracy: 0.9966WARNING:tensorflow:Can save best model only with val_acc available, skipping.\n",
      "76764/76764 [==============================] - 5s 68us/sample - loss: 0.0105 - accuracy: 0.9966 - val_loss: 0.0229 - val_accuracy: 0.9930\n",
      "Epoch 13/20\n",
      "76288/76764 [============================>.] - ETA: 0s - loss: 0.0088 - accuracy: 0.9971WARNING:tensorflow:Can save best model only with val_acc available, skipping.\n",
      "76764/76764 [==============================] - 5s 66us/sample - loss: 0.0088 - accuracy: 0.9971 - val_loss: 0.0184 - val_accuracy: 0.9945\n"
     ]
    }
   ],
   "source": [
    "history = model.fit(X_train,Y_train, \n",
    "                    epochs=20, batch_size = 256, \n",
    "                    callbacks=my_callbacks,                    \n",
    "                    validation_data = (X_test, Y_test) )"
   ]
  },
  {
   "cell_type": "code",
   "execution_count": 0,
   "metadata": {
    "colab": {
     "base_uri": "https://localhost:8080/",
     "height": 187
    },
    "colab_type": "code",
    "id": "QHxKv5_wVFKQ",
    "outputId": "7d2d71c8-4771-4eb6-a804-7a4a820963d0"
   },
   "outputs": [
    {
     "name": "stdout",
     "output_type": "stream",
     "text": [
      "[[2532    0    0    0    0    3    0    0    0    1]\n",
      " [   3 2502    3    0    0    0    0    0    1    2]\n",
      " [   2    0 2489    9    0    0    0    0    0    0]\n",
      " [   0    0   25 2512    5    0    2    0    0    0]\n",
      " [   0    0    8   21 2657    0    6    0    0    0]\n",
      " [   6    2    0    0    2 2470    4    0    5    8]\n",
      " [   0    0    5    0    5    2 2586    0    0   10]\n",
      " [   3    2    8    0    1    0    0 2594    0    0]\n",
      " [   0    2    0    0    1    1    0    0 2544    0]\n",
      " [   0    3    0    0    0    0    5    0    0 2536]]\n"
     ]
    }
   ],
   "source": [
    "Y_predicted = np.argmax( model.predict(X_test ), axis=1 )\n",
    "cm = confusion_matrix(Y_test, Y_predicted)\n",
    "print(cm)"
   ]
  },
  {
   "cell_type": "markdown",
   "metadata": {},
   "source": [
    "# Galaxy Zoo"
   ]
  },
  {
   "cell_type": "markdown",
   "metadata": {
    "ExecuteTime": {
     "end_time": "2020-05-12T08:45:05.016787Z",
     "start_time": "2020-05-12T08:45:04.924382Z"
    }
   },
   "source": [
    "The data here is take from the Galaxy Zoo II survey. For detailed information, see\n",
    "\n",
    "https://arxiv.org/pdf/1308.3496.pdf\n",
    "\n",
    "The labels are more involved. Here I simplified the classification problem in the sense that the labels here are only the answers to the first question in the survey, i.e. Is the galaxy simply smooth, and rounded, with no sign of a disk? \n",
    "\n",
    "answers: \n",
    "\n",
    "1. smooth, \n",
    "\n",
    "2. features or disk, \n",
    "\n",
    "3. star or artifact)."
   ]
  },
  {
   "cell_type": "code",
   "execution_count": 62,
   "metadata": {
    "ExecuteTime": {
     "end_time": "2020-05-12T08:45:44.984494Z",
     "start_time": "2020-05-12T08:45:44.251848Z"
    }
   },
   "outputs": [
    {
     "name": "stdout",
     "output_type": "stream",
     "text": [
      "(10000, 3)\n"
     ]
    }
   ],
   "source": [
    "import io, requests, zipfile\n",
    "import pandas as pd\n",
    "\n",
    "# url_x = \"https://www.dropbox.com/s/optw30o55q6mxlw/Cropped%26resized_GS_100_10000_withlabels.npz?dl=1\"\n",
    "# url_y = 'https://www.dropbox.com/s/ctjjap42qilhu9s/Y_1.csv?dl=1'\n",
    "\n",
    "### This file contains classes and the ids. \n",
    "# s=requests.get(url_y, stream=True).content\n",
    "# df = pd.read_csv(io.BytesIO(s), index_col=0) \n",
    "\n",
    "# ### This file contains images and the ids. \n",
    "# s=requests.get(url_x, stream=True).content\n",
    "# # d = np.load(io.BytesIO(s))\n",
    "\n",
    "path = 'C:\\\\Users\\\\sraeisi\\\\Documents\\\\Datasets\\\\Physics\\\\Galaxies\\\\Kaggle\\\\'\n",
    "\n",
    "d = np.load(path+'Cropped&resized_GS_100_10000_withlabels.npz')\n",
    "df = pd.read_csv(path+'Y_1.csv', index_col=0) \n",
    "\n",
    "X, ids = [d[f] for f in ['imgs','ids']]\n",
    "ids = ids.astype('float')\n",
    "\n",
    "### We can make the labels based on the ids in the X file.\n",
    "Y = df.loc[ids].values\n",
    "print(Y.shape)"
   ]
  },
  {
   "cell_type": "code",
   "execution_count": 63,
   "metadata": {
    "ExecuteTime": {
     "end_time": "2020-05-12T08:52:45.298791Z",
     "start_time": "2020-05-12T08:52:44.813977Z"
    }
   },
   "outputs": [
    {
     "data": {
      "image/png": "[encoded data removed]",
      "text/plain": [
       "<Figure size 720x360 with 1 Axes>"
      ]
     },
     "metadata": {
      "needs_background": "light"
     },
     "output_type": "display_data"
    }
   ],
   "source": [
    "rand_ind = np.random.randint(0,len(Y) )\n",
    "\n",
    "fig = plt.figure(figsize=(10, 5))\n",
    "ax = fig.add_subplot(1,1,1, title =f'For this sample, the label is:\\n {Y[rand_ind]}' )\n",
    "ax.imshow(X[rand_ind])\n",
    "plt.show()"
   ]
  },
  {
   "cell_type": "code",
   "execution_count": 0,
   "metadata": {
    "colab": {},
    "colab_type": "code",
    "id": "6e1cmJetbSqj"
   },
   "outputs": [],
   "source": [
    "'''Implement LeNet-5'''"
   ]
  }
 ],
 "metadata": {
  "accelerator": "GPU",
  "colab": {
   "collapsed_sections": [],
   "name": "Convnet.ipynb",
   "provenance": []
  },
  "kernelspec": {
   "display_name": "Python 3",
   "language": "python",
   "name": "python3"
  },
  "language_info": {
   "codemirror_mode": {
    "name": "ipython",
    "version": 3
   },
   "file_extension": ".py",
   "mimetype": "text/x-python",
   "name": "python",
   "nbconvert_exporter": "python",
   "pygments_lexer": "ipython3",
   "version": "3.6.10"
  },
  "latex_envs": {
   "LaTeX_envs_menu_present": true,
   "autoclose": false,
   "autocomplete": true,
   "bibliofile": "biblio.bib",
   "cite_by": "apalike",
   "current_citInitial": 1,
   "eqLabelWithNumbers": true,
   "eqNumInitial": 1,
   "hotkeys": {
    "equation": "Ctrl-E",
    "itemize": "Ctrl-I"
   },
   "labels_anchors": false,
   "latex_user_defs": false,
   "report_style_numbering": false,
   "user_envs_cfg": false
  },
  "toc": {
   "base_numbering": 1,
   "nav_menu": {},
   "number_sections": true,
   "sideBar": true,
   "skip_h1_title": false,
   "title_cell": "Table of Contents",
   "title_sidebar": "Contents",
   "toc_cell": false,
   "toc_position": {},
   "toc_section_display": true,
   "toc_window_display": false
  },
  "varInspector": {
   "cols": {
    "lenName": 16,
    "lenType": 16,
    "lenVar": 40
   },
   "kernels_config": {
    "python": {
     "delete_cmd_postfix": "",
     "delete_cmd_prefix": "del ",
     "library": "var_list.py",
     "varRefreshCmd": "print(var_dic_list())"
    },
    "r": {
     "delete_cmd_postfix": ") ",
     "delete_cmd_prefix": "rm(",
     "library": "var_list.r",
     "varRefreshCmd": "cat(var_dic_list()) "
    }
   },
   "types_to_exclude": [
    "module",
    "function",
    "builtin_function_or_method",
    "instance",
    "_Feature"
   ],
   "window_display": false
  }
 },
 "nbformat": 4,
 "nbformat_minor": 1
}
